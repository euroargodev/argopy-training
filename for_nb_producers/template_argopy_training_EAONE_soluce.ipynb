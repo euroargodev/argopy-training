{
 "cells": [
  {
   "attachments": {},
   "cell_type": "markdown",
   "id": "b1b9c837-bb0b-47f3-a756-9737fa99659d",
   "metadata": {
    "editable": true,
    "slideshow": {
     "slide_type": ""
    },
    "tags": []
   },
   "source": [
    "<img src=\"https://raw.githubusercontent.com/euroargodev/argopy/master/docs/_static/argopy_logo_long.png\" alt=\"argopy logo\" width=\"200\"/>\n",
    "\n",
    "# Training Camp - Sept 22<sup>th</sup> 2025\n",
    "\n",
    "***\n",
    "\n",
    "## Notebook Title : \n",
    "\n",
    "**Author contact : [NAME](https://webpage)**\n",
    "\n",
    "**Description:**\n",
    "\n",
    "Lorem Ipsum\n",
    "\n",
    "*This notebook was developed with Argopy version: 1.3*\n",
    "\n",
    "***"
   ]
  },
  {
   "cell_type": "markdown",
   "id": "4253500e-9e2f-4a60-afeb-b236e1fd99f5",
   "metadata": {},
   "source": [
    "Let's start with the usual import:"
   ]
  },
  {
   "cell_type": "code",
   "id": "268b0572-2fcc-459d-ad8e-1589eeb24f84",
   "metadata": {},
   "source": [
    "from argopy import DataFetcher"
   ],
   "outputs": [],
   "execution_count": null
  },
  {
   "cell_type": "markdown",
   "id": "b70c7008-fa70-497f-9ae8-33cf697e5834",
   "metadata": {},
   "source": [
    "And to prevent cell output to be too large, we won't display xarray object attributes:"
   ]
  },
  {
   "cell_type": "code",
   "id": "48f25f46-fb21-40f2-90b7-0ee9d213fde6",
   "metadata": {},
   "source": [
    "import xarray as xr\n",
    "xr.set_options(display_expand_attrs = False)"
   ],
   "outputs": [],
   "execution_count": null
  },
  {
   "cell_type": "markdown",
   "id": "88cf0f58-5f76-44df-9b72-a5f693852e97",
   "metadata": {},
   "source": [
    "### TUTO CONTENT"
   ]
  },
  {
   "cell_type": "markdown",
   "id": "7010980e-b12e-4205-bae5-1e4f36904e89",
   "metadata": {},
   "source": [
    "feature lorem ipsum"
   ]
  },
  {
   "cell_type": "markdown",
   "id": "af9a3f2e-fed7-464a-8ffd-9c33bc2ff1ac",
   "metadata": {},
   "source": [
    "#### 🛟 NOTE\n",
    "\n",
    "Lorem ipsum"
   ]
  },
  {
   "cell_type": "markdown",
   "id": "cdb457aa-b74d-4c7e-8e5e-7a22fa126c87",
   "metadata": {
    "editable": true,
    "slideshow": {
     "slide_type": ""
    },
    "tags": []
   },
   "source": [
    "#### ✏️ EXERCICE\n",
    "\n",
    "Lorem ipsum\n",
    "\n",
    "💡 Code hint:\n",
    "```python\n",
    "ds = DataFetcher(params=...\n",
    "ds.argo\n",
    "```"
   ]
  },
  {
   "cell_type": "code",
   "id": "36c08a8d-fbe8-4b99-b6ee-0ed628f0c907",
   "metadata": {
    "editable": true,
    "slideshow": {
     "slide_type": ""
    },
    "tags": []
   },
   "source": "# Your code",
   "outputs": [],
   "execution_count": null
  },
  {
   "cell_type": "markdown",
   "id": "13378ad1-6bc3-415c-97f1-2b8d821801aa",
   "metadata": {
    "editable": true,
    "slideshow": {
     "slide_type": ""
    },
    "tags": []
   },
   "source": [
    "#### 🔍 Pro tip\n",
    "\n",
    "Lorem ipsum\n",
    "\n",
    "```python\n",
    "DataFetcher().uri\n",
    "```"
   ]
  },
  {
   "cell_type": "markdown",
   "id": "c125613d-69bd-49f2-9e5a-c49180f5ae7e",
   "metadata": {},
   "source": [
    "### \n",
    "***\n",
    "Useful argopy commands:"
   ]
  },
  {
   "cell_type": "code",
   "id": "d70a407f-12d2-451d-b35e-6d1cfbf971e8",
   "metadata": {},
   "source": [
    "# argopy.show_versions()\n",
    "# argopy.reset_options()\n",
    "# argopy.show_options()\n",
    "# argopy.clear_cache()\n",
    "# argopy.status()"
   ],
   "outputs": [],
   "execution_count": null
  },
  {
   "cell_type": "markdown",
   "id": "873f5d53-0baa-43f8-8124-152820ace785",
   "metadata": {
    "tags": [
     "disclaimer"
    ]
   },
   "source": [
    "***\n",
    "![logo](https://raw.githubusercontent.com/euroargodev/argopy-training/refs/heads/main/for_nb_producers/template_argopy_training_EAONE.png)"
   ]
  }
 ],
 "metadata": {
  "kernelspec": {
   "display_name": "argopy-training",
   "language": "python",
   "name": "argopy-training"
  },
  "language_info": {
   "codemirror_mode": {
    "name": "ipython",
    "version": 3
   },
   "file_extension": ".py",
   "mimetype": "text/x-python",
   "name": "python",
   "nbconvert_exporter": "python",
   "pygments_lexer": "ipython3",
   "version": "3.11.13"
  },
  "widgets": {
   "application/vnd.jupyter.widget-state+json": {
    "state": {},
    "version_major": 2,
    "version_minor": 0
   }
  }
 },
 "nbformat": 4,
 "nbformat_minor": 5
}
