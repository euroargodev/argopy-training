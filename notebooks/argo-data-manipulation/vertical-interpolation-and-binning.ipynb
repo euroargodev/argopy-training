{
 "cells": [
  {
   "cell_type": "markdown",
   "id": "b2bfb227-b7be-4ebc-b061-23682e739534",
   "metadata": {},
   "source": [
    "<img src=\"https://raw.githubusercontent.com/euroargodev/argopy/master/docs/_static/argopy_logo_long.png\" alt=\"argopy logo\" width=\"200\"/>\n",
    "\n",
    "# Training Camp - Sept 22<sup>th</sup> 2025\n",
    "\n",
    "***\n",
    "\n",
    "## Notebook Title : Vertical interpolation & Binning\n",
    "\n",
    "**Author contact : [K. Balem](https://annuaire.ifremer.fr/cv/22144/)**\n",
    "\n",
    "**Description:**\n",
    "\n",
    "This notebook describes:\n",
    "- how to transform your data from a set of points to a collection of profiles,\n",
    "- how to interpolate your data onto standard depth levels,\n",
    "- how to bin vertically your data.\n",
    "\n",
    "This notebook is based on the [Argopy documentation](https://argopy.readthedocs.io/en/v1.3.0/user-guide/working-with-argo-data/data_manipulation.html#) where you can find more details on each function.\n",
    "\n",
    "*This notebook was developed with Argopy version: 1.3*\n",
    "\n",
    "***"
   ]
  },
  {
   "cell_type": "markdown",
   "id": "4afcfb59-cb77-4320-8bc1-d7cb491529cf",
   "metadata": {},
   "source": [
    "Let's start with the usual import:"
   ]
  },
  {
   "cell_type": "code",
   "execution_count": null,
   "id": "3713ec84-b6b6-46b6-a734-0d47b1c5267d",
   "metadata": {},
   "outputs": [],
   "source": [
    "from argopy import DataFetcher"
   ]
  },
  {
   "cell_type": "markdown",
   "id": "2b69dbbc-6799-42c1-baeb-953dd5e74825",
   "metadata": {},
   "source": [
    "## Points vs Profiles\n",
    "By default, fetched data are returned as a 1D array collection of measurements, ie a set of points."
   ]
  },
  {
   "cell_type": "code",
   "execution_count": null,
   "id": "c017015d-1d07-42b6-93c1-912be906f3d7",
   "metadata": {},
   "outputs": [],
   "source": [
    "f = DataFetcher().region([-75,-55,30.,40.,0,100., '2011-01-01', '2011-01-15'])\n",
    "f "
   ]
  },
  {
   "cell_type": "markdown",
   "id": "00a2a521-02c3-4c4b-b31d-7286d3917d35",
   "metadata": {},
   "source": [
    "The returned xarray dataset with the data will only have one dimension : **N_POINTS**"
   ]
  },
  {
   "cell_type": "code",
   "execution_count": null,
   "id": "a1949c7d-dfb2-492b-abd9-59d36ea04dcc",
   "metadata": {},
   "outputs": [],
   "source": [
    "ds_points = f.data\n",
    "ds_points"
   ]
  },
  {
   "cell_type": "markdown",
   "id": "c9b7beab-05ba-4d22-85b8-0fcd9ca80b38",
   "metadata": {},
   "source": [
    "If you prefer to work with a 2D array collection of vertical profiles, simply transform the dataset with [Dataset.argo.point2profile()](https://argopy.readthedocs.io/en/v1.3.0/generated/xarray.Dataset.argo.point2profile.html#xarray.Dataset.argo.point2profile)  \n",
    "This will return a new dataset where you can find a newer dimension : **N_LEVELS**"
   ]
  },
  {
   "cell_type": "code",
   "execution_count": null,
   "id": "374e7819-502c-4690-b812-06b56f053575",
   "metadata": {},
   "outputs": [],
   "source": [
    "ds_profiles = ds_points.argo.point2profile()\n",
    "ds_profiles"
   ]
  },
  {
   "cell_type": "markdown",
   "id": "79f23050-c772-4f7f-b70b-7149c3662e57",
   "metadata": {},
   "source": [
    "You can simply reverse this transformation with the [Dataset.argo.profile2point()](https://argopy.readthedocs.io/en/v1.3.0/generated/xarray.Dataset.argo.profile2point.html#xarray.Dataset.argo.profile2point):"
   ]
  },
  {
   "cell_type": "code",
   "execution_count": null,
   "id": "234a70c0-332f-423a-9f7a-b95c2f5594e6",
   "metadata": {},
   "outputs": [],
   "source": [
    "ds = ds_profiles.argo.profile2point()\n",
    "ds"
   ]
  },
  {
   "cell_type": "markdown",
   "id": "f6a27eda-a937-4c8a-b03c-ea47642863e9",
   "metadata": {},
   "source": [
    "#### ✏️ EXERCICE\n",
    "Fetch the data from the float 6990680 and transform the returned dataset into profiles"
   ]
  },
  {
   "cell_type": "markdown",
   "id": "accc131c-0903-4e66-a023-8dccf9f5627d",
   "metadata": {},
   "source": [
    "## Vertical interpolation\n",
    "Once your dataset is a collection of vertical profiles, you can interpolate variables on standard pressure levels using [Dataset.argo.interp_std_levels()](https://argopy.readthedocs.io/en/v1.3.0/generated/xarray.Dataset.argo.interp_std_levels.html#xarray.Dataset.argo.interp_std_levels) with your levels as input.  \n",
    "This interpolated dataset has a new vertical dimension : **PRES_INTERPOLATED**"
   ]
  },
  {
   "cell_type": "markdown",
   "id": "80097b6a-4d68-4e90-84c6-d243de4d4141",
   "metadata": {},
   "source": [
    "Let's define our standard pressure levels"
   ]
  },
  {
   "cell_type": "code",
   "execution_count": null,
   "id": "5ff5de6c-14b8-4fd8-a21a-e739c9307034",
   "metadata": {},
   "outputs": [],
   "source": [
    "import numpy as np\n",
    "z_levels = np.arange(0,100,10)\n",
    "z_levels"
   ]
  },
  {
   "cell_type": "markdown",
   "id": "9f11d4ec-21ca-403a-a083-d26411aae872",
   "metadata": {},
   "source": [
    "We can now interpolate all of our profiles onto those levels"
   ]
  },
  {
   "cell_type": "code",
   "execution_count": null,
   "id": "d118309f-65bf-47f8-b174-143a2a0a6b4d",
   "metadata": {},
   "outputs": [],
   "source": [
    "ds_interp = ds_profiles.argo.interp_std_levels(z_levels)\n",
    "ds_interp"
   ]
  },
  {
   "cell_type": "markdown",
   "id": "5dfb9b23-4acd-4b78-aabd-dd654ed1ee91",
   "metadata": {},
   "source": [
    "Note on the linear interpolation process :\n",
    "- Only profiles that have a maximum pressure higher than the highest standard level are selected for interpolation.\n",
    "- Remaining profiles must have at least five data points to allow interpolation.\n",
    "- For each profile, shallowest data point is repeated to the surface to allow a 0 standard level while avoiding extrapolation.\n",
    "\n",
    "In our case, one profile is missing from the interpolated dataset, because it's maximum pressure does not reach one or more standard levels"
   ]
  },
  {
   "cell_type": "code",
   "execution_count": null,
   "id": "f53617ed-ecab-4ecf-9aa1-51384a628f30",
   "metadata": {},
   "outputs": [],
   "source": [
    "ds_profiles['PRES'].max('N_LEVELS').values"
   ]
  },
  {
   "cell_type": "markdown",
   "id": "8ab7b756-4fba-4298-8612-bd69750d924d",
   "metadata": {},
   "source": [
    "#### ✏️ EXERCICE\n",
    "Fetch the data from the float 6901987, transform the dataset into profiles, and interpolate onto standard pressure levels"
   ]
  },
  {
   "cell_type": "markdown",
   "id": "4435439c-148d-4d14-8891-abe1484799d1",
   "metadata": {},
   "source": [
    "## Pressure levels: Group-by bins\n",
    "If you prefer to avoid interpolation, you can opt for a pressure bins grouping reduction using [Dataset.argo.groupby_pressure_bins()](https://argopy.readthedocs.io/en/v1.3.0/generated/xarray.Dataset.argo.groupby_pressure_bins.html#xarray.Dataset.argo.groupby_pressure_bins).  \n",
    "This method can be used to subsample and align an irregular dataset (pressure not being similar in all profiles) on a set of pressure bins. The output dataset could then be used to perform statistics along the N_PROF dimension because N_LEVELS will corresponds to similar pressure bins."
   ]
  },
  {
   "cell_type": "markdown",
   "id": "cb096ab0-52f7-46cf-bf5d-535d50fb7bff",
   "metadata": {},
   "source": [
    "To illustrate this method, let’s start by fetching some data from a low vertical resolution float:"
   ]
  },
  {
   "cell_type": "code",
   "execution_count": null,
   "id": "06fdc08b-40ee-4c69-b7ca-7993560087b7",
   "metadata": {},
   "outputs": [],
   "source": [
    "f = DataFetcher(src='erddap', mode='expert').float(2901623)  # Low res float\n",
    "ds = f.data\n",
    "ds"
   ]
  },
  {
   "cell_type": "markdown",
   "id": "a0ec3805-151d-46be-a6c5-7f55359d4270",
   "metadata": {},
   "source": [
    "Let’s now sub-sample these measurements along 250db bins, selecting values from the deepest pressure levels for each bins:"
   ]
  },
  {
   "cell_type": "code",
   "execution_count": null,
   "id": "61892e97-2af4-490b-8702-5af76c71bbd7",
   "metadata": {},
   "outputs": [],
   "source": [
    "bins = np.arange(0.0, np.max(ds[\"PRES\"]), 250.0)\n",
    "bins"
   ]
  },
  {
   "cell_type": "code",
   "execution_count": null,
   "id": "a7fb8f0e-fa27-4388-bfd6-84ce72164443",
   "metadata": {},
   "outputs": [],
   "source": [
    "ds_binned = ds.argo.groupby_pressure_bins(bins=bins, select='deep')\n",
    "ds_binned"
   ]
  },
  {
   "cell_type": "markdown",
   "id": "9c67f056-3ccf-41e2-9c00-272a73ef3887",
   "metadata": {},
   "source": [
    "See the new STD_PRES_BINS variable that hold the pressure bins definition."
   ]
  },
  {
   "cell_type": "markdown",
   "id": "862fe79b-b4e9-488a-8ed8-36a9383c9528",
   "metadata": {},
   "source": [
    "The figure below shows the sub-sampling effect:"
   ]
  },
  {
   "cell_type": "code",
   "execution_count": null,
   "id": "5c24a43b-39ba-4854-9b3d-4e2f9c81f1a2",
   "metadata": {},
   "outputs": [],
   "source": [
    "import matplotlib as mpl\n",
    "import matplotlib.pyplot as plt\n",
    "\n",
    "fig, ax = plt.subplots(figsize=(16,5))\n",
    "# LETS PLOT FULL DATASET \n",
    "ds.plot.scatter(x='CYCLE_NUMBER', y='PRES', hue='PSAL', ax=ax)\n",
    "# LETS PLOT BINNED DATASET POINTS\n",
    "plt.plot(ds_binned['CYCLE_NUMBER'], ds_binned['PRES'], 'r+')\n",
    "# LETS PLOT OUR BINS LEVELS\n",
    "plt.hlines(bins, ds['CYCLE_NUMBER'].min(), ds['CYCLE_NUMBER'].max(), color='k')\n",
    "plt.hlines(ds_binned['STD_PRES_BINS'], ds_binned['CYCLE_NUMBER'].min(), ds_binned['CYCLE_NUMBER'].max(), color='r')\n",
    "plt.title(ds.attrs['Fetched_constraints'])\n",
    "plt.gca().invert_yaxis()"
   ]
  },
  {
   "cell_type": "markdown",
   "id": "78f71d33-dace-4267-9801-d8c5884d295f",
   "metadata": {},
   "source": [
    "The bin limits are shown with horizontal red lines, the original data are in the background colored scatter and the group-by pressure bins values are highlighted in red marks"
   ]
  },
  {
   "cell_type": "markdown",
   "id": "e76af9b8-0e6c-4ca1-ba8e-c3ae0d233487",
   "metadata": {},
   "source": [
    "The select option can take many different values, corresponding to different ways to process your data within the bin, see the full documentation of [Dataset.argo.groupby_pressure_bins()](https://argopy.readthedocs.io/en/v1.3.0/generated/xarray.Dataset.argo.groupby_pressure_bins.html#xarray.Dataset.argo.groupby_pressure_bins) , for all the details. "
   ]
  },
  {
   "cell_type": "markdown",
   "id": "f6456b89-88dc-4bed-9eb8-d316a340eebc",
   "metadata": {},
   "source": [
    "#### ✏️ EXERCICE\n",
    "Fetch the data from the float 5906993, and bin the data using another select option"
   ]
  },
  {
   "cell_type": "markdown",
   "id": "3ae4ffe7-28ef-4925-8b90-681010a923a4",
   "metadata": {},
   "source": [
    "### \n",
    "***\n",
    "Useful argopy commands:\n",
    "```python\n",
    "argopy.reset_options()\n",
    "argopy.show_options()\n",
    "argopy.status()\n",
    "argopy.clear_cache()\n",
    "argopy.show_versions()\n",
    "```\n",
    "***\n",
    "![logo](https://raw.githubusercontent.com/euroargodev/argopy-training/refs/heads/main/for_nb_producers/template_argopy_training_EAONE.png)"
   ]
  }
 ],
 "metadata": {
  "kernelspec": {
   "display_name": "argopy-training",
   "language": "python",
   "name": "argopy-training"
  },
  "language_info": {
   "codemirror_mode": {
    "name": "ipython",
    "version": 3
   },
   "file_extension": ".py",
   "mimetype": "text/x-python",
   "name": "python",
   "nbconvert_exporter": "python",
   "pygments_lexer": "ipython3",
   "version": "3.11.13"
  }
 },
 "nbformat": 4,
 "nbformat_minor": 5
}
