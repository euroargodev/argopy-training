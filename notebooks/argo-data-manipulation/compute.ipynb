{
 "cells": [
  {
   "attachments": {},
   "cell_type": "markdown",
   "id": "b1b9c837-bb0b-47f3-a756-9737fa99659d",
   "metadata": {
    "editable": true,
    "slideshow": {
     "slide_type": ""
    },
    "tags": []
   },
   "source": [
    "<img src=\"https://raw.githubusercontent.com/euroargodev/argopy/master/docs/_static/argopy_logo_long.png\" alt=\"argopy logo\" width=\"200\"/>\n",
    "\n",
    "# Training Camp - Sept 22<sup>th</sup> 2025\n",
    "\n",
    "***\n",
    "\n",
    "## Notebook Title : Compute more variables from an Argo dataset\n",
    "\n",
    "**Author contact : [G. Maze](https://annuaire.ifremer.fr/cv/17182)**\n",
    "\n",
    "**Description:**\n",
    "\n",
    "This notebook shows how to complement an existing Argo data dataset with more variables using argopy xarray extensions for:\n",
    "- thermodynamic equations of seawater based on TEOS-10,\n",
    "- optical modeling,\n",
    "- the CANYON-MED neural network.\n",
    "\n",
    "This is basically a notebook to explore this [section of the Argopy documentation](https://argopy.readthedocs.io/en/v1.3.0/user-guide/working-with-argo-data/data_computation.html).\n",
    "\n",
    "*This notebook was developed with Argopy version: 1.3*\n",
    "\n",
    "***"
   ]
  },
  {
   "cell_type": "markdown",
   "id": "4253500e-9e2f-4a60-afeb-b236e1fd99f5",
   "metadata": {},
   "source": [
    "Let's start with the usual import:"
   ]
  },
  {
   "cell_type": "code",
   "execution_count": null,
   "id": "268b0572-2fcc-459d-ad8e-1589eeb24f84",
   "metadata": {},
   "outputs": [],
   "source": [
    "from argopy import DataFetcher"
   ]
  },
  {
   "cell_type": "markdown",
   "id": "b70c7008-fa70-497f-9ae8-33cf697e5834",
   "metadata": {},
   "source": [
    "And to prevent cell output to be too large, we won't display xarray object attributes:"
   ]
  },
  {
   "cell_type": "code",
   "execution_count": null,
   "id": "48f25f46-fb21-40f2-90b7-0ee9d213fde6",
   "metadata": {},
   "outputs": [],
   "source": [
    "import xarray as xr\n",
    "xr.set_options(display_expand_attrs = False)"
   ]
  },
  {
   "cell_type": "markdown",
   "id": "bbf2a5ea-5ac0-4981-80da-d6af0de36c37",
   "metadata": {},
   "source": [
    "To demonstrate how to use argopy xarray extensions to compute more variables, we first need to load a dataset:"
   ]
  },
  {
   "cell_type": "code",
   "execution_count": null,
   "id": "c5a58f7f-7bc0-4fc0-920f-ea9d73439b5f",
   "metadata": {},
   "outputs": [],
   "source": [
    "f = DataFetcher().region([-75, -45, 20, 30, 0, 10, '2011-01', '2011-06'])\n",
    "ds = f.data.copy()\n",
    "ds.argo"
   ]
  },
  {
   "cell_type": "markdown",
   "id": "88cf0f58-5f76-44df-9b72-a5f693852e97",
   "metadata": {
    "jp-MarkdownHeadingCollapsed": true
   },
   "source": [
    "### Compute TEOS-10 variables"
   ]
  },
  {
   "cell_type": "markdown",
   "id": "d6fefc05-7b39-4d4b-92e4-dd253ceb4ccb",
   "metadata": {},
   "source": [
    "You can compute additional ocean thermodynamic variables from [TEOS-10](https://teos-10.github.io/GSW-Python/intro.html) using the `teos10` argopy xarray extension like this:"
   ]
  },
  {
   "cell_type": "code",
   "execution_count": null,
   "id": "5575aa49-affe-489f-b95a-f4d103409bdf",
   "metadata": {},
   "outputs": [],
   "source": [
    "ds = ds.argo.teos10()\n",
    "ds.data_vars"
   ]
  },
  {
   "cell_type": "markdown",
   "id": "05fd51bf-a18a-4d9c-b0b7-e2264db48175",
   "metadata": {},
   "source": [
    "<br>\n",
    "\n",
    "Where you can see the addition of new variables.\n",
    "\n",
    "Note that each new variable comes with the appropriate attributes:"
   ]
  },
  {
   "cell_type": "code",
   "execution_count": null,
   "id": "2af23846-f996-4e41-aaa4-ca39ba052550",
   "metadata": {},
   "outputs": [],
   "source": [
    "ds['CT'].attrs"
   ]
  },
  {
   "cell_type": "markdown",
   "id": "0acdee95-85ae-46e6-8193-d124faac7592",
   "metadata": {},
   "source": [
    "<br>\n",
    "\n",
    "The default list of variables with the default call to `teos10()` is `SA`, `CT`, `SIG0`, `N2`, `PV` and `PTEMP`.\n",
    "\n",
    "Other optional variables are `SOUND_SPEED` and `CNDC`.\n",
    "\n",
    "To specify variables to compute, put them in a list:"
   ]
  },
  {
   "cell_type": "code",
   "execution_count": null,
   "id": "d48f39e7-7192-4545-a1fa-9c7882330483",
   "metadata": {},
   "outputs": [],
   "source": [
    "ds = f.data.copy()\n",
    "ds.argo.teos10(['SA', 'CT']).data_vars"
   ]
  },
  {
   "cell_type": "markdown",
   "id": "af9a3f2e-fed7-464a-8ffd-9c33bc2ff1ac",
   "metadata": {},
   "source": [
    "#### \ud83d\udedf NOTE\n",
    "\n",
    "The `teos10` extension uses `PRES`, `TEMP` and `PSAL` to compute new variables. \n",
    "\n",
    "With the current version of argopy (1.3.0), there is no possibility to use ADJUSTED values. This may evolve in a future release."
   ]
  },
  {
   "cell_type": "markdown",
   "id": "cdb457aa-b74d-4c7e-8e5e-7a22fa126c87",
   "metadata": {
    "editable": true,
    "slideshow": {
     "slide_type": ""
    },
    "tags": []
   },
   "source": [
    "#### \u270f\ufe0f EXERCICE\n",
    "\n",
    "Load data from float 6902746 and compute conductivity.\n",
    "\n",
    "\ud83d\udca1 Code hint:\n",
    "```python\n",
    "f = DataFetcher().float(...\n",
    "```"
   ]
  },
  {
   "cell_type": "code",
   "execution_count": null,
   "id": "36c08a8d-fbe8-4b99-b6ee-0ed628f0c907",
   "metadata": {
    "editable": true,
    "slideshow": {
     "slide_type": ""
    },
    "tags": []
   },
   "outputs": [],
   "source": [
    "# Your code"
   ]
  },
  {
   "cell_type": "markdown",
   "id": "161577c3-7f3d-47fe-ad17-12be9827c961",
   "metadata": {
    "jp-MarkdownHeadingCollapsed": true
   },
   "source": [
    "### Compute optical modelling variables\n",
    "\n",
    "The argopy `optic` xarray accessor extension provides methods to compute standard variables from optical modeling of the upper ocean. \n",
    "    \n",
    "It can be used to:\n",
    "- compute the depth of the euphotic zone, \n",
    "- compute the first optical depth, \n",
    "- compute the depth where PAR reaches some threshold value,\n",
    "- search and qualify Deep Chlorophyll Maxima."
   ]
  },
  {
   "cell_type": "markdown",
   "id": "b824e8f2-24e9-4f35-b0e2-a79ea8ae1385",
   "metadata": {},
   "source": [
    "First, let's download some BGC-Argo float data with PAR variable. To do so, we need to use the `expert` mode:"
   ]
  },
  {
   "cell_type": "code",
   "execution_count": null,
   "id": "efd84167-85c7-48b0-9996-7a42191334a8",
   "metadata": {},
   "outputs": [],
   "source": [
    "ds = DataFetcher(ds='bgc', mode='expert', params='DOWNWELLING_PAR').float(5907088).data\n",
    "ds.argo"
   ]
  },
  {
   "cell_type": "markdown",
   "id": "365c2452-7d24-4a6d-99f5-7a85d3366719",
   "metadata": {},
   "source": [
    "<br>\n",
    "\n",
    "and since the `optic` extension only accept a collection of profiles, not points, we need to transform the dataset:"
   ]
  },
  {
   "cell_type": "code",
   "execution_count": null,
   "id": "c77afeb0-ceb7-4dc6-9b68-1dd727819699",
   "metadata": {},
   "outputs": [],
   "source": [
    "dsp = ds.argo.point2profile()\n",
    "dsp.argo"
   ]
  },
  {
   "cell_type": "markdown",
   "id": "004b4ff7-e7d0-48cc-a1bd-e5eca82a7c49",
   "metadata": {},
   "source": [
    "<br>\n",
    "\n",
    "Using the following jupyter command will help you find the appropriate method:"
   ]
  },
  {
   "cell_type": "code",
   "execution_count": null,
   "id": "dc36f6fc-6869-418b-b625-96471ddae6e6",
   "metadata": {},
   "outputs": [],
   "source": [
    "dsp.argo.optic?"
   ]
  },
  {
   "cell_type": "markdown",
   "id": "eb4c559c-2f72-431a-b1ae-7ae279ed6f0e",
   "metadata": {},
   "source": [
    "<br>\n",
    "\n",
    "Let's compute the depth of the euphotic zone:"
   ]
  },
  {
   "cell_type": "code",
   "execution_count": null,
   "id": "141b3ad3-6f36-4f0d-93ff-78d14c141bf0",
   "metadata": {},
   "outputs": [],
   "source": [
    "dsp = dsp.argo.optic.Zeu()\n",
    "dsp['Zeu']"
   ]
  },
  {
   "cell_type": "markdown",
   "id": "64c968cc-e993-475c-b3c3-e24ff846a8f6",
   "metadata": {},
   "source": [
    "<br>\n",
    "\n",
    "Note that new variable comes with the appropriate attributes:"
   ]
  },
  {
   "cell_type": "code",
   "execution_count": null,
   "id": "a1fdeb00-23b8-4ca4-9d0f-2eef2de37988",
   "metadata": {},
   "outputs": [],
   "source": [
    "dsp['Zeu'].attrs"
   ]
  },
  {
   "cell_type": "markdown",
   "id": "c73624c7-3fad-4a58-b6d2-c83536fb90fe",
   "metadata": {},
   "source": [
    "#### \ud83d\udd0d Pro tip\n",
    "You can plot the new variable along the float trajectory like this:\n",
    "\n",
    "(easier methods shall be developped in the future)"
   ]
  },
  {
   "cell_type": "code",
   "execution_count": null,
   "id": "b1aff697-600c-4ff2-b065-0350c720fb09",
   "metadata": {},
   "outputs": [],
   "source": [
    "from argopy.plot import scatter_map\n",
    "scatter_map(dsp, hue='Zeu', legend=False, cbar=True, cmap='Spectral_r');"
   ]
  },
  {
   "cell_type": "markdown",
   "id": "aa90f47e-351d-47db-a61d-98d84cc71de1",
   "metadata": {},
   "source": [
    "#### \u270f\ufe0f EXERCICE\n",
    "\n",
    "Two methods, `percentage` and `KdPAR` are available to compute the euphotic zone depth. Compute and compare the two methods output with the same float 5907088 data.\n",
    "\n",
    "It is also possible to load float data with an [ArgoFloat](https://argopy.readthedocs.io/en/v1.3.0/generated/argopy.ArgoFloat.html#argopy.ArgoFloat) instance.\n",
    "\n",
    "\ud83d\udca1 Code hint:\n",
    "```python\n",
    "from argopy import ArgoFloat\n",
    "dsp = ArgoFloat(5907088).open_dataset(...\n",
    "Zeu1 = dsp.argo.optic.Zeu(method=..., inplace=False)\n",
    "```"
   ]
  },
  {
   "cell_type": "code",
   "execution_count": null,
   "id": "083478a9-7c71-44be-9ed4-96f1a458cce9",
   "metadata": {},
   "outputs": [],
   "source": [
    "# Your code here"
   ]
  },
  {
   "cell_type": "markdown",
   "id": "c35505ba-c3a9-4c27-89f3-dc080645a524",
   "metadata": {
    "jp-MarkdownHeadingCollapsed": true
   },
   "source": [
    "### Carbonate and nutrients in the Mediterranean Sea\n",
    "\n",
    "For BGC data, it may be possible to complement a dataset with predictions of the water-column nutrient concentrations and carbonate system variables.\n",
    "\n",
    "This is currently possible for data located in the Mediterranean Sea using the the CANYON-MED model. CANYON-MED is a Regional Neural Network Approach to Estimate Water-Column Nutrient Concentrations and Carbonate System Variables in the Mediterranean Sea ([Fourier et al, 2020](http://dx.doi.org/10.3389/fmars.2020.00620)). When using this method, please cite the paper.\n",
    "\n",
    "This model is available in argopy as an extension to the argo xarray accessor. It can be used to predict PO4, NO3, DIC, SiOH4, AT and pHT."
   ]
  },
  {
   "cell_type": "markdown",
   "id": "9869d5ef-9780-4c4d-91a0-bb158eefc35f",
   "metadata": {},
   "source": [
    "For CANYON-MED to make prediction, only oxygen is required. So let's load some data:"
   ]
  },
  {
   "cell_type": "code",
   "execution_count": null,
   "id": "f18f60cd-79d0-493c-a8ae-dce42e26ff88",
   "metadata": {},
   "outputs": [],
   "source": [
    "f = DataFetcher(ds='bgc', mode='standard', params='DOXY', measured='DOXY').float(1902605)\n",
    "ds = f.data.copy()\n",
    "ds.argo"
   ]
  },
  {
   "cell_type": "markdown",
   "id": "50a38d31-3e58-41b3-bd66-a02adbeaed28",
   "metadata": {},
   "source": [
    "<br>\n",
    "\n",
    "We can then predict all possible variables:"
   ]
  },
  {
   "cell_type": "code",
   "execution_count": null,
   "id": "5acc7166-af72-41a2-a494-f43101fc6dec",
   "metadata": {},
   "outputs": [],
   "source": [
    "ds.argo.canyon_med.predict()\n",
    "ds['DIC']"
   ]
  },
  {
   "cell_type": "markdown",
   "id": "a472134c-59fc-46dc-a1b3-0977def63ee9",
   "metadata": {},
   "source": [
    "#### \u270f\ufe0f EXERCICE\n",
    "\n",
    "Re-load original data and predict only nutrients variables."
   ]
  },
  {
   "cell_type": "code",
   "execution_count": null,
   "id": "8a259fcd-bbb6-4b42-9f0f-f341a7b2490c",
   "metadata": {},
   "outputs": [],
   "source": [
    "# Your code here"
   ]
  },
  {
   "cell_type": "markdown",
   "id": "873f5d53-0baa-43f8-8124-152820ace785",
   "metadata": {
    "tags": [
     "disclaimer"
    ]
   },
   "source": [
    "### \n",
    "***\n",
    "Useful argopy commands:\n",
    "```python\n",
    "argopy.reset_options()\n",
    "argopy.show_options()\n",
    "argopy.status()\n",
    "argopy.clear_cache()\n",
    "argopy.show_versions()\n",
    "```\n",
    "***\n",
    "![logo](https://raw.githubusercontent.com/euroargodev/argopy-training/refs/heads/main/for_nb_producers/template_argopy_training_EAONE.png)"
   ]
  },
  {
   "cell_type": "code",
   "execution_count": null,
   "id": "b4a91ecc-a266-4feb-bfe2-61812a5b6dae",
   "metadata": {},
   "outputs": [],
   "source": []
  }
 ],
 "metadata": {
  "kernelspec": {
   "display_name": "argopy-training",
   "language": "python",
   "name": "argopy-training"
  },
  "language_info": {
   "codemirror_mode": {
    "name": "ipython",
    "version": 3
   },
   "file_extension": ".py",
   "mimetype": "text/x-python",
   "name": "python",
   "nbconvert_exporter": "python",
   "pygments_lexer": "ipython3",
   "version": "3.11.13"
  },
  "widgets": {
   "application/vnd.jupyter.widget-state+json": {
    "state": {},
    "version_major": 2,
    "version_minor": 0
   }
  }
 },
 "nbformat": 4,
 "nbformat_minor": 5
}