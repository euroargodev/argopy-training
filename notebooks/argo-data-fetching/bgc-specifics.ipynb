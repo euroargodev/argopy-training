{
 "cells": [
  {
   "attachments": {},
   "cell_type": "markdown",
   "id": "b1b9c837-bb0b-47f3-a756-9737fa99659d",
   "metadata": {},
   "source": [
    "<img src=\"https://raw.githubusercontent.com/euroargodev/argopy/master/docs/_static/argopy_logo_long.png\" alt=\"argopy logo\" width=\"200\"/>\n",
    "\n",
    "# Training Camp - Sept 22<sup>th</sup> 2025\n",
    "\n",
    "***\n",
    "\n",
    "## Notebook Title :  Select and fetch BGC-Argo data\n",
    "\n",
    "**Author contact : [G. Maze](https://annuaire.ifremer.fr/cv/17182)**\n",
    "\n",
    "**Disclaimer**: \u26a0\ufe0f BGC-Argo support in Argopy is still in active development\n",
    "\n",
    "**Description:**\n",
    "\n",
    "This notebook shows how to use the [DataFetcher](https://argopy.readthedocs.io/en/v1.3.0/generated/argopy.fetchers.ArgoDataFetcher.html#argopy.fetchers.ArgoDataFetcher):\n",
    "- to load BGC-Argo data,\n",
    "- use the `params` option to restrict the list of parameters to load,\n",
    "- use the `measured` option to filter parameter content.\n",
    "\n",
    "This is basically a notebook to explore this section of the Argopy documentation: [the BGC dataset](https://argopy.readthedocs.io/en/v1.3.0/user-guide/fetching-argo-data/data_set.html#specifics-in-datafetcher).\n",
    "\n",
    "For more details on [data selection](./select-and-fetch-data.ipynb), [data sources, user modes](./fetching-options.ipynb) and performance optimisation, please refer to the dedicated notebooks.\n",
    "\n",
    "*This notebook was developed with Argopy version: 1.3*\n",
    "\n**Table of Contents**\n",
    "  - [Load data from BGC-Argo](#load-data-from-bgc-argo)\n",
    "    - [\u270f\ufe0f EXERCICE](#\u270f\ufe0f-exercice)\n",
    "  - [`params` argument](#`params`-argument)\n",
    "    - [\ud83d\udd0d Pro tip](#\ud83d\udd0d-pro-tip)\n",
    "    - [\ud83d\udd0d Pro tip](#\ud83d\udd0d-pro-tip)\n",
    "    - [\u270f\ufe0f EXERCICE](#\u270f\ufe0f-exercice)\n",
    "- [\ud83c\udfc1 End of the notebook](#\ud83c\udfc1-end-of-the-notebook)\n",
    "***"
   ]
  },
  {
   "cell_type": "markdown",
   "id": "873b2e5fae306788",
   "metadata": {},
   "source": [
    "Let's start with the usual import:"
   ]
  },
  {
   "cell_type": "code",
   "execution_count": null,
   "id": "271fee25-a702-4a13-a767-10d227ede927",
   "metadata": {},
   "outputs": [],
   "source": [
    "from argopy import DataFetcher"
   ]
  },
  {
   "cell_type": "code",
   "execution_count": null,
   "id": "b773990f-7630-47eb-832e-940ea5e750f7",
   "metadata": {},
   "outputs": [],
   "source": [
    "# import argopy\n",
    "# argopy.set_options(erddap='https://erddap-test1.ifremer.fr/erddap')"
   ]
  },
  {
   "cell_type": "markdown",
   "id": "41c2b6c2-84cc-4637-98e7-f1ecc118bda7",
   "metadata": {},
   "source": [
    "And to prevent cell output to be too large, we won't display xarray object attributes:"
   ]
  },
  {
   "cell_type": "code",
   "execution_count": null,
   "id": "af1bf651-7d15-4d1a-b924-2db31a226884",
   "metadata": {
    "editable": true,
    "slideshow": {
     "slide_type": ""
    },
    "tags": []
   },
   "outputs": [],
   "source": [
    "import xarray as xr\n",
    "xr.set_options(display_expand_attrs = False)"
   ]
  },
  {
   "cell_type": "markdown",
   "id": "eef9f6a0-4b7e-4df7-a02f-d33db016e926",
   "metadata": {},
   "source": [
    "### Load data from BGC-Argo\n",
    "\n",
    "\u2757Note that the [DataFetcher](https://argopy.readthedocs.io/en/v1.3.0/generated/argopy.fetchers.ArgoDataFetcher.html#argopy.fetchers.ArgoDataFetcher) will use the Ifremer erddap data source by default, which provides access to BGC **synthetic** profile files.\n",
    "\n",
    "Let's try to load BGC-Argo data for the Ionian Sea a few days ago:"
   ]
  },
  {
   "cell_type": "code",
   "execution_count": null,
   "id": "e1964e6e-ff34-4457-8344-150421624a3b",
   "metadata": {},
   "outputs": [],
   "source": [
    "box = [15, 23, 35, 39, 0, 500, '2024-01', '2024-06']\n",
    "f = DataFetcher(ds='bgc').region(box)\n",
    "f"
   ]
  },
  {
   "cell_type": "code",
   "execution_count": null,
   "id": "1f140c8e-b66f-4272-a352-c7c34d01b348",
   "metadata": {},
   "outputs": [],
   "source": [
    "%%time\n",
    "ds = f.data\n",
    "ds.argo"
   ]
  },
  {
   "cell_type": "code",
   "execution_count": null,
   "id": "3cd211a8-1b84-47d7-91f7-710e67334125",
   "metadata": {},
   "outputs": [],
   "source": [
    "ds.data_vars"
   ]
  },
  {
   "cell_type": "markdown",
   "id": "48b97436-adac-4951-abca-75fed54820b5",
   "metadata": {},
   "source": [
    "<br>\n",
    "\n",
    "Profiles location can be map with:"
   ]
  },
  {
   "cell_type": "code",
   "execution_count": null,
   "id": "4c1ac7d7-bb33-47f5-aba6-eff4963002e7",
   "metadata": {},
   "outputs": [],
   "source": [
    "f.plot('trajectory');"
   ]
  },
  {
   "cell_type": "markdown",
   "id": "85aaf5d8-5b77-40be-bc09-f755ded867bf",
   "metadata": {},
   "source": [
    "<br>\n",
    "\n",
    "You can also quickly look at some parameters:"
   ]
  },
  {
   "cell_type": "code",
   "execution_count": null,
   "id": "1056f008-db75-4028-9871-32c25da81440",
   "metadata": {},
   "outputs": [],
   "source": [
    "f.plot('DOXY');"
   ]
  },
  {
   "cell_type": "markdown",
   "id": "cf165fa8-bb7d-4f29-81cf-34f1b215e002",
   "metadata": {},
   "source": [
    "<br>\n",
    "\n",
    "You can check the corresponding profile index structure (pandas.dataframe):"
   ]
  },
  {
   "cell_type": "code",
   "execution_count": null,
   "id": "ad714663-7f09-4062-bb7b-eb3ca6db16d9",
   "metadata": {},
   "outputs": [],
   "source": [
    "df = f.index\n",
    "df.head()"
   ]
  },
  {
   "cell_type": "markdown",
   "id": "bdfd0794-f599-4cf5-811e-85e6550c1eab",
   "metadata": {},
   "source": [
    "#### \u270f\ufe0f EXERCICE\n",
    "\n",
    "Download BGC-Argo data for Italian BGC float 6903222 and plot oxygen values.\n",
    "\n",
    "If necessary, you can check the [data selection](./select-and-fetch-data.ipynb) notebook for help in selecting data for a given float."
   ]
  },
  {
   "cell_type": "markdown",
   "id": "7505f7a1-88f2-4273-b814-37632c592247",
   "metadata": {},
   "source": [
    "\ud83d\udca1 Hint:\n",
    "```python\n",
    "    %%time\n",
    "    f = DataFetcher(ds='bgc')...\n",
    "    f.data\n",
    "\n",
    "    f.plot...\n",
    "```      "
   ]
  },
  {
   "cell_type": "code",
   "execution_count": null,
   "id": "b52b35f0-fcc0-4480-8ff6-fe23a86b3dd0",
   "metadata": {},
   "outputs": [],
   "source": [
    "# Your code here"
   ]
  },
  {
   "cell_type": "markdown",
   "id": "2de59704-dffa-440d-801b-4b79c24841a3",
   "metadata": {},
   "source": [
    "### `params` argument\n",
    "\n",
    "[\ud83d\udcd8 Check the dedicated documentation section here](https://argopy.readthedocs.io/en/v1.3.0/user-guide/fetching-argo-data/data_set.html#the-params-argument).\n",
    "\n",
    "Beyond the few key BGC parameters, there exist in the Argo dataset more than 120 BGC-related variables !\n",
    "\n",
    "Therefore, it is often the case that BGC-Argo data fetching will fail because the dataset to assemble for a given selection is too large. We recommend to look at the tutorial on [how to handle large data selection](./large-data-selection.ipynb) for simple ways to possibly go through large data requests.\n",
    "\n",
    "**Another solution to this issue is to make explicit the list of BGC parameters you are interested in**. This is a *frugal* approach that will surely benefit the simplicity of your code and the planet by limiting data transfer to what you really need.\n",
    "\n",
    "This can be done with the `params` argument of the [DataFetcher](https://argopy.readthedocs.io/en/v1.3.0/generated/argopy.fetchers.ArgoDataFetcher.html#argopy.fetchers.ArgoDataFetcher).\n",
    "\n",
    "As an example, let's download oxygen data from the Ionian Sea in 2024.\n",
    "\n",
    "We first create the [DataFetcher](https://argopy.readthedocs.io/en/v1.3.0/generated/argopy.fetchers.ArgoDataFetcher.html#argopy.fetchers.ArgoDataFetcher) instance with the appropriate options:"
   ]
  },
  {
   "cell_type": "code",
   "execution_count": null,
   "id": "bcad432f-2ca6-4313-bc4b-9708bf16111f",
   "metadata": {},
   "outputs": [],
   "source": [
    "box = [15, 23, 35, 39, 0, 500, '2024-01', '2025-01']\n",
    "f = DataFetcher(ds='bgc', params='DOXY').region(box)\n",
    "f"
   ]
  },
  {
   "cell_type": "markdown",
   "id": "4449a089-b390-4ac8-99fb-f6bc47f94299",
   "metadata": {},
   "source": [
    "<br>\n",
    "\n",
    "and then we trigger download and look at the data structure with the `argo` xarray accessor:"
   ]
  },
  {
   "cell_type": "code",
   "execution_count": null,
   "id": "7142c23b-cd63-425d-aa6c-0545146ce492",
   "metadata": {},
   "outputs": [],
   "source": [
    "%%time\n",
    "ds = f.data  # Trigger data fetching and processing\n",
    "ds.argo"
   ]
  },
  {
   "cell_type": "markdown",
   "id": "65d372d1-fd36-44b5-bfda-cf5d17eacb58",
   "metadata": {},
   "source": [
    "<br>\n",
    "\n",
    "If we check on the list of variables in this dataset, we do have only 'DOXY' for BGC variables:"
   ]
  },
  {
   "cell_type": "code",
   "execution_count": null,
   "id": "026896a7-7907-4b7a-9fa0-e44b8707f545",
   "metadata": {},
   "outputs": [],
   "source": [
    "ds.data_vars"
   ]
  },
  {
   "cell_type": "markdown",
   "id": "d449ce7f-2926-4216-b1c9-e77315ee0d3f",
   "metadata": {},
   "source": [
    "#### \ud83d\udd0d Pro tip\n",
    "\n",
    "There is no need to add `<PARAM>_ADUSTED` along with `<PARAM>` in the ``params`` argument. This is done automatically by Argopy, depending on the user mode chosen and the post-processing required.\n",
    "\n",
    "For instance, in *standard* mode, `DOXY` and `DOXY_ADJUSTED` will be requested, because the final value in `DOXY` will depend on the data mode of the parameter.\n",
    "\n",
    "In *research* mode, only `DOXY_ADJUSTED` is requested.\n",
    "\n",
    "You can look at this page of the documentation for a [detailled description of the argopy post-processing of the Argo data as a function of the dataset and user-mode](https://argopy.readthedocs.io/en/v1.3.0/user-guide/fetching-argo-data/user_mode.html#definitions)."
   ]
  },
  {
   "cell_type": "markdown",
   "id": "a17f80a1-8f20-413a-b72c-957cb2df4ba9",
   "metadata": {},
   "source": [
    "#### \ud83d\udd0d Pro tip\n",
    "\n",
    "In a [future release](https://github.com/euroargodev/argopy/issues/490) we will add a simple method to list all available parameters that could go into the ``params`` argument.\n",
    "\n",
    "In the mean time, this list can be accessed using this *private* method:"
   ]
  },
  {
   "cell_type": "code",
   "execution_count": null,
   "id": "0dfa99a9-6fcc-4724-b936-50cdc70588ea",
   "metadata": {},
   "outputs": [],
   "source": [
    "f.fetcher._bgc_vlist_avail"
   ]
  },
  {
   "cell_type": "markdown",
   "id": "59685166-a301-4f08-87e3-dfb3ed854ef8",
   "metadata": {
    "editable": true,
    "slideshow": {
     "slide_type": ""
    },
    "tags": []
   },
   "source": [
    "#### \u270f\ufe0f EXERCICE\n",
    "\n",
    "Load only chlorophyll data from the same regional box.\n",
    "\n",
    "\ud83d\udca1 Hint:\n",
    "```python\n",
    "%%time\n",
    "ds = DataFetcher(ds='bgc', params=...\n",
    "ds.argo\n",
    "```"
   ]
  },
  {
   "cell_type": "code",
   "execution_count": null,
   "id": "b43324fc-d8f0-47a0-92de-cf17e3e46fe1",
   "metadata": {},
   "outputs": [],
   "source": [
    "# Your code here"
   ]
  },
  {
   "cell_type": "markdown",
   "id": "c5e34a58-0b3b-4d74-8704-86419d751cd9",
   "metadata": {
    "editable": false,
    "slideshow": {
     "slide_type": ""
    },
    "tags": [
     "disclaimer"
    ]
   },
   "source": [
    "## \ud83c\udfc1 End of the notebook\n",
    "***\n",
    "Useful argopy commands:\n",
    "```python\n",
    "argopy.reset_options()\n",
    "argopy.show_options()\n",
    "argopy.status()\n",
    "argopy.clear_cache()\n",
    "argopy.show_versions()\n",
    "```\n",
    "***\n",
    "![logo](https://raw.githubusercontent.com/euroargodev/argopy-training/refs/heads/main/for_nb_producers/template_argopy_training_EAONE.png)"
   ]
  }
 ],
 "metadata": {
  "kernelspec": {
   "display_name": "argopy-training",
   "language": "python",
   "name": "argopy-training"
  },
  "language_info": {
   "codemirror_mode": {
    "name": "ipython",
    "version": 3
   },
   "file_extension": ".py",
   "mimetype": "text/x-python",
   "name": "python",
   "nbconvert_exporter": "python",
   "pygments_lexer": "ipython3",
   "version": "3.11.13"
  },
  "widgets": {
   "application/vnd.jupyter.widget-state+json": {
    "state": {},
    "version_major": 2,
    "version_minor": 0
   }
  }
 },
 "nbformat": 4,
 "nbformat_minor": 5
}