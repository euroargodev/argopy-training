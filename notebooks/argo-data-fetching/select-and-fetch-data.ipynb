{
 "cells": [
  {
   "attachments": {},
   "cell_type": "markdown",
   "id": "b1b9c837-bb0b-47f3-a756-9737fa99659d",
   "metadata": {
    "editable": true,
    "slideshow": {
     "slide_type": ""
    },
    "tags": []
   },
   "source": [
    "<img src=\"https://raw.githubusercontent.com/euroargodev/argopy/master/docs/_static/argopy_logo_long.png\" alt=\"argopy logo\" width=\"200\"/>\n",
    "\n",
    "# Training Camp - Sept 22<sup>th</sup> 2025\n",
    "\n",
    "***\n",
    "\n",
    "## Notebook Title : Select and fetch Argo data\n",
    "\n",
    "**Author contact : [G. Maze](https://annuaire.ifremer.fr/cv/17182)**\n",
    "\n",
    "**Description:**\n",
    "\n",
    "This notebook explains:\n",
    "- how to select (region, float, profile) Argo data to fetch,\n",
    "- how to trigger data fetching,\n",
    "- format of return data.\n",
    "\n",
    "It is all based on the [DataFetcher](https://argopy.readthedocs.io/en/v1.3.0/generated/argopy.fetchers.ArgoDataFetcher.html#argopy.fetchers.ArgoDataFetcher). \n",
    "\n",
    "This is basically a notebook to explore this [section of the Argopy documentation](https://argopy.readthedocs.io/en/v1.3.0/user-guide/fetching-argo-data/data_selection.html).\n",
    "\n",
    "\ud83c\udff7\ufe0f This notebook was developed with [Argopy version *1.3.0*](https://argopy.readthedocs.io/en/v1.3.0)\n",
    "\n",
    "\u00a9  [European Union Public Licence (EUPL) v1.2](https://github.com/euroargodev/argopy-training/blob/main/LICENSE), see at the bottom of this notebook for more.\n",
    "\n**Table of Contents**\n",
    "- [Selecting data to fetch](#selecting-data-to-fetch)\n",
    "  - [\ud83d\uddfa Select data for a space/time domain](#\ud83d\uddfa-select-data-for-a-space/time-domain)\n",
    "    - [\u270f\ufe0f EXERCICE](#\u270f\ufe0f-exercice)\n",
    "  - [\ud83e\udd16 For one or more floats](#\ud83e\udd16-for-one-or-more-floats)\n",
    "    - [\u270f\ufe0f EXERCICE](#\u270f\ufe0f-exercice)\n",
    "  - [\u2693 For one or more profiles](#\u2693-for-one-or-more-profiles)\n",
    "    - [\u270f\ufe0f EXERCICE](#\u270f\ufe0f-exercice)\n",
    "- [Trigger data fetching](#trigger-data-fetching)\n",
    "  - [Default and recommended data structures](#default-and-recommended-data-structures)\n",
    "  - [Alternative data structures](#alternative-data-structures)\n",
    "- [\ud83c\udfc1 End of the notebook](#\ud83c\udfc1-end-of-the-notebook)\n",
    "    - [\ud83d\udc40 Useful argopy commands](#\ud83d\udc40-useful-argopy-commands)\n",
    "    - [\u2696\ufe0f License Information](#\u2696\ufe0f-license-information)\n",
    "    - [\ud83e\udd1d Sponsor](#\ud83e\udd1d-sponsor)\n",
    "***"
   ]
  },
  {
   "cell_type": "markdown",
   "id": "04030cd3-10cd-4156-8df1-3537d483539e",
   "metadata": {
    "editable": true,
    "slideshow": {
     "slide_type": ""
    },
    "tags": []
   },
   "source": [
    "Let's start with the usual import:"
   ]
  },
  {
   "cell_type": "code",
   "execution_count": null,
   "id": "d70a407f-12d2-451d-b35e-6d1cfbf971e8",
   "metadata": {
    "editable": true,
    "slideshow": {
     "slide_type": ""
    },
    "tags": []
   },
   "outputs": [],
   "source": [
    "from argopy import DataFetcher"
   ]
  },
  {
   "cell_type": "markdown",
   "id": "5a3a234b-e76f-4540-abcf-b4622e9ab55b",
   "metadata": {
    "editable": true,
    "slideshow": {
     "slide_type": ""
    },
    "tags": []
   },
   "source": [
    "And to prevent cell output to be too large, we won't display xarray object attributes:"
   ]
  },
  {
   "cell_type": "code",
   "execution_count": null,
   "id": "afcf5cc9-d977-4932-9932-cf1b30de1f87",
   "metadata": {
    "editable": true,
    "slideshow": {
     "slide_type": ""
    },
    "tags": []
   },
   "outputs": [],
   "source": [
    "import xarray as xr\n",
    "xr.set_options(display_expand_attrs = False)"
   ]
  },
  {
   "cell_type": "markdown",
   "id": "cb67cadc-2d55-4bed-bb35-d7456b0aa863",
   "metadata": {
    "editable": true,
    "slideshow": {
     "slide_type": ""
    },
    "tags": []
   },
   "source": [
    "Before selecting any data, let\u2019s first create a [DataFetcher](https://argopy.readthedocs.io/en/v1.3.0/generated/argopy.fetchers.ArgoDataFetcher.html#argopy.fetchers.ArgoDataFetcher) instance:"
   ]
  },
  {
   "cell_type": "code",
   "execution_count": null,
   "id": "dba5b82f-7c95-444e-8d2f-85ef6550a2c3",
   "metadata": {
    "editable": true,
    "slideshow": {
     "slide_type": ""
    },
    "tags": []
   },
   "outputs": [],
   "source": [
    "f = DataFetcher()\n",
    "f"
   ]
  },
  {
   "cell_type": "markdown",
   "id": "cf113d86-1d48-4c11-923b-3c49e020f70e",
   "metadata": {
    "editable": true,
    "slideshow": {
     "slide_type": ""
    },
    "tags": []
   },
   "source": [
    "<br>\n",
    "\n",
    "The ``f`` instance print indicates that `erddap` is the data source for this fetcher (it's the default choice) and that \"No access point initialised\", an access point is a data selection method.\n",
    "\n",
    "2nd line of the print gives a list of all the access points available for this data source:\n",
    "\n",
    "They are 3 data selection methods that can be used on this [DataFetcher](https://argopy.readthedocs.io/en/v1.3.0/generated/argopy.fetchers.ArgoDataFetcher.html#argopy.fetchers.ArgoDataFetcher) instance:\n",
    "    \n",
    "- \ud83d\uddfa ``region`` for a space/time domain,\n",
    "- \ud83e\udd16 ``float`` for one or more floats,\n",
    "- \u2693 ``profile`` for one or more profiles.\n",
    "\n",
    "We will now review each of these."
   ]
  },
  {
   "cell_type": "markdown",
   "id": "97f2fc0e-8611-4ffc-9a25-6ec6a1df7454",
   "metadata": {
    "editable": true,
    "slideshow": {
     "slide_type": ""
    },
    "tags": []
   },
   "source": [
    "## Selecting data to fetch"
   ]
  },
  {
   "cell_type": "markdown",
   "id": "ae26181a-0bb3-4826-9e0e-fa632b9f5b49",
   "metadata": {
    "editable": true,
    "slideshow": {
     "slide_type": ""
    },
    "tags": []
   },
   "source": [
    "### \ud83d\uddfa Select data for a space/time domain\n",
    "\n",
    "The ``region`` access point takes a rectangular box definition of space/time bounds to be included. Argopy expects one of the following 2 format to define a box:\n",
    "\n",
    "``box = [lon_min, lon_max, lat_min, lat_max, pres_min, pres_max]``\n",
    "\n",
    "or\n",
    "\n",
    "``box = [lon_min, lon_max, lat_min, lat_max, pres_min, pres_max, datim_min, datim_max]``\n",
    "\n",
    "\n",
    "Longitude, latitude and pressure limits are float values. Starting and ending datetime must be objects convertible to a [Pandas datetime](https://pandas.pydata.org/docs/reference/api/pandas.to_datetime.html).\n",
    "\n",
    "Let's try the most exhaustive definition first, and select data from 75W to 45W, 20N to 30N, 0db to 10db and from January to May 2011:"
   ]
  },
  {
   "cell_type": "code",
   "execution_count": null,
   "id": "f90e788e-dea0-423a-8c60-77e7e1948cca",
   "metadata": {
    "editable": true,
    "slideshow": {
     "slide_type": ""
    },
    "tags": []
   },
   "outputs": [],
   "source": [
    "box = [-75, -45, 20, 30, 0, 10, '2011-01', '2011-06']\n",
    "f = f.region(box)\n",
    "f"
   ]
  },
  {
   "cell_type": "markdown",
   "id": "cc4e8c5c-1819-4071-9910-b96ec0cadddd",
   "metadata": {
    "editable": true,
    "slideshow": {
     "slide_type": ""
    },
    "tags": []
   },
   "source": [
    "<br>\n",
    "\n",
    "Now that the [DataFetcher](https://argopy.readthedocs.io/en/v1.3.0/generated/argopy.fetchers.ArgoDataFetcher.html#argopy.fetchers.ArgoDataFetcher) instance has been initialised with an access point, the print provides a little bit more information.\n",
    "\n",
    "Note that the last time bound is exclusive: that\u2019s why here we specify June to retrieve data collected in May."
   ]
  },
  {
   "cell_type": "markdown",
   "id": "8c893982-04c9-4c9a-8299-3d150e4dc59d",
   "metadata": {
    "editable": true,
    "slideshow": {
     "slide_type": ""
    },
    "tags": []
   },
   "source": [
    "#### \u270f\ufe0f EXERCICE\n",
    "Make the [DataFetcher](https://argopy.readthedocs.io/en/v1.3.0/generated/argopy.fetchers.ArgoDataFetcher.html#argopy.fetchers.ArgoDataFetcher) instance to select data from a single date, say Feb. 12th of 2009:\n",
    "\n",
    "\ud83d\udca1 Code hint:\n",
    "```python\n",
    "box = [-75, -45, 20, 30, 0, 10, ...\n",
    "f = f.region(box)\n",
    "f.data\n",
    "```"
   ]
  },
  {
   "cell_type": "code",
   "execution_count": null,
   "id": "04cb4faa-69a6-45dc-bbd5-a5c1271e74e8",
   "metadata": {
    "editable": true,
    "slideshow": {
     "slide_type": ""
    },
    "tags": []
   },
   "outputs": [],
   "source": [
    "# your code here"
   ]
  },
  {
   "cell_type": "markdown",
   "id": "2e0ec068-db72-4698-8da3-9da98818bf08",
   "metadata": {
    "editable": true,
    "slideshow": {
     "slide_type": ""
    },
    "tags": []
   },
   "source": [
    "### \ud83e\udd16 For one or more floats\n",
    "\n",
    "If you know the Argo float unique identifier number, called a WMO number, you can use the access point ``float`` to specify one or more float WMO platform numbers to select.\n",
    "\n",
    "For instance, to select data for float WMO 6902746:"
   ]
  },
  {
   "cell_type": "code",
   "execution_count": null,
   "id": "0ba7e11c-fe42-49d5-b48c-732a2dfff42e",
   "metadata": {
    "editable": true,
    "slideshow": {
     "slide_type": ""
    },
    "tags": []
   },
   "outputs": [],
   "source": [
    "f = f.float(6902746)\n",
    "f"
   ]
  },
  {
   "cell_type": "markdown",
   "id": "eb9783a9-812f-45f0-8ae4-60d102ee15d7",
   "metadata": {
    "editable": true,
    "slideshow": {
     "slide_type": ""
    },
    "tags": []
   },
   "source": [
    "<br>\n",
    "To fetch data for a collection of floats, input them in a list.\n",
    "\n",
    "#### \u270f\ufe0f EXERCICE\n",
    "Make the [DataFetcher](https://argopy.readthedocs.io/en/v1.3.0/generated/argopy.fetchers.ArgoDataFetcher.html#argopy.fetchers.ArgoDataFetcher) instance to select data from two floats, let's say 6902746 and 6902755:\n",
    "\n",
    "\ud83d\udca1 Code hint:\n",
    "```python\n",
    "    f = f.float(...\n",
    "    f\n",
    "```"
   ]
  },
  {
   "cell_type": "code",
   "execution_count": null,
   "id": "36d51cf0-9c83-4a05-a780-2151b59d9af0",
   "metadata": {
    "editable": true,
    "slideshow": {
     "slide_type": ""
    },
    "tags": []
   },
   "outputs": [],
   "source": [
    "# your code"
   ]
  },
  {
   "cell_type": "markdown",
   "id": "d4aa8947-ea98-4870-8849-dc2af858fb90",
   "metadata": {
    "editable": true,
    "slideshow": {
     "slide_type": ""
    },
    "tags": []
   },
   "source": [
    "### \u2693 For one or more profiles\n",
    "\n",
    "Use the fetcher access point ``profile`` to specify one or more float WMO platform number and profile cycle number(s) to retrieve profiles for.\n",
    "\n",
    "For instance, to select data from the 12th profile of float WMO 6902755:"
   ]
  },
  {
   "cell_type": "code",
   "execution_count": null,
   "id": "6e82d480-6e34-4ed3-915b-3e3715f0f11b",
   "metadata": {
    "editable": true,
    "slideshow": {
     "slide_type": ""
    },
    "tags": []
   },
   "outputs": [],
   "source": [
    "f = f.profile(6902755, 12)\n",
    "f"
   ]
  },
  {
   "cell_type": "markdown",
   "id": "72c9cb7b-cbb4-41ad-a81d-1b748607bb11",
   "metadata": {
    "editable": true,
    "slideshow": {
     "slide_type": ""
    },
    "tags": []
   },
   "source": [
    "<br>\n",
    "\n",
    "We can note that the profile number correspond to the cycle number."
   ]
  },
  {
   "cell_type": "markdown",
   "id": "dc067758-c9b1-4f39-b163-a364f107bfa0",
   "metadata": {
    "editable": true,
    "slideshow": {
     "slide_type": ""
    },
    "tags": []
   },
   "source": [
    "#### \u270f\ufe0f EXERCICE\n",
    "Make the [DataFetcher](https://argopy.readthedocs.io/en/v1.3.0/generated/argopy.fetchers.ArgoDataFetcher.html#argopy.fetchers.ArgoDataFetcher) instance to select data from the first 2 cycles of two floats, let's say again 6902746 and 6902755:\n",
    "\n",
    "\ud83d\udca1 Code hint:\n",
    "```python\n",
    "f = f.profile(...\n",
    "f\n",
    "```"
   ]
  },
  {
   "cell_type": "code",
   "execution_count": null,
   "id": "58baf518-9c5b-46e1-a951-bad79ebb9b88",
   "metadata": {
    "editable": true,
    "slideshow": {
     "slide_type": ""
    },
    "tags": []
   },
   "outputs": [],
   "source": [
    "# your code here"
   ]
  },
  {
   "cell_type": "markdown",
   "id": "a2cfadc5-b923-4cc0-8d3a-54f7ca417653",
   "metadata": {
    "editable": true,
    "slideshow": {
     "slide_type": ""
    },
    "tags": []
   },
   "source": [
    "## Trigger data fetching\n",
    "\n",
    "### Default and recommended data structures\n",
    "\n",
    "Once the access point is created, we can trigger data fetching by calling on the ``data`` property of the [DataFetcher](https://argopy.readthedocs.io/en/v1.3.0/generated/argopy.fetchers.ArgoDataFetcher.html#argopy.fetchers.ArgoDataFetcher) instance:"
   ]
  },
  {
   "cell_type": "code",
   "execution_count": null,
   "id": "f9ea2a58-f7e5-4c1c-b0d9-bb9c48f4ea77",
   "metadata": {
    "editable": true,
    "slideshow": {
     "slide_type": ""
    },
    "tags": []
   },
   "outputs": [],
   "source": [
    "%%time\n",
    "ds = f.data\n",
    "ds"
   ]
  },
  {
   "cell_type": "markdown",
   "id": "55c0dde3-3a64-454a-a702-0ebc697047b0",
   "metadata": {
    "editable": true,
    "slideshow": {
     "slide_type": ""
    },
    "tags": []
   },
   "source": [
    "<br>\n",
    "\n",
    "The ``%%time`` command is a Jupyter magic to monitor how much time is needed to execute the cell.\n",
    "\n",
    "Argopy works primarily with xarray [Dataset](https://docs.xarray.dev/en/stable/api/dataset.html) and this is what is return here when fetching Argo data.\n",
    "\n",
    "The ``data`` property keep track of data downloaded, so if you re-execute the same command, no data will be downloaded again and cached data are return.\n",
    "\n",
    "In a notebook, to make sure that you trigger a fresh data download, you can use the explicit ``to_xarray`` method:"
   ]
  },
  {
   "cell_type": "code",
   "execution_count": null,
   "id": "0b2c18f3-ca04-4b8f-826f-e801efb4c8c9",
   "metadata": {
    "editable": true,
    "slideshow": {
     "slide_type": ""
    },
    "tags": []
   },
   "outputs": [],
   "source": [
    "%%time\n",
    "ds = f.to_xarray()\n",
    "ds"
   ]
  },
  {
   "cell_type": "markdown",
   "id": "aeedb02d-d875-46ac-85f8-bd6bdefba539",
   "metadata": {
    "editable": true,
    "slideshow": {
     "slide_type": ""
    },
    "tags": []
   },
   "source": [
    "<br>\n",
    "\n",
    "You can also note that a [DataFetcher](https://argopy.readthedocs.io/en/v1.3.0/generated/argopy.fetchers.ArgoDataFetcher.html#argopy.fetchers.ArgoDataFetcher) will return data as a collection of points, not profiles. This is the default choice, primarily driven by performance considerations.\n",
    "\n",
    "But no worries, Argopy makes it very easy to go from a collection of points to profiles and vice versa. See this notebook for an illustration."
   ]
  },
  {
   "cell_type": "markdown",
   "id": "56e69741-4f35-4065-9fe7-cf6ba32c58ee",
   "metadata": {
    "editable": true,
    "slideshow": {
     "slide_type": ""
    },
    "tags": []
   },
   "source": [
    "### Alternative data structures\n",
    "\n",
    "Argopy also makes it easy to fetch data in alternative data structures.\n",
    "\n",
    "Like [Pandas Dataframe](https://pandas.pydata.org/docs/reference/frame.html):"
   ]
  },
  {
   "cell_type": "code",
   "execution_count": null,
   "id": "ddabbd8d-032e-4e3b-94ca-131efb484597",
   "metadata": {
    "editable": true,
    "slideshow": {
     "slide_type": ""
    },
    "tags": []
   },
   "outputs": [],
   "source": [
    "%%time\n",
    "df = f.to_dataframe()\n",
    "df.head()"
   ]
  },
  {
   "cell_type": "markdown",
   "id": "57156396-b4db-413e-81a2-dd711b8e4a9b",
   "metadata": {
    "editable": true,
    "slideshow": {
     "slide_type": ""
    },
    "tags": []
   },
   "source": [
    "<br>\n",
    "\n",
    "A [Pandas Dataframe](https://pandas.pydata.org/docs/reference/frame.html) may be usefull, but is not very efficient for performances since all the per-profile properties will have to be replicated on all one-profile rows."
   ]
  },
  {
   "cell_type": "markdown",
   "id": "8099c4c4-7b22-4728-ab49-920fcc19d6ea",
   "metadata": {
    "editable": true,
    "slideshow": {
     "slide_type": ""
    },
    "tags": []
   },
   "source": [
    "<br>\n",
    "\n",
    "For compatibility issues with legacy softwares and procedures, a [legacy Netcdf library dataset object](https://unidata.github.io/netcdf4-python/#netCDF4.Dataset) is also available as an output format.\n",
    "\n",
    "Although we strongly recommend users to migrate their procedures toward the [xarray Dataset](https://docs.xarray.dev/en/stable/generated/xarray.Dataset.html) structure, since it is easier to manipulate and allows more Argopy features to be used."
   ]
  },
  {
   "cell_type": "code",
   "execution_count": null,
   "id": "f4870d21-59ad-42b2-b1ec-1dfa86528484",
   "metadata": {
    "editable": true,
    "slideshow": {
     "slide_type": ""
    },
    "tags": []
   },
   "outputs": [],
   "source": [
    "%%time\n",
    "ds = f.to_dataset()\n",
    "ds"
   ]
  },
  {
   "cell_type": "markdown",
   "id": "873f5d53-0baa-43f8-8124-152820ace785",
   "metadata": {
    "editable": true,
    "slideshow": {
     "slide_type": ""
    },
    "tags": [
     "disclaimer"
    ]
   },
   "source": [
    "## \ud83c\udfc1 End of the notebook\n",
    "\n***\n",
    "#### \ud83d\udc40 Useful argopy commands\n",
    "```python\n",
    "argopy.reset_options()\n",
    "argopy.show_options()\n",
    "argopy.status()\n",
    "argopy.clear_cache()\n",
    "argopy.show_versions()\n",
    "```\n",
    "#### \u2696\ufe0f License Information\n",
    "This Jupyter Notebook is licensed under the **European Union Public Licence (EUPL) v1.2**.\n",
    "\n",
    "| Permissions      | Limitations     | Conditions                     |\n",
    "|------------------|-----------------|--------------------------------|\n",
    "| \u2714 Commercial use | \u274c Liability     | \u24d8 License and copyright notice |\n",
    "| \u2714 Modification   | \u274c Trademark use | \u24d8 Disclose source              |\n",
    "| \u2714 Distribution   | \u274c Warranty      | \u24d8 State changes                |\n",
    "| \u2714 Patent use     |                  | \u24d8 Network use is distribution  |\n",
    "| \u2714 Private use    |                  | \u24d8 Same license                 |\n",
    "\n",
    "For more details, visit: [EUPL v1.2 Full Text](https://github.com/euroargodev/argopy-training/blob/main/LICENSE).\n",
    "\n",
    "#### \ud83e\udd1d Sponsor\n",
    "![logo](https://raw.githubusercontent.com/euroargodev/argopy-training/refs/heads/main/for_nb_producers/template_argopy_training_EAONE.png)",
    "\n***\n"
   ]
  }
 ],
 "metadata": {
  "kernelspec": {
   "display_name": "argopy-training",
   "language": "python",
   "name": "argopy-training"
  },
  "language_info": {
   "codemirror_mode": {
    "name": "ipython",
    "version": 3
   },
   "file_extension": ".py",
   "mimetype": "text/x-python",
   "name": "python",
   "nbconvert_exporter": "python",
   "pygments_lexer": "ipython3",
   "version": "3.11.13"
  },
  "widgets": {
   "application/vnd.jupyter.widget-state+json": {
    "state": {},
    "version_major": 2,
    "version_minor": 0
   }
  }
 },
 "nbformat": 4,
 "nbformat_minor": 5
}