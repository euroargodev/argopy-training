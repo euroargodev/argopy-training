{
 "cells": [
  {
   "attachments": {},
   "cell_type": "markdown",
   "id": "b1b9c837-bb0b-47f3-a756-9737fa99659d",
   "metadata": {},
   "source": [
    "<img src=\"https://raw.githubusercontent.com/euroargodev/argopy/master/docs/_static/argopy_logo_long.png\" alt=\"argopy logo\" width=\"200\"/>\n",
    "\n",
    "# Training Camp - Sept 22<sup>th</sup> 2025\n",
    "\n",
    "***\n",
    "\n",
    "## Notebook Title : Data source and User mode options of the DataFetcher\n",
    "\n",
    "**Author contact : [G. Maze](https://annuaire.ifremer.fr/cv/17182)**\n",
    "\n",
    "**Description:**\n",
    "\n",
    "This notebook explore possible values for the 2 main options of the [DataFetcher](https://argopy.readthedocs.io/en/v1.3.0/generated/argopy.fetchers.ArgoDataFetcher.html#argopy.fetchers.ArgoDataFetcher):\n",
    "- `src` to select where to fetch data from,\n",
    "- `mode` to select user mode and the Argopy processing of raw Argo data.\n",
    "\n",
    "This is basically a notebook to explore these sections of the Argopy documentation: [Data sources](https://argopy.readthedocs.io/en/v1.3.0/user-guide/fetching-argo-data/data_sources.html) and [User modes (🏄, 🏊, 🚣)](https://argopy.readthedocs.io/en/v1.3.0/user-guide/fetching-argo-data/user_mode.html)\n",
    "\n",
    "For more details on BGC, data selection and performance optimisation, please refer to the dedicated notebooks.\n",
    "\n",
    "*This notebook was developed with Argopy version: 1.3*\n",
    "\n",
    "***"
   ]
  },
  {
   "cell_type": "markdown",
   "id": "04030cd3-10cd-4156-8df1-3537d483539e",
   "metadata": {},
   "source": [
    "Let's start with the usual import:"
   ]
  },
  {
   "cell_type": "code",
   "id": "d70a407f-12d2-451d-b35e-6d1cfbf971e8",
   "metadata": {},
   "source": [
    "from argopy import DataFetcher"
   ],
   "outputs": [],
   "execution_count": null
  },
  {
   "cell_type": "markdown",
   "id": "5a3a234b-e76f-4540-abcf-b4622e9ab55b",
   "metadata": {},
   "source": [
    "And to prevent cell output to be too large, we won't display xarray object attributes:"
   ]
  },
  {
   "cell_type": "code",
   "id": "afcf5cc9-d977-4932-9932-cf1b30de1f87",
   "metadata": {},
   "source": [
    "import xarray as xr\n",
    "xr.set_options(display_expand_attrs = False)"
   ],
   "outputs": [],
   "execution_count": null
  },
  {
   "cell_type": "markdown",
   "id": "cb67cadc-2d55-4bed-bb35-d7456b0aa863",
   "metadata": {},
   "source": [
    "### User modes (🏄, 🏊, 🚣)\n",
    "\n",
    "In order to ease Argo data analysis for the vast majority of users, we implemented in argopy different levels of verbosity and data processing to hide or simply remove variables only meaningful to experts.\n",
    "\n",
    "Please, look at this [section of the documentation ](https://argopy.readthedocs.io/en/v1.3.0/user-guide/fetching-argo-data/user_mode.html#definitions) for a detailed description of each user modes.\n",
    "\n",
    "In a nutshell, we recall that:\n",
    "\n",
    "- 🏄 expert mode return all the Argo data, without any postprocessing,\n",
    "- 🏊 standard mode simplifies the dataset, remove most of its jargon and return a priori good data,\n",
    "- 🚣 research mode simplifies the dataset to its heart, preserving only data of the highest quality for research studies,"
   ]
  },
  {
   "metadata": {},
   "cell_type": "markdown",
   "source": "The default user mode is **standard**, otherwise, it is selected with the `mode` option of the [DataFetcher](https://argopy.readthedocs.io/en/v1.3.0/generated/argopy.fetchers.ArgoDataFetcher.html#argopy.fetchers.ArgoDataFetcher):",
   "id": "42e17c44e5e6cb0b"
  },
  {
   "cell_type": "code",
   "id": "dba5b82f-7c95-444e-8d2f-85ef6550a2c3",
   "metadata": {},
   "source": [
    "f = DataFetcher(mode='standard')\n",
    "f"
   ],
   "outputs": [],
   "execution_count": null
  },
  {
   "metadata": {},
   "cell_type": "markdown",
   "source": "In **standard** mode, data are filtered according to quality control flags and many jargon variables are removed or simplified. For instance, here is the list of final variables available:",
   "id": "208fc579772d3221"
  },
  {
   "metadata": {},
   "cell_type": "code",
   "source": [
    "ds = f.profile(6902746, 12).to_xarray()\n",
    "ds.data_vars"
   ],
   "id": "c82ef0951c973d1d",
   "outputs": [],
   "execution_count": null
  },
  {
   "metadata": {},
   "cell_type": "markdown",
   "source": "The **research** mode is even stricter:",
   "id": "4765213deedfd02a"
  },
  {
   "metadata": {},
   "cell_type": "code",
   "source": "DataFetcher(mode='research').profile(6902746, 12).to_xarray().data_vars",
   "id": "3ce7ad2def63cde3",
   "outputs": [],
   "execution_count": null
  },
  {
   "metadata": {},
   "cell_type": "markdown",
   "source": "If you plan to use the **research** or **expert** modes for all your requests in a notebook or a script, you can change the default mode using the argopy option:",
   "id": "a08bda0c96493c37"
  },
  {
   "metadata": {},
   "cell_type": "code",
   "source": [
    "import argopy\n",
    "argopy.set_options(mode='research')"
   ],
   "id": "dbb61e57710c3039",
   "outputs": [],
   "execution_count": null
  },
  {
   "metadata": {},
   "cell_type": "markdown",
   "source": "Consequently, all [DataFetcher](https://argopy.readthedocs.io/en/v1.3.0/generated/argopy.fetchers.ArgoDataFetcher.html#argopy.fetchers.ArgoDataFetcher) will be in **research** mode.",
   "id": "ddf85df1293c9b4a"
  },
  {
   "metadata": {},
   "cell_type": "markdown",
   "source": [
    "#### EXERCICE\n",
    "\n",
    "Create a [DataFetcher](https://argopy.readthedocs.io/en/v1.3.0/generated/argopy.fetchers.ArgoDataFetcher.html#argopy.fetchers.ArgoDataFetcher) with the **expert** mode and fetch data from float 6903820.\n",
    "\n",
    "Re-fetch data in **research** mode for the same float, what's going on ?"
   ],
   "id": "b52a2d9450087de6"
  },
  {
   "metadata": {},
   "cell_type": "code",
   "source": [
    "ds_expert = DataFetcher(mode='expert').float(6903820).to_xarray()\n",
    "ds_expert.argo"
   ],
   "id": "bf7102f38f59e965",
   "outputs": [],
   "execution_count": null
  },
  {
   "metadata": {},
   "cell_type": "code",
   "source": [
    "ds_research = DataFetcher(mode='research').float(6903820).to_xarray()\n",
    "ds_research.argo"
   ],
   "id": "3df4f158330e903",
   "outputs": [],
   "execution_count": null
  },
  {
   "metadata": {},
   "cell_type": "markdown",
   "source": [
    "### Data sources\n",
    "\n",
    "Argopy can get access to Argo data from a variety of sources, local or remote:\n",
    "\n",
    "- ⭐ the [Ifremer erddap server](https://erddap.ifremer.fr/erddap/search/index.html?page=1&itemsPerPage=1000&searchFor=argo) (this is the default choice),\n",
    "- 🌐 a remote Argo GDAC server,\n",
    "- 🌐 a local folder that is following the GDAC structure,\n",
    "- 👁 the Argovis server.\n",
    "\n",
    "Each of the data sources have their own features and capabilities. Check the [dedicated section of the documentation](https://argopy.readthedocs.io/en/v1.3.0/user-guide/fetching-argo-data/data_sources.html) for more details."
   ],
   "id": "bdc59ba031dd2b38"
  },
  {
   "metadata": {},
   "cell_type": "markdown",
   "source": [
    "#### EXERCICE\n",
    "\n",
    "Compare erddap and GDAC responses for data from float 1900857:"
   ],
   "id": "7f13ffee43b218b0"
  },
  {
   "metadata": {},
   "cell_type": "code",
   "source": "argopy.reset_options()",
   "id": "94a6be44a60efd5b",
   "outputs": [],
   "execution_count": null
  },
  {
   "metadata": {},
   "cell_type": "code",
   "source": [
    "with argopy.set_options(src='erddap'):\n",
    "    ds_erddap = DataFetcher().float(1900857).data\n",
    "ds_erddap.argo"
   ],
   "id": "11a6557cfa19f026",
   "outputs": [],
   "execution_count": null
  },
  {
   "metadata": {},
   "cell_type": "code",
   "source": [
    "with argopy.set_options(src='gdac'):\n",
    "    ds_gdac = DataFetcher(host='gdac-http').float(1900857).data\n",
    "ds_gdac.argo"
   ],
   "id": "a09a703064efc933",
   "outputs": [],
   "execution_count": null
  },
  {
   "metadata": {},
   "cell_type": "code",
   "source": [
    "import numpy as np\n",
    "np.unique(ds_erddap['DIRECTION']), np.unique(ds_gdac['DIRECTION']),np.unique(ds_erddap['DATA_MODE']), np.unique(ds_gdac['DATA_MODE'])\n"
   ],
   "id": "b64e71cb7d04d12b",
   "outputs": [],
   "execution_count": null
  },
  {
   "cell_type": "markdown",
   "id": "873f5d53-0baa-43f8-8124-152820ace785",
   "metadata": {},
   "source": [
    "***\n",
    "![logo](https://raw.githubusercontent.com/euroargodev/argopy-training/refs/heads/main/notebooks/template_argopy_training_EAONE.png)"
   ]
  }
 ],
 "metadata": {
  "kernelspec": {
   "display_name": "argopy-training",
   "language": "python",
   "name": "argopy-training"
  },
  "language_info": {
   "codemirror_mode": {
    "name": "ipython",
    "version": 3
   },
   "file_extension": ".py",
   "mimetype": "text/x-python",
   "name": "python",
   "nbconvert_exporter": "python",
   "pygments_lexer": "ipython3",
   "version": "3.11.13"
  },
  "widgets": {
   "application/vnd.jupyter.widget-state+json": {
    "state": {},
    "version_major": 2,
    "version_minor": 0
   }
  }
 },
 "nbformat": 4,
 "nbformat_minor": 5
}
