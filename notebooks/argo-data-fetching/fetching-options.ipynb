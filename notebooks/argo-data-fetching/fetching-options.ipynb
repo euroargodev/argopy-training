{
 "cells": [
  {
   "attachments": {},
   "cell_type": "markdown",
   "id": "b1b9c837-bb0b-47f3-a756-9737fa99659d",
   "metadata": {},
   "source": [
    "<img src=\"https://raw.githubusercontent.com/euroargodev/argopy/master/docs/_static/argopy_logo_long.png\" alt=\"argopy logo\" width=\"200\"/>\n",
    "\n",
    "# Training Camp - Sept 22<sup>th</sup> 2025\n",
    "\n",
    "***\n",
    "\n",
    "## Notebook Title : Data source and User mode options of the DataFetcher\n",
    "\n",
    "**Author contact : [G. Maze](https://annuaire.ifremer.fr/cv/17182)**\n",
    "\n",
    "**Description:**\n",
    "\n",
    "This notebook explore possible values for the 2 main options of the [DataFetcher](https://argopy.readthedocs.io/en/v1.3.0/generated/argopy.fetchers.ArgoDataFetcher.html#argopy.fetchers.ArgoDataFetcher):\n",
    "- `src` to select where to fetch data from,\n",
    "- `mode` to select user mode and the Argopy processing of raw Argo data.\n",
    "\n",
    "This is basically a notebook to explore these sections of the Argopy documentation: [Data sources](https://argopy.readthedocs.io/en/v1.3.0/user-guide/fetching-argo-data/data_sources.html) and [User modes (\ud83c\udfc4, \ud83c\udfca, \ud83d\udea3)](https://argopy.readthedocs.io/en/v1.3.0/user-guide/fetching-argo-data/user_mode.html)\n",
    "\n",
    "For more details on [BGC](./bgc-specifics.ipynb), [data selection](./select-and-fetch-data.ipynb) and performance optimisation, please refer to the dedicated notebooks.\n",
    "\n",
    "*This notebook was developed with Argopy version: 1.3*\n",
    "\n",
    "***"
   ]
  },
  {
   "cell_type": "markdown",
   "id": "04030cd3-10cd-4156-8df1-3537d483539e",
   "metadata": {},
   "source": [
    "Let's start with the usual import:"
   ]
  },
  {
   "cell_type": "code",
   "execution_count": null,
   "id": "d70a407f-12d2-451d-b35e-6d1cfbf971e8",
   "metadata": {
    "ExecuteTime": {
     "end_time": "2025-09-10T12:15:46.999853Z",
     "start_time": "2025-09-10T12:15:36.028341Z"
    }
   },
   "outputs": [],
   "source": [
    "from argopy import DataFetcher"
   ]
  },
  {
   "cell_type": "markdown",
   "id": "5a3a234b-e76f-4540-abcf-b4622e9ab55b",
   "metadata": {},
   "source": [
    "And to prevent cell output to be too large, we won't display xarray object attributes:"
   ]
  },
  {
   "cell_type": "code",
   "execution_count": null,
   "id": "afcf5cc9-d977-4932-9932-cf1b30de1f87",
   "metadata": {
    "ExecuteTime": {
     "end_time": "2025-09-10T12:15:47.018041Z",
     "start_time": "2025-09-10T12:15:47.011900Z"
    }
   },
   "outputs": [],
   "source": [
    "import xarray as xr\n",
    "xr.set_options(display_expand_attrs = False)"
   ]
  },
  {
   "cell_type": "markdown",
   "id": "cb67cadc-2d55-4bed-bb35-d7456b0aa863",
   "metadata": {},
   "source": [
    "### User modes (\ud83c\udfc4, \ud83c\udfca, \ud83d\udea3)\n",
    "\n",
    "In order to ease Argo data analysis for the vast majority of users, we implemented in argopy different levels of verbosity and data processing to hide or simply remove variables only meaningful to experts.\n",
    "\n",
    "Please, look at this [section of the documentation ](https://argopy.readthedocs.io/en/v1.3.0/user-guide/fetching-argo-data/user_mode.html#definitions) for a detailed description of each user modes.\n",
    "\n",
    "In a nutshell, we recall that:\n",
    "\n",
    "- \ud83c\udfc4 expert mode return all the Argo data, without any postprocessing,\n",
    "- \ud83c\udfca standard mode simplifies the dataset, remove most of its jargon and return a priori good data,\n",
    "- \ud83d\udea3 research mode simplifies the dataset to its heart, preserving only data of the highest quality for research studies,"
   ]
  },
  {
   "cell_type": "markdown",
   "id": "42e17c44e5e6cb0b",
   "metadata": {},
   "source": [
    "The default user mode is **standard**, otherwise, it is selected with the `mode` option of the [DataFetcher](https://argopy.readthedocs.io/en/v1.3.0/generated/argopy.fetchers.ArgoDataFetcher.html#argopy.fetchers.ArgoDataFetcher):"
   ]
  },
  {
   "cell_type": "code",
   "execution_count": null,
   "id": "dba5b82f-7c95-444e-8d2f-85ef6550a2c3",
   "metadata": {
    "ExecuteTime": {
     "end_time": "2025-09-10T12:15:47.053266Z",
     "start_time": "2025-09-10T12:15:47.047778Z"
    }
   },
   "outputs": [],
   "source": [
    "f = DataFetcher(mode='standard')\n",
    "f"
   ]
  },
  {
   "cell_type": "markdown",
   "id": "208fc579772d3221",
   "metadata": {},
   "source": [
    "In **standard** mode, data are filtered according to quality control flags and many jargon variables are removed or simplified. For instance, here is the list of final variables available:"
   ]
  },
  {
   "cell_type": "code",
   "execution_count": null,
   "id": "c82ef0951c973d1d",
   "metadata": {
    "ExecuteTime": {
     "end_time": "2025-09-10T12:15:48.732053Z",
     "start_time": "2025-09-10T12:15:47.063416Z"
    }
   },
   "outputs": [],
   "source": [
    "ds = f.profile(6902746, 12).to_xarray()\n",
    "ds.data_vars"
   ]
  },
  {
   "cell_type": "markdown",
   "id": "4765213deedfd02a",
   "metadata": {},
   "source": [
    "The **research** mode is even stricter:"
   ]
  },
  {
   "cell_type": "code",
   "execution_count": null,
   "id": "3ce7ad2def63cde3",
   "metadata": {
    "ExecuteTime": {
     "end_time": "2025-09-10T12:15:50.420134Z",
     "start_time": "2025-09-10T12:15:48.850451Z"
    }
   },
   "outputs": [],
   "source": [
    "DataFetcher(mode='research').profile(6902746, 12).to_xarray().data_vars"
   ]
  },
  {
   "cell_type": "markdown",
   "id": "a08bda0c96493c37",
   "metadata": {},
   "source": [
    "If you plan to use the **research** or **expert** modes for all your requests in a notebook or a script, you can change the default mode using the argopy option:"
   ]
  },
  {
   "cell_type": "code",
   "execution_count": null,
   "id": "dbb61e57710c3039",
   "metadata": {
    "ExecuteTime": {
     "end_time": "2025-09-10T12:15:50.450067Z",
     "start_time": "2025-09-10T12:15:50.445491Z"
    }
   },
   "outputs": [],
   "source": [
    "import argopy\n",
    "argopy.set_options(mode='research')"
   ]
  },
  {
   "cell_type": "markdown",
   "id": "ddf85df1293c9b4a",
   "metadata": {},
   "source": [
    "Consequently, all [DataFetcher](https://argopy.readthedocs.io/en/v1.3.0/generated/argopy.fetchers.ArgoDataFetcher.html#argopy.fetchers.ArgoDataFetcher) will be in **research** mode."
   ]
  },
  {
   "cell_type": "markdown",
   "id": "b52a2d9450087de6",
   "metadata": {
    "editable": true,
    "slideshow": {
     "slide_type": ""
    },
    "tags": []
   },
   "source": [
    "#### \u270f\ufe0f EXERCICE\n",
    "\n",
    "Create a [DataFetcher](https://argopy.readthedocs.io/en/v1.3.0/generated/argopy.fetchers.ArgoDataFetcher.html#argopy.fetchers.ArgoDataFetcher) with the **expert** mode and fetch data from float 6903820.\n",
    "\n",
    "Re-fetch data in **research** mode for the same float, what's going on ?"
   ]
  },
  {
   "cell_type": "code",
   "execution_count": null,
   "id": "3b73a42d-7c14-42d5-8c78-ff94caa26845",
   "metadata": {
    "ExecuteTime": {
     "end_time": "2025-09-10T12:15:54.629573Z",
     "start_time": "2025-09-10T12:15:50.459065Z"
    },
    "editable": true,
    "slideshow": {
     "slide_type": ""
    },
    "tags": []
   },
   "outputs": [],
   "source": [
    "# Your code"
   ]
  },
  {
   "cell_type": "markdown",
   "id": "bdc59ba031dd2b38",
   "metadata": {},
   "source": [
    "### Data sources\n",
    "\n",
    "Argopy can get access to Argo data from a variety of sources, local or remote:\n",
    "\n",
    "- \u2b50 the [Ifremer erddap server](https://erddap.ifremer.fr/erddap/search/index.html?page=1&itemsPerPage=1000&searchFor=argo) (this is the default choice),\n",
    "- \ud83c\udf10 a remote Argo GDAC server,\n",
    "- \ud83c\udf10 a local folder that is following the GDAC structure,\n",
    "- \ud83d\udc41 the Argovis server.\n",
    "\n",
    "Each of the data sources have their own features and capabilities. Check the [dedicated section of the documentation](https://argopy.readthedocs.io/en/v1.3.0/user-guide/fetching-argo-data/data_sources.html) for more details."
   ]
  },
  {
   "cell_type": "markdown",
   "id": "7f13ffee43b218b0",
   "metadata": {
    "editable": true,
    "slideshow": {
     "slide_type": ""
    },
    "tags": []
   },
   "source": [
    "#### \u270f\ufe0f EXERCICE\n",
    "\n",
    "Compare performances from the erddap and GDAC responses to fetch data from float 1900857:"
   ]
  },
  {
   "cell_type": "code",
   "execution_count": null,
   "id": "1e636f68-a144-4f39-9fba-e6c37507fd8a",
   "metadata": {
    "ExecuteTime": {
     "end_time": "2025-09-10T12:16:00.962883Z",
     "start_time": "2025-09-10T12:16:00.061641Z"
    },
    "editable": true,
    "slideshow": {
     "slide_type": ""
    },
    "tags": []
   },
   "outputs": [],
   "source": [
    "argopy.reset_options()\n",
    "argopy.clear_cache()"
   ]
  },
  {
   "cell_type": "code",
   "execution_count": null,
   "id": "94a6be44a60efd5b",
   "metadata": {
    "ExecuteTime": {
     "end_time": "2025-09-10T12:16:00.962883Z",
     "start_time": "2025-09-10T12:16:00.061641Z"
    },
    "editable": true,
    "slideshow": {
     "slide_type": ""
    },
    "tags": []
   },
   "outputs": [],
   "source": [
    "# your code"
   ]
  },
  {
   "cell_type": "markdown",
   "id": "1c6d366b-1ff5-41d2-9018-fb73e12c1457",
   "metadata": {
    "editable": true,
    "slideshow": {
     "slide_type": ""
    },
    "tags": [
     "disclaimer"
    ]
   },
   "source": [
    "### \n",
    "***\n",
    "Useful argopy commands:\n",
    "```python\n",
    "argopy.show_versions()\n",
    "argopy.reset_options()\n",
    "argopy.show_options()\n",
    "argopy.clear_cache()\n",
    "argopy.status()\n",
    "```\n",
    "***\n",
    "![logo](https://raw.githubusercontent.com/euroargodev/argopy-training/refs/heads/main/for_nb_producers/template_argopy_training_EAONE.png)"
   ]
  }
 ],
 "metadata": {
  "kernelspec": {
   "display_name": "argopy-training",
   "language": "python",
   "name": "argopy-training"
  },
  "language_info": {
   "codemirror_mode": {
    "name": "ipython",
    "version": 3
   },
   "file_extension": ".py",
   "mimetype": "text/x-python",
   "name": "python",
   "nbconvert_exporter": "python",
   "pygments_lexer": "ipython3",
   "version": "3.11.13"
  },
  "widgets": {
   "application/vnd.jupyter.widget-state+json": {
    "state": {},
    "version_major": 2,
    "version_minor": 0
   }
  }
 },
 "nbformat": 4,
 "nbformat_minor": 5
}