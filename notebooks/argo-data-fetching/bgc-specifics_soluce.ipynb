{
 "cells": [
  {
   "attachments": {},
   "cell_type": "markdown",
   "id": "b1b9c837-bb0b-47f3-a756-9737fa99659d",
   "metadata": {},
   "source": [
    "<img src=\"https://raw.githubusercontent.com/euroargodev/argopy/master/docs/_static/argopy_logo_long.png\" alt=\"argopy logo\" width=\"200\"/>\n",
    "\n",
    "# Training Camp - Sept 22<sup>th</sup> 2025\n",
    "\n",
    "***\n",
    "\n",
    "## Notebook Title :  Select and fetch BGC-Argo data\n",
    "\n",
    "**Author contact : [G. Maze](https://annuaire.ifremer.fr/cv/17182)**\n",
    "\n",
    "**Disclaimer**: ⚠️ BGC-Argo support in Argopy is still in active development\n",
    "\n",
    "**Description:**\n",
    "\n",
    "This notebook shows how to use the [DataFetcher](https://argopy.readthedocs.io/en/v1.3.0/generated/argopy.fetchers.ArgoDataFetcher.html#argopy.fetchers.ArgoDataFetcher):\n",
    "- to load BGC-Argo data,\n",
    "- use the `params` option to restrict the list of parameters to load,\n",
    "- use the `measured` option to filter parameter content.\n",
    "\n",
    "This is basically a notebook to explore this section of the Argopy documentation: [the BGC dataset](https://argopy.readthedocs.io/en/v1.3.0/user-guide/fetching-argo-data/data_set.html#specifics-in-datafetcher).\n",
    "\n",
    "For more details on [data selection](./select-and-fetch-data.ipynb), [data sources, user modes](./fetching-options.ipynb) and performance optimisation, please refer to the dedicated notebooks.\n",
    "\n",
    "*This notebook was developed with Argopy version: 1.3*\n",
    "\n",
    "***"
   ]
  },
  {
   "cell_type": "markdown",
   "id": "873b2e5fae306788",
   "metadata": {},
   "source": [
    "Let's start with the usual import:"
   ]
  },
  {
   "cell_type": "code",
   "execution_count": 1,
   "id": "271fee25-a702-4a13-a767-10d227ede927",
   "metadata": {},
   "outputs": [],
   "source": [
    "from argopy import DataFetcher"
   ]
  },
  {
   "cell_type": "code",
   "execution_count": 2,
   "id": "b773990f-7630-47eb-832e-940ea5e750f7",
   "metadata": {},
   "outputs": [],
   "source": [
    "# import argopy\n",
    "# argopy.set_options(erddap='https://erddap-test1.ifremer.fr/erddap')"
   ]
  },
  {
   "cell_type": "markdown",
   "id": "41c2b6c2-84cc-4637-98e7-f1ecc118bda7",
   "metadata": {},
   "source": [
    "And to prevent cell output to be too large, we won't display xarray object attributes:"
   ]
  },
  {
   "cell_type": "code",
   "execution_count": 3,
   "id": "af1bf651-7d15-4d1a-b924-2db31a226884",
   "metadata": {},
   "outputs": [
    {
     "data": {
      "text/plain": [
       "<xarray.core.options.set_options at 0x10d48b7d0>"
      ]
     },
     "execution_count": 3,
     "metadata": {},
     "output_type": "execute_result"
    }
   ],
   "source": [
    "import xarray as xr\n",
    "xr.set_options(display_expand_attrs = False)"
   ]
  },
  {
   "cell_type": "markdown",
   "id": "eef9f6a0-4b7e-4df7-a02f-d33db016e926",
   "metadata": {},
   "source": [
    "### Load data from BGC-Argo\n",
    "\n",
    "❗Note that the [DataFetcher](https://argopy.readthedocs.io/en/v1.3.0/generated/argopy.fetchers.ArgoDataFetcher.html#argopy.fetchers.ArgoDataFetcher) will use the Ifremer erddap data source by default, which provides access to BGC **synthetic** profile files.\n",
    "\n",
    "Let's try to load BGC-Argo data for the Ionian Sea in 2024:"
   ]
  },
  {
   "cell_type": "code",
   "execution_count": 4,
   "id": "e1964e6e-ff34-4457-8344-150421624a3b",
   "metadata": {},
   "outputs": [
    {
     "data": {
      "text/plain": [
       "<datafetcher.erddap>\n",
       "⭐ Name: Ifremer erddap Argo BGC data fetcher for a space/time region\n",
       "🗺  Domain: [x=15.00/23.00; y=35.00/39.00; z=0.0/500.0; t=2024-01-01/2025-01-01]\n",
       "🔗 API: https://erddap.ifremer.fr/erddap\n",
       "📗 Parameters: ['BBP700', 'CHLA', 'DOWNWELLING_PAR', 'DOWN_IRRADIANCE380', 'DOWN_IRRADIANCE412', 'DOWN_IRRADIANCE490', 'DOXY', 'NITRATE', 'PRES', 'PSAL', 'TEMP']\n",
       "📕 BGC 'must be measured' parameters: []\n",
       "🏊 User mode: standard\n",
       "🟢 Dataset: bgc-s\n",
       "🌥  Performances: cache=False, parallel=False"
      ]
     },
     "execution_count": 4,
     "metadata": {},
     "output_type": "execute_result"
    }
   ],
   "source": [
    "box = [15, 23, 35, 39, 0, 500, '2024-01', '2025-01']\n",
    "f = DataFetcher(ds='bgc').region(box)\n",
    "f"
   ]
  },
  {
   "cell_type": "code",
   "execution_count": 5,
   "id": "1f140c8e-b66f-4272-a352-c7c34d01b348",
   "metadata": {},
   "outputs": [
    {
     "name": "stdout",
     "output_type": "stream",
     "text": [
      "CPU times: user 8.07 ms, sys: 3.72 ms, total: 11.8 ms\n",
      "Wall time: 11.8 s\n"
     ]
    },
    {
     "ename": "ErddapServerError",
     "evalue": "''",
     "output_type": "error",
     "traceback": [
      "\u001b[31m---------------------------------------------------------------------------\u001b[39m",
      "\u001b[31mClientResponseError\u001b[39m                       Traceback (most recent call last)",
      "\u001b[36mFile \u001b[39m\u001b[32m~/git/github/euroargodev/argopy/argopy/data_fetchers/erddap_data.py:583\u001b[39m, in \u001b[36mErddapArgoDataFetcher.to_xarray\u001b[39m\u001b[34m(self, errors, add_dm, concat, max_workers)\u001b[39m\n\u001b[32m    581\u001b[39m \u001b[38;5;28;01mtry\u001b[39;00m:\n\u001b[32m    582\u001b[39m     \u001b[38;5;66;03m# log_argopy_callerstack()\u001b[39;00m\n\u001b[32m--> \u001b[39m\u001b[32m583\u001b[39m     results = \u001b[38;5;28;43mself\u001b[39;49m\u001b[43m.\u001b[49m\u001b[43mfs\u001b[49m\u001b[43m.\u001b[49m\u001b[43mopen_dataset\u001b[49m\u001b[43m(\u001b[49m\u001b[43mURI\u001b[49m\u001b[43m[\u001b[49m\u001b[32;43m0\u001b[39;49m\u001b[43m]\u001b[49m\u001b[43m)\u001b[49m\n\u001b[32m    584\u001b[39m     results = pre_process(results, **preprocess_opts)\n",
      "\u001b[36mFile \u001b[39m\u001b[32m~/git/github/euroargodev/argopy/argopy/stores/implementations/http.py:347\u001b[39m, in \u001b[36mhttpstore.open_dataset\u001b[39m\u001b[34m(self, url, errors, lazy, dwn_opts, xr_opts, **kwargs)\u001b[39m\n\u001b[32m    346\u001b[39m \u001b[38;5;28;01mif\u001b[39;00m \u001b[38;5;129;01mnot\u001b[39;00m lazy:\n\u001b[32m--> \u001b[39m\u001b[32m347\u001b[39m     target, _ = \u001b[43mload_in_memory\u001b[49m\u001b[43m(\u001b[49m\n\u001b[32m    348\u001b[39m \u001b[43m        \u001b[49m\u001b[43murl\u001b[49m\u001b[43m,\u001b[49m\u001b[43m \u001b[49m\u001b[43merrors\u001b[49m\u001b[43m=\u001b[49m\u001b[43merrors\u001b[49m\u001b[43m,\u001b[49m\u001b[43m \u001b[49m\u001b[43mdwn_opts\u001b[49m\u001b[43m=\u001b[49m\u001b[43mdwn_opts\u001b[49m\u001b[43m,\u001b[49m\u001b[43m \u001b[49m\u001b[43mxr_opts\u001b[49m\u001b[43m=\u001b[49m\u001b[43mxr_opts\u001b[49m\n\u001b[32m    349\u001b[39m \u001b[43m    \u001b[49m\u001b[43m)\u001b[49m\n\u001b[32m    350\u001b[39m \u001b[38;5;28;01melse\u001b[39;00m:\n",
      "\u001b[36mFile \u001b[39m\u001b[32m~/git/github/euroargodev/argopy/argopy/stores/implementations/http.py:259\u001b[39m, in \u001b[36mhttpstore.open_dataset.<locals>.load_in_memory\u001b[39m\u001b[34m(url, errors, dwn_opts, xr_opts)\u001b[39m\n\u001b[32m    253\u001b[39m \u001b[38;5;250m\u001b[39m\u001b[33;03m\"\"\"Download url content and return data along with xarray option to open it\u001b[39;00m\n\u001b[32m    254\u001b[39m \n\u001b[32m    255\u001b[39m \u001b[33;03mReturns\u001b[39;00m\n\u001b[32m    256\u001b[39m \u001b[33;03m-------\u001b[39;00m\n\u001b[32m    257\u001b[39m \u001b[33;03mtuple: (data, xr_opts) or (None, None) if errors == \"ignore\"\u001b[39;00m\n\u001b[32m    258\u001b[39m \u001b[33;03m\"\"\"\u001b[39;00m\n\u001b[32m--> \u001b[39m\u001b[32m259\u001b[39m data = \u001b[38;5;28;43mself\u001b[39;49m\u001b[43m.\u001b[49m\u001b[43mdownload_url\u001b[49m\u001b[43m(\u001b[49m\u001b[43murl\u001b[49m\u001b[43m,\u001b[49m\u001b[43m \u001b[49m\u001b[43m*\u001b[49m\u001b[43m*\u001b[49m\u001b[43mdwn_opts\u001b[49m\u001b[43m)\u001b[49m\n\u001b[32m    260\u001b[39m \u001b[38;5;28;01mif\u001b[39;00m data \u001b[38;5;129;01mis\u001b[39;00m \u001b[38;5;28;01mNone\u001b[39;00m:\n",
      "\u001b[36mFile \u001b[39m\u001b[32m~/git/github/euroargodev/argopy/argopy/stores/implementations/http.py:167\u001b[39m, in \u001b[36mhttpstore.download_url\u001b[39m\u001b[34m(self, url, max_attempt, cat_opts, errors)\u001b[39m\n\u001b[32m    166\u001b[39m url = \u001b[38;5;28mself\u001b[39m.curateurl(url)\n\u001b[32m--> \u001b[39m\u001b[32m167\u001b[39m data, n = \u001b[43mmake_request\u001b[49m\u001b[43m(\u001b[49m\n\u001b[32m    168\u001b[39m \u001b[43m    \u001b[49m\u001b[38;5;28;43mself\u001b[39;49m\u001b[43m.\u001b[49m\u001b[43mfs\u001b[49m\u001b[43m,\u001b[49m\n\u001b[32m    169\u001b[39m \u001b[43m    \u001b[49m\u001b[43murl\u001b[49m\u001b[43m,\u001b[49m\n\u001b[32m    170\u001b[39m \u001b[43m    \u001b[49m\u001b[43mmax_attempt\u001b[49m\u001b[43m=\u001b[49m\u001b[43mmax_attempt\u001b[49m\u001b[43m,\u001b[49m\n\u001b[32m    171\u001b[39m \u001b[43m    \u001b[49m\u001b[43mcat_opts\u001b[49m\u001b[43m=\u001b[49m\u001b[43mcat_opts\u001b[49m\u001b[43m,\u001b[49m\n\u001b[32m    172\u001b[39m \u001b[43m    \u001b[49m\u001b[43merrors\u001b[49m\u001b[43m=\u001b[49m\u001b[43merrors\u001b[49m\u001b[43m,\u001b[49m\n\u001b[32m    173\u001b[39m \u001b[43m\u001b[49m\u001b[43m)\u001b[49m\n\u001b[32m    175\u001b[39m \u001b[38;5;28;01mif\u001b[39;00m data \u001b[38;5;129;01mis\u001b[39;00m \u001b[38;5;28;01mNone\u001b[39;00m:\n",
      "\u001b[36mFile \u001b[39m\u001b[32m~/git/github/euroargodev/argopy/argopy/stores/implementations/http.py:128\u001b[39m, in \u001b[36mhttpstore.download_url.<locals>.make_request\u001b[39m\u001b[34m(ffs, url, n_attempt, max_attempt, cat_opts, errors)\u001b[39m\n\u001b[32m    127\u001b[39m \u001b[38;5;28;01mif\u001b[39;00m errors == \u001b[33m\"\u001b[39m\u001b[33mraise\u001b[39m\u001b[33m\"\u001b[39m:\n\u001b[32m--> \u001b[39m\u001b[32m128\u001b[39m     \u001b[38;5;28;01mraise\u001b[39;00m e\n\u001b[32m    129\u001b[39m \u001b[38;5;28;01melif\u001b[39;00m errors == \u001b[33m\"\u001b[39m\u001b[33mignore\u001b[39m\u001b[33m\"\u001b[39m:\n",
      "\u001b[36mFile \u001b[39m\u001b[32m~/git/github/euroargodev/argopy/argopy/stores/implementations/http.py:119\u001b[39m, in \u001b[36mhttpstore.download_url.<locals>.make_request\u001b[39m\u001b[34m(ffs, url, n_attempt, max_attempt, cat_opts, errors)\u001b[39m\n\u001b[32m    118\u001b[39m \u001b[38;5;28;01mtry\u001b[39;00m:\n\u001b[32m--> \u001b[39m\u001b[32m119\u001b[39m     data = \u001b[43mffs\u001b[49m\u001b[43m.\u001b[49m\u001b[43mcat_file\u001b[49m\u001b[43m(\u001b[49m\u001b[43murl\u001b[49m\u001b[43m,\u001b[49m\u001b[43m \u001b[49m\u001b[43m*\u001b[49m\u001b[43m*\u001b[49m\u001b[43mcat_opts\u001b[49m\u001b[43m)\u001b[49m\n\u001b[32m    120\u001b[39m \u001b[38;5;28;01mexcept\u001b[39;00m \u001b[38;5;167;01mFileNotFoundError\u001b[39;00m \u001b[38;5;28;01mas\u001b[39;00m e:\n",
      "\u001b[36mFile \u001b[39m\u001b[32m~/miniconda3/envs/argopy-training/lib/python3.11/site-packages/fsspec/asyn.py:118\u001b[39m, in \u001b[36msync_wrapper.<locals>.wrapper\u001b[39m\u001b[34m(*args, **kwargs)\u001b[39m\n\u001b[32m    117\u001b[39m \u001b[38;5;28mself\u001b[39m = obj \u001b[38;5;129;01mor\u001b[39;00m args[\u001b[32m0\u001b[39m]\n\u001b[32m--> \u001b[39m\u001b[32m118\u001b[39m \u001b[38;5;28;01mreturn\u001b[39;00m \u001b[43msync\u001b[49m\u001b[43m(\u001b[49m\u001b[38;5;28;43mself\u001b[39;49m\u001b[43m.\u001b[49m\u001b[43mloop\u001b[49m\u001b[43m,\u001b[49m\u001b[43m \u001b[49m\u001b[43mfunc\u001b[49m\u001b[43m,\u001b[49m\u001b[43m \u001b[49m\u001b[43m*\u001b[49m\u001b[43margs\u001b[49m\u001b[43m,\u001b[49m\u001b[43m \u001b[49m\u001b[43m*\u001b[49m\u001b[43m*\u001b[49m\u001b[43mkwargs\u001b[49m\u001b[43m)\u001b[49m\n",
      "\u001b[36mFile \u001b[39m\u001b[32m~/miniconda3/envs/argopy-training/lib/python3.11/site-packages/fsspec/asyn.py:103\u001b[39m, in \u001b[36msync\u001b[39m\u001b[34m(loop, func, timeout, *args, **kwargs)\u001b[39m\n\u001b[32m    102\u001b[39m \u001b[38;5;28;01melif\u001b[39;00m \u001b[38;5;28misinstance\u001b[39m(return_result, \u001b[38;5;167;01mBaseException\u001b[39;00m):\n\u001b[32m--> \u001b[39m\u001b[32m103\u001b[39m     \u001b[38;5;28;01mraise\u001b[39;00m return_result\n\u001b[32m    104\u001b[39m \u001b[38;5;28;01melse\u001b[39;00m:\n",
      "\u001b[36mFile \u001b[39m\u001b[32m~/miniconda3/envs/argopy-training/lib/python3.11/site-packages/fsspec/asyn.py:56\u001b[39m, in \u001b[36m_runner\u001b[39m\u001b[34m(event, coro, result, timeout)\u001b[39m\n\u001b[32m     55\u001b[39m \u001b[38;5;28;01mtry\u001b[39;00m:\n\u001b[32m---> \u001b[39m\u001b[32m56\u001b[39m     result[\u001b[32m0\u001b[39m] = \u001b[38;5;28;01mawait\u001b[39;00m coro\n\u001b[32m     57\u001b[39m \u001b[38;5;28;01mexcept\u001b[39;00m \u001b[38;5;167;01mException\u001b[39;00m \u001b[38;5;28;01mas\u001b[39;00m ex:\n",
      "\u001b[36mFile \u001b[39m\u001b[32m~/miniconda3/envs/argopy-training/lib/python3.11/site-packages/fsspec/implementations/http.py:236\u001b[39m, in \u001b[36mHTTPFileSystem._cat_file\u001b[39m\u001b[34m(self, url, start, end, **kwargs)\u001b[39m\n\u001b[32m    235\u001b[39m     out = \u001b[38;5;28;01mawait\u001b[39;00m r.read()\n\u001b[32m--> \u001b[39m\u001b[32m236\u001b[39m     \u001b[38;5;28;43mself\u001b[39;49m\u001b[43m.\u001b[49m\u001b[43m_raise_not_found_for_status\u001b[49m\u001b[43m(\u001b[49m\u001b[43mr\u001b[49m\u001b[43m,\u001b[49m\u001b[43m \u001b[49m\u001b[43murl\u001b[49m\u001b[43m)\u001b[49m\n\u001b[32m    237\u001b[39m \u001b[38;5;28;01mreturn\u001b[39;00m out\n",
      "\u001b[36mFile \u001b[39m\u001b[32m~/miniconda3/envs/argopy-training/lib/python3.11/site-packages/fsspec/implementations/http.py:219\u001b[39m, in \u001b[36mHTTPFileSystem._raise_not_found_for_status\u001b[39m\u001b[34m(self, response, url)\u001b[39m\n\u001b[32m    218\u001b[39m     \u001b[38;5;28;01mraise\u001b[39;00m \u001b[38;5;167;01mFileNotFoundError\u001b[39;00m(url)\n\u001b[32m--> \u001b[39m\u001b[32m219\u001b[39m \u001b[43mresponse\u001b[49m\u001b[43m.\u001b[49m\u001b[43mraise_for_status\u001b[49m\u001b[43m(\u001b[49m\u001b[43m)\u001b[49m\n",
      "\u001b[36mFile \u001b[39m\u001b[32m~/miniconda3/envs/argopy-training/lib/python3.11/site-packages/aiohttp/client_reqrep.py:629\u001b[39m, in \u001b[36mClientResponse.raise_for_status\u001b[39m\u001b[34m(self)\u001b[39m\n\u001b[32m    627\u001b[39m     \u001b[38;5;28mself\u001b[39m.release()\n\u001b[32m--> \u001b[39m\u001b[32m629\u001b[39m \u001b[38;5;28;01mraise\u001b[39;00m ClientResponseError(\n\u001b[32m    630\u001b[39m     \u001b[38;5;28mself\u001b[39m.request_info,\n\u001b[32m    631\u001b[39m     \u001b[38;5;28mself\u001b[39m.history,\n\u001b[32m    632\u001b[39m     status=\u001b[38;5;28mself\u001b[39m.status,\n\u001b[32m    633\u001b[39m     message=\u001b[38;5;28mself\u001b[39m.reason,\n\u001b[32m    634\u001b[39m     headers=\u001b[38;5;28mself\u001b[39m.headers,\n\u001b[32m    635\u001b[39m )\n",
      "\u001b[31mClientResponseError\u001b[39m: 413, message='', url='https://erddap.ifremer.fr/erddap/tabledap/ArgoFloats-synthetic-BGC.nc?bbp700,bbp700_adjusted,bbp700_adjusted_error,bbp700_adjusted_qc,bbp700_qc,chla,chla_adjusted,chla_adjusted_error,chla_adjusted_qc,chla_qc,config_mission_number,cycle_number,direction,down_irradiance380,down_irradiance380_adjusted,down_irradiance380_adjusted_error,down_irradiance380_adjusted_qc,down_irradiance380_qc,down_irradiance412,down_irradiance412_adjusted,down_irradiance412_adjusted_error,down_irradiance412_adjusted_qc,down_irradiance412_qc,down_irradiance490,down_irradiance490_adjusted,down_irradiance490_adjusted_error,down_irradiance490_adjusted_qc,down_irradiance490_qc,downwelling_par,downwelling_par_adjusted,downwelling_par_adjusted_error,downwelling_par_adjusted_qc,downwelling_par_qc,doxy,doxy_adjusted,doxy_adjusted_error,doxy_adjusted_qc,doxy_qc,latitude,longitude,nitrate,nitrate_adjusted,nitrate_adjusted_error,nitrate_adjusted_qc,nitrate_qc,platform_number,position_qc,pres,pres_adjusted,pres_adjusted_error,pres_adjusted_qc,pres_qc,psal,psal_adjusted,psal_adjusted_error,psal_adjusted_qc,psal_qc,temp,temp_adjusted,temp_adjusted_error,temp_adjusted_qc,temp_qc,time,time_qc&longitude%3E=15&longitude%3C=23&latitude%3E=35&latitude%3C=39&pres%3E=0&pres%3C=500&time%3E=1704067200.0&time%3C=1735689600.0&latitude!=NaN&longitude!=NaN&distinct()&orderBy(%22time,pres%22)'",
      "\nDuring handling of the above exception, another exception occurred:\n",
      "\u001b[31mErddapServerError\u001b[39m                         Traceback (most recent call last)",
      "\u001b[36mCell\u001b[39m\u001b[36m \u001b[39m\u001b[32mIn[5]\u001b[39m\u001b[32m, line 1\u001b[39m\n\u001b[32m----> \u001b[39m\u001b[32m1\u001b[39m \u001b[43mget_ipython\u001b[49m\u001b[43m(\u001b[49m\u001b[43m)\u001b[49m\u001b[43m.\u001b[49m\u001b[43mrun_cell_magic\u001b[49m\u001b[43m(\u001b[49m\u001b[33;43m'\u001b[39;49m\u001b[33;43mtime\u001b[39;49m\u001b[33;43m'\u001b[39;49m\u001b[43m,\u001b[49m\u001b[43m \u001b[49m\u001b[33;43m'\u001b[39;49m\u001b[33;43m'\u001b[39;49m\u001b[43m,\u001b[49m\u001b[43m \u001b[49m\u001b[33;43m'\u001b[39;49m\u001b[33;43mds = f.data\u001b[39;49m\u001b[38;5;130;43;01m\\n\u001b[39;49;00m\u001b[33;43mds.argo\u001b[39;49m\u001b[38;5;130;43;01m\\n\u001b[39;49;00m\u001b[33;43m'\u001b[39;49m\u001b[43m)\u001b[49m\n",
      "\u001b[36mFile \u001b[39m\u001b[32m~/miniconda3/envs/argopy-training/lib/python3.11/site-packages/IPython/core/interactiveshell.py:2565\u001b[39m, in \u001b[36mInteractiveShell.run_cell_magic\u001b[39m\u001b[34m(self, magic_name, line, cell)\u001b[39m\n\u001b[32m   2563\u001b[39m \u001b[38;5;28;01mwith\u001b[39;00m \u001b[38;5;28mself\u001b[39m.builtin_trap:\n\u001b[32m   2564\u001b[39m     args = (magic_arg_s, cell)\n\u001b[32m-> \u001b[39m\u001b[32m2565\u001b[39m     result = \u001b[43mfn\u001b[49m\u001b[43m(\u001b[49m\u001b[43m*\u001b[49m\u001b[43margs\u001b[49m\u001b[43m,\u001b[49m\u001b[43m \u001b[49m\u001b[43m*\u001b[49m\u001b[43m*\u001b[49m\u001b[43mkwargs\u001b[49m\u001b[43m)\u001b[49m\n\u001b[32m   2567\u001b[39m \u001b[38;5;66;03m# The code below prevents the output from being displayed\u001b[39;00m\n\u001b[32m   2568\u001b[39m \u001b[38;5;66;03m# when using magics with decorator @output_can_be_silenced\u001b[39;00m\n\u001b[32m   2569\u001b[39m \u001b[38;5;66;03m# when the last Python token in the expression is a ';'.\u001b[39;00m\n\u001b[32m   2570\u001b[39m \u001b[38;5;28;01mif\u001b[39;00m \u001b[38;5;28mgetattr\u001b[39m(fn, magic.MAGIC_OUTPUT_CAN_BE_SILENCED, \u001b[38;5;28;01mFalse\u001b[39;00m):\n",
      "\u001b[36mFile \u001b[39m\u001b[32m~/miniconda3/envs/argopy-training/lib/python3.11/site-packages/IPython/core/magics/execution.py:1470\u001b[39m, in \u001b[36mExecutionMagics.time\u001b[39m\u001b[34m(self, line, cell, local_ns)\u001b[39m\n\u001b[32m   1468\u001b[39m \u001b[38;5;28;01mif\u001b[39;00m interrupt_occured:\n\u001b[32m   1469\u001b[39m     \u001b[38;5;28;01mif\u001b[39;00m exit_on_interrupt \u001b[38;5;129;01mand\u001b[39;00m captured_exception:\n\u001b[32m-> \u001b[39m\u001b[32m1470\u001b[39m         \u001b[38;5;28;01mraise\u001b[39;00m captured_exception\n\u001b[32m   1471\u001b[39m     \u001b[38;5;28;01mreturn\u001b[39;00m\n\u001b[32m   1472\u001b[39m \u001b[38;5;28;01mreturn\u001b[39;00m out\n",
      "\u001b[36mFile \u001b[39m\u001b[32m~/miniconda3/envs/argopy-training/lib/python3.11/site-packages/IPython/core/magics/execution.py:1434\u001b[39m, in \u001b[36mExecutionMagics.time\u001b[39m\u001b[34m(self, line, cell, local_ns)\u001b[39m\n\u001b[32m   1432\u001b[39m st = clock2()\n\u001b[32m   1433\u001b[39m \u001b[38;5;28;01mtry\u001b[39;00m:\n\u001b[32m-> \u001b[39m\u001b[32m1434\u001b[39m     \u001b[43mexec\u001b[49m\u001b[43m(\u001b[49m\u001b[43mcode\u001b[49m\u001b[43m,\u001b[49m\u001b[43m \u001b[49m\u001b[43mglob\u001b[49m\u001b[43m,\u001b[49m\u001b[43m \u001b[49m\u001b[43mlocal_ns\u001b[49m\u001b[43m)\u001b[49m\n\u001b[32m   1435\u001b[39m     out = \u001b[38;5;28;01mNone\u001b[39;00m\n\u001b[32m   1436\u001b[39m     \u001b[38;5;66;03m# multi-line %%time case\u001b[39;00m\n",
      "\u001b[36mFile \u001b[39m\u001b[32m<timed exec>:1\u001b[39m\n",
      "\u001b[36mFile \u001b[39m\u001b[32m~/git/github/euroargodev/argopy/argopy/fetchers.py:347\u001b[39m, in \u001b[36mArgoDataFetcher.data\u001b[39m\u001b[34m(self)\u001b[39m\n\u001b[32m    339\u001b[39m \u001b[38;5;250m\u001b[39m\u001b[33;03m\"\"\"Data structure\u001b[39;00m\n\u001b[32m    340\u001b[39m \n\u001b[32m    341\u001b[39m \u001b[33;03mReturns\u001b[39;00m\n\u001b[32m   (...)\u001b[39m\u001b[32m    344\u001b[39m \u001b[33;03m    Fetched data\u001b[39;00m\n\u001b[32m    345\u001b[39m \u001b[33;03m\"\"\"\u001b[39;00m\n\u001b[32m    346\u001b[39m \u001b[38;5;28;01mif\u001b[39;00m \u001b[38;5;129;01mnot\u001b[39;00m \u001b[38;5;28misinstance\u001b[39m(\u001b[38;5;28mself\u001b[39m._data, xr.Dataset) \u001b[38;5;129;01mor\u001b[39;00m \u001b[38;5;28mself\u001b[39m._request != \u001b[38;5;28mself\u001b[39m.\u001b[34m__repr__\u001b[39m():\n\u001b[32m--> \u001b[39m\u001b[32m347\u001b[39m     \u001b[38;5;28;43mself\u001b[39;49m\u001b[43m.\u001b[49m\u001b[43mload\u001b[49m\u001b[43m(\u001b[49m\u001b[43m)\u001b[49m\n\u001b[32m    348\u001b[39m     \u001b[38;5;28;01mif\u001b[39;00m \u001b[38;5;28mself\u001b[39m._data \u001b[38;5;129;01mis\u001b[39;00m \u001b[38;5;28;01mNone\u001b[39;00m:\n\u001b[32m    349\u001b[39m         \u001b[38;5;28;01mraise\u001b[39;00m DataNotFound(\u001b[33m\"\u001b[39m\u001b[33mSeems like no data were found. Try to use to_xarray() explicitly\u001b[39m\u001b[33m\"\u001b[39m)\n",
      "\u001b[36mFile \u001b[39m\u001b[32m~/git/github/euroargodev/argopy/argopy/fetchers.py:886\u001b[39m, in \u001b[36mArgoDataFetcher.load\u001b[39m\u001b[34m(self, force, **kwargs)\u001b[39m\n\u001b[32m    882\u001b[39m     force = \u001b[38;5;28;01mTrue\u001b[39;00m\n\u001b[32m    884\u001b[39m \u001b[38;5;28;01mif\u001b[39;00m \u001b[38;5;129;01mnot\u001b[39;00m \u001b[38;5;28mself\u001b[39m._loaded \u001b[38;5;129;01mor\u001b[39;00m force:\n\u001b[32m    885\u001b[39m     \u001b[38;5;66;03m# Fetch measurements:\u001b[39;00m\n\u001b[32m--> \u001b[39m\u001b[32m886\u001b[39m     \u001b[38;5;28mself\u001b[39m._data = \u001b[38;5;28;43mself\u001b[39;49m\u001b[43m.\u001b[49m\u001b[43m_to_xarray\u001b[49m\u001b[43m(\u001b[49m\u001b[43m*\u001b[49m\u001b[43m*\u001b[49m\u001b[43mkwargs\u001b[49m\u001b[43m)\u001b[49m\n\u001b[32m    887\u001b[39m     \u001b[38;5;66;03m# Next 2 lines must come before ._index because to_index(full=False) calls back on .load() to read .data\u001b[39;00m\n\u001b[32m    888\u001b[39m     \u001b[38;5;28mself\u001b[39m._request = \u001b[38;5;28mself\u001b[39m.\u001b[34m__repr__\u001b[39m()  \u001b[38;5;66;03m# Save definition of loaded data\u001b[39;00m\n",
      "\u001b[36mFile \u001b[39m\u001b[32m~/git/github/euroargodev/argopy/argopy/fetchers.py:673\u001b[39m, in \u001b[36mArgoDataFetcher._to_xarray\u001b[39m\u001b[34m(self, **kwargs)\u001b[39m\n\u001b[32m    668\u001b[39m \u001b[38;5;28;01mif\u001b[39;00m \u001b[38;5;129;01mnot\u001b[39;00m \u001b[38;5;28mself\u001b[39m.fetcher:\n\u001b[32m    669\u001b[39m     \u001b[38;5;28;01mraise\u001b[39;00m InvalidFetcher(\n\u001b[32m    670\u001b[39m         \u001b[33m\"\u001b[39m\u001b[33m Initialize an access point (\u001b[39m\u001b[38;5;132;01m%s\u001b[39;00m\u001b[33m) first.\u001b[39m\u001b[33m\"\u001b[39m\n\u001b[32m    671\u001b[39m         % \u001b[33m\"\u001b[39m\u001b[33m,\u001b[39m\u001b[33m\"\u001b[39m.join(\u001b[38;5;28mself\u001b[39m.Fetchers.keys())\n\u001b[32m    672\u001b[39m     )\n\u001b[32m--> \u001b[39m\u001b[32m673\u001b[39m xds = \u001b[38;5;28;43mself\u001b[39;49m\u001b[43m.\u001b[49m\u001b[43mfetcher\u001b[49m\u001b[43m.\u001b[49m\u001b[43mto_xarray\u001b[49m\u001b[43m(\u001b[49m\u001b[43m*\u001b[49m\u001b[43m*\u001b[49m\u001b[43mkwargs\u001b[49m\u001b[43m)\u001b[49m\n\u001b[32m    674\u001b[39m xds = \u001b[38;5;28mself\u001b[39m.postprocess(xds)\n\u001b[32m    676\u001b[39m \u001b[38;5;28;01mreturn\u001b[39;00m xds\n",
      "\u001b[36mFile \u001b[39m\u001b[32m~/git/github/euroargodev/argopy/argopy/data_fetchers/erddap_data.py:600\u001b[39m, in \u001b[36mErddapArgoDataFetcher.to_xarray\u001b[39m\u001b[34m(self, errors, add_dm, concat, max_workers)\u001b[39m\n\u001b[32m    594\u001b[39m             \u001b[38;5;28;01mraise\u001b[39;00m ErddapServerError(\n\u001b[32m    595\u001b[39m                 \u001b[33m\"\u001b[39m\u001b[33mYour request is generating too much data on the server\u001b[39m\u001b[33m\"\u001b[39m\n\u001b[32m    596\u001b[39m                 \u001b[33m\"\u001b[39m\u001b[33mYou can try to use the \u001b[39m\u001b[33m'\u001b[39m\u001b[33mparallel\u001b[39m\u001b[33m'\u001b[39m\u001b[33m option to chunk it \u001b[39m\u001b[33m\"\u001b[39m\n\u001b[32m    597\u001b[39m                 \u001b[33m\"\u001b[39m\u001b[33minto smaller requests.\u001b[39m\u001b[33m\"\u001b[39m\n\u001b[32m    598\u001b[39m             )\n\u001b[32m    599\u001b[39m         \u001b[38;5;28;01melse\u001b[39;00m:\n\u001b[32m--> \u001b[39m\u001b[32m600\u001b[39m             \u001b[38;5;28;01mraise\u001b[39;00m ErddapServerError(e.message)\n\u001b[32m    602\u001b[39m \u001b[38;5;28;01melse\u001b[39;00m:\n\u001b[32m    603\u001b[39m     \u001b[38;5;28;01mtry\u001b[39;00m:\n",
      "\u001b[31mErddapServerError\u001b[39m: ''"
     ]
    }
   ],
   "source": [
    "%%time\n",
    "ds = f.data\n",
    "ds.argo"
   ]
  },
  {
   "cell_type": "code",
   "execution_count": null,
   "id": "3cd211a8-1b84-47d7-91f7-710e67334125",
   "metadata": {},
   "outputs": [],
   "source": [
    "ds.data_vars"
   ]
  },
  {
   "cell_type": "markdown",
   "id": "48b97436-adac-4951-abca-75fed54820b5",
   "metadata": {},
   "source": [
    "<br>\n",
    "\n",
    "Profiles location can be map with:"
   ]
  },
  {
   "cell_type": "code",
   "execution_count": null,
   "id": "4c1ac7d7-bb33-47f5-aba6-eff4963002e7",
   "metadata": {},
   "outputs": [],
   "source": [
    "f.plot('trajectory');"
   ]
  },
  {
   "cell_type": "markdown",
   "id": "85aaf5d8-5b77-40be-bc09-f755ded867bf",
   "metadata": {},
   "source": [
    "<br>\n",
    "\n",
    "You can also quickly look at some parameters:"
   ]
  },
  {
   "cell_type": "code",
   "execution_count": null,
   "id": "1056f008-db75-4028-9871-32c25da81440",
   "metadata": {},
   "outputs": [],
   "source": [
    "f.plot('DOXY');"
   ]
  },
  {
   "cell_type": "markdown",
   "id": "cf165fa8-bb7d-4f29-81cf-34f1b215e002",
   "metadata": {},
   "source": [
    "<br>\n",
    "\n",
    "You can check the corresponding profile index structure (pandas.dataframe):"
   ]
  },
  {
   "cell_type": "code",
   "execution_count": null,
   "id": "ad714663-7f09-4062-bb7b-eb3ca6db16d9",
   "metadata": {},
   "outputs": [],
   "source": [
    "df = f.index\n",
    "df.head()"
   ]
  },
  {
   "cell_type": "markdown",
   "id": "bdfd0794-f599-4cf5-811e-85e6550c1eab",
   "metadata": {},
   "source": [
    "#### ✏️ EXERCICE\n",
    "\n",
    "Download BGC-Argo data for Italian BGC float 6903222 and plot oxygen values.\n",
    "\n",
    "If necessary, you can check the [data selection](./select-and-fetch-data.ipynb) notebook for help in selecting data for a given float."
   ]
  },
  {
   "cell_type": "markdown",
   "id": "7505f7a1-88f2-4273-b814-37632c592247",
   "metadata": {},
   "source": [
    "💡 Hint:\n",
    "```python\n",
    "    %%time\n",
    "    f = DataFetcher(ds='bgc')...\n",
    "    f.data\n",
    "\n",
    "    f.plot...\n",
    "```      "
   ]
  },
  {
   "cell_type": "code",
   "execution_count": null,
   "id": "11c84185-5fb6-4711-8d25-badb1e5b82e8",
   "metadata": {},
   "outputs": [],
   "source": [
    "# Your code here\n",
    "f = DataFetcher(ds='bgc').float(6903222)\n",
    "f.data\n",
    "\n",
    "f.plot('DOXY')"
   ]
  },
  {
   "cell_type": "markdown",
   "id": "2de59704-dffa-440d-801b-4b79c24841a3",
   "metadata": {},
   "source": [
    "### `params` argument\n",
    "\n",
    "[📘 Check the dedicated documentation section here](https://argopy.readthedocs.io/en/v1.3.0/user-guide/fetching-argo-data/data_set.html#the-params-argument).\n",
    "\n",
    "Beyond the few key BGC parameters, there exist in the Argo dataset more than 120 BGC-related variables !\n",
    "\n",
    "Therefore, it is often the case that BGC-Argo data fetching will fail because the dataset to assemble for a given selection is too large. We recommend to look at the tutorial on [how to handle large data selection](./large-data-selection.ipynb) for simple ways to possibly go through large data requests.\n",
    "\n",
    "**Another solution to this issue is to make explicit the list of BGC parameters you are interested in**. This is a *frugal* approach that will surely benefit the simplicity of your code and the planet by limiting data transfer to what you really need.\n",
    "\n",
    "This can be done with the `params` argument of the [DataFetcher](https://argopy.readthedocs.io/en/v1.3.0/generated/argopy.fetchers.ArgoDataFetcher.html#argopy.fetchers.ArgoDataFetcher).\n",
    "\n",
    "As an example, let's download oxygen data from the Ionian Sea in 2024.\n",
    "\n",
    "We first create the [DataFetcher](https://argopy.readthedocs.io/en/v1.3.0/generated/argopy.fetchers.ArgoDataFetcher.html#argopy.fetchers.ArgoDataFetcher) instance with the appropriate options:"
   ]
  },
  {
   "cell_type": "code",
   "execution_count": null,
   "id": "bcad432f-2ca6-4313-bc4b-9708bf16111f",
   "metadata": {},
   "outputs": [],
   "source": [
    "box = [15, 23, 35, 39, 0, 500, '2024-01', '2025-01']\n",
    "f = DataFetcher(ds='bgc', params='DOXY').region(box)\n",
    "f"
   ]
  },
  {
   "cell_type": "markdown",
   "id": "4449a089-b390-4ac8-99fb-f6bc47f94299",
   "metadata": {},
   "source": [
    "<br>\n",
    "\n",
    "and then we trigger download and look at the data structure with the `argo` xarray accessor:"
   ]
  },
  {
   "cell_type": "code",
   "execution_count": null,
   "id": "7142c23b-cd63-425d-aa6c-0545146ce492",
   "metadata": {},
   "outputs": [],
   "source": [
    "%%time\n",
    "ds = f.data  # Trigger data fetching and processing\n",
    "ds.argo"
   ]
  },
  {
   "cell_type": "markdown",
   "id": "65d372d1-fd36-44b5-bfda-cf5d17eacb58",
   "metadata": {},
   "source": [
    "<br>\n",
    "\n",
    "If we check on the list of variables in this dataset, we do have only 'DOXY' for BGC variables:"
   ]
  },
  {
   "cell_type": "code",
   "execution_count": null,
   "id": "026896a7-7907-4b7a-9fa0-e44b8707f545",
   "metadata": {},
   "outputs": [],
   "source": [
    "ds.data_vars"
   ]
  },
  {
   "cell_type": "markdown",
   "id": "d449ce7f-2926-4216-b1c9-e77315ee0d3f",
   "metadata": {},
   "source": [
    "#### 🔍 Pro tip\n",
    "\n",
    "There is no need to add `<PARAM>_ADUSTED` along with `<PARAM>` in the ``params`` argument. This is done automatically by Argopy, depending on the user mode chosen and the post-processing required.\n",
    "\n",
    "For instance, in *standard* mode, `DOXY` and `DOXY_ADJUSTED` will be requested, because the final value in `DOXY` will depend on the data mode of the parameter.\n",
    "\n",
    "In *research* mode, only `DOXY_ADJUSTED` is requested.\n",
    "\n",
    "You can look at this page of the documentation for a [detailled description of the argopy post-processing of the Argo data as a function of the dataset and user-mode](https://argopy.readthedocs.io/en/v1.3.0/user-guide/fetching-argo-data/user_mode.html#definitions)."
   ]
  },
  {
   "cell_type": "markdown",
   "id": "a17f80a1-8f20-413a-b72c-957cb2df4ba9",
   "metadata": {},
   "source": [
    "#### 🔍 Pro tip\n",
    "\n",
    "In a [future release](https://github.com/euroargodev/argopy/issues/490) we will add a simple method to list all available parameters that could go into the ``params`` argument.\n",
    "\n",
    "In the mean time, this list can be accessed using this *private* method:"
   ]
  },
  {
   "cell_type": "code",
   "execution_count": null,
   "id": "0dfa99a9-6fcc-4724-b936-50cdc70588ea",
   "metadata": {},
   "outputs": [],
   "source": [
    "f.fetcher._bgc_vlist_avail"
   ]
  },
  {
   "cell_type": "markdown",
   "id": "59685166-a301-4f08-87e3-dfb3ed854ef8",
   "metadata": {},
   "source": [
    "#### ✏️ EXERCICE\n",
    "\n",
    "Load only chlorophyll data from the same regional box.\n",
    "\n",
    "💡 Hint:\n",
    "```python\n",
    "%%time\n",
    "ds = DataFetcher(ds='bgc', params=...\n",
    "ds.argo\n",
    "```"
   ]
  },
  {
   "cell_type": "code",
   "execution_count": null,
   "id": "fc9ad675-830a-4497-a4af-199e8456ba4d",
   "metadata": {},
   "outputs": [],
   "source": [
    "# Your code here\n",
    "box = [15, 23, 35, 39, 0, 500, '2024-01', '2025-01']\n",
    "f = DataFetcher(ds='bgc', params='CHLA').region(box)\n",
    "f.data"
   ]
  },
  {
   "cell_type": "markdown",
   "id": "a41fa470-bd18-4899-af96-f71122dc16d4",
   "metadata": {},
   "source": [
    "### \n",
    "***\n",
    "Useful argopy commands:"
   ]
  },
  {
   "cell_type": "code",
   "execution_count": null,
   "id": "d9c4e9ea-667d-477d-943d-8dfa56f5efb7",
   "metadata": {},
   "outputs": [],
   "source": [
    "# argopy.show_versions()\n",
    "# argopy.reset_options()\n",
    "# argopy.show_options()\n",
    "# argopy.clear_cache()\n",
    "# argopy.status()"
   ]
  },
  {
   "cell_type": "markdown",
   "id": "5a084f47-a40f-4426-8fc4-52b816fe0254",
   "metadata": {
    "editable": true,
    "slideshow": {
     "slide_type": ""
    },
    "tags": []
   },
   "source": [
    "***\n",
    "![logo](https://raw.githubusercontent.com/euroargodev/argopy-training/refs/heads/main/notebooks/template_argopy_training_EAONE.png)"
   ]
  }
 ],
 "metadata": {
  "kernelspec": {
   "display_name": "argopy-training",
   "language": "python",
   "name": "argopy-training"
  },
  "language_info": {
   "codemirror_mode": {
    "name": "ipython",
    "version": 3
   },
   "file_extension": ".py",
   "mimetype": "text/x-python",
   "name": "python",
   "nbconvert_exporter": "python",
   "pygments_lexer": "ipython3",
   "version": "3.11.13"
  },
  "widgets": {
   "application/vnd.jupyter.widget-state+json": {
    "state": {},
    "version_major": 2,
    "version_minor": 0
   }
  }
 },
 "nbformat": 4,
 "nbformat_minor": 5
}
