{
 "cells": [
  {
   "attachments": {},
   "cell_type": "markdown",
   "id": "b1b9c837-bb0b-47f3-a756-9737fa99659d",
   "metadata": {},
   "source": "<img src=\"https://raw.githubusercontent.com/euroargodev/argopy/master/docs/_static/argopy_logo_long.png\" alt=\"argopy logo\" width=\"200\"/>\n\n# Training Camp - Sept 22<sup>th</sup> 2025\n\n***\n\n## Notebook Title : How to handle large data selection\n\n**Author contact : [G. Maze](https://annuaire.ifremer.fr/cv/17182)**\n\n**Description:**\n\nLorem Ipsum\n\n*This notebook was developed with Argopy version: 1.3*\n\n***"
  },
  {
   "cell_type": "markdown",
   "id": "4253500e-9e2f-4a60-afeb-b236e1fd99f5",
   "metadata": {},
   "source": "Let's start with the usual import:"
  },
  {
   "cell_type": "code",
   "execution_count": 1,
   "id": "268b0572-2fcc-459d-ad8e-1589eeb24f84",
   "metadata": {
    "ExecuteTime": {
     "end_time": "2025-09-10T12:15:46.999853Z",
     "start_time": "2025-09-10T12:15:36.028341Z"
    }
   },
   "outputs": [],
   "source": "from argopy import DataFetcher"
  },
  {
   "cell_type": "markdown",
   "id": "b70c7008-fa70-497f-9ae8-33cf697e5834",
   "metadata": {},
   "source": "And to prevent cell output to be too large, we won't display xarray object attributes:"
  },
  {
   "cell_type": "code",
   "execution_count": 2,
   "id": "48f25f46-fb21-40f2-90b7-0ee9d213fde6",
   "metadata": {
    "ExecuteTime": {
     "end_time": "2025-09-10T12:15:47.018041Z",
     "start_time": "2025-09-10T12:15:47.011900Z"
    }
   },
   "outputs": [
    {
     "data": {
      "text/plain": "<xarray.core.options.set_options at 0x16bbc70d0>"
     },
     "execution_count": 2,
     "metadata": {},
     "output_type": "execute_result"
    }
   ],
   "source": "import xarray as xr\nxr.set_options(display_expand_attrs = False)"
  },
  {
   "cell_type": "markdown",
   "id": "88cf0f58-5f76-44df-9b72-a5f693852e97",
   "metadata": {},
   "source": "### CONTENT"
  },
  {
   "cell_type": "code",
   "execution_count": null,
   "id": "c6d3ac46-10c5-45b0-a530-c3f77a63a698",
   "metadata": {},
   "outputs": [],
   "source": ""
  },
  {
   "cell_type": "markdown",
   "id": "8b30f011-b447-4621-883a-926986dd156e",
   "metadata": {
    "editable": true,
    "slideshow": {
     "slide_type": ""
    },
    "tags": []
   },
   "source": "### \n***\nUseful argopy commands:"
  },
  {
   "cell_type": "code",
   "execution_count": null,
   "id": "d9c4e9ea-667d-477d-943d-8dfa56f5efb7",
   "metadata": {},
   "outputs": [],
   "source": "# argopy.show_versions()\n# argopy.reset_options()\n# argopy.show_options()\n# argopy.clear_cache()\n# argopy.status()"
  },
  {
   "cell_type": "markdown",
   "id": "eac001fa-0f9e-46d1-a698-9723edf83e18",
   "metadata": {},
   "source": "***\n![logo](https://raw.githubusercontent.com/euroargodev/argopy-training/refs/heads/main/notebooks/template_argopy_training_EAONE.png)"
  }
 ],
 "metadata": {
  "kernelspec": {
   "display_name": "argopy-training",
   "language": "python",
   "name": "argopy-training"
  },
  "language_info": {
   "codemirror_mode": {
    "name": "ipython",
    "version": 3
   },
   "file_extension": ".py",
   "mimetype": "text/x-python",
   "name": "python",
   "nbconvert_exporter": "python",
   "pygments_lexer": "ipython3",
   "version": "3.11.13"
  },
  "widgets": {
   "application/vnd.jupyter.widget-state+json": {
    "state": {},
    "version_major": 2,
    "version_minor": 0
   }
  }
 },
 "nbformat": 4,
 "nbformat_minor": 5
}