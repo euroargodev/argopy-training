{
 "cells": [
  {
   "attachments": {},
   "cell_type": "markdown",
   "id": "b1b9c837-bb0b-47f3-a756-9737fa99659d",
   "metadata": {
    "editable": true,
    "slideshow": {
     "slide_type": ""
    },
    "tags": []
   },
   "source": [
    "<img src=\"https://raw.githubusercontent.com/euroargodev/argopy/master/docs/_static/argopy_logo_long.png\" alt=\"argopy logo\" width=\"200\"/>\n",
    "\n",
    "# Training Camp - Sept 22<sup>th</sup> 2025\n",
    "\n",
    "***\n",
    "\n",
    "## Notebook Title : Hands on !\n",
    "\n",
    "**Author contact : [G. Maze](https://annuaire.ifremer.fr/cv/17182)**\n",
    "\n",
    "**Description:**\n",
    "This notebook shows how to download Argo data in a few lines.\n",
    "\n",
    "This is a brief overview of the [Session 2 notebooks on data fetching](https://github.com/euroargodev/argopy-training/blob/main/notebooks/argo-data-fetching).\n",
    "\n",
    "*This notebook was developed with Argopy version: 1.3*\n",
    "\n",
    "***"
   ]
  },
  {
   "cell_type": "markdown",
   "id": "ccdab206edf51476",
   "metadata": {},
   "source": [
    "Let's start with the minimal import:"
   ]
  },
  {
   "cell_type": "code",
   "execution_count": null,
   "id": "eaf567923a6c94f9",
   "metadata": {},
   "outputs": [],
   "source": [
    "import argopy"
   ]
  },
  {
   "cell_type": "markdown",
   "id": "1da0077301524d0f",
   "metadata": {},
   "source": [
    "### Load Argo regional data\n",
    "\n",
    "To that end, we'll use the argopy [DataFetcher](https://argopy.readthedocs.io/en/v1.3.0/generated/argopy.fetchers.ArgoDataFetcher.html#argopy.fetchers.ArgoDataFetcher):"
   ]
  },
  {
   "cell_type": "code",
   "execution_count": null,
   "id": "6fb7f55ecb73e27f",
   "metadata": {},
   "outputs": [],
   "source": [
    "f = argopy.DataFetcher()\n",
    "f"
   ]
  },
  {
   "cell_type": "markdown",
   "id": "7c9933f2b0e8cba",
   "metadata": {},
   "source": [
    "From this *default* [DataFetcher](https://argopy.readthedocs.io/en/v1.3.0/generated/argopy.fetchers.ArgoDataFetcher.html#argopy.fetchers.ArgoDataFetcher), you can load data from a specific domain as simply as:"
   ]
  },
  {
   "cell_type": "code",
   "execution_count": null,
   "id": "a5f122fd4e60a97f",
   "metadata": {},
   "outputs": [],
   "source": [
    "ds = f.region([-75, -45, 20, 30, 0, 10, '2011-01', '2011-06']).data\n",
    "ds"
   ]
  },
  {
   "cell_type": "markdown",
   "id": "46f662e19ff123a7",
   "metadata": {},
   "source": [
    "<br>\n",
    "\n",
    "In this example, we used a [DataFetcher](https://argopy.readthedocs.io/en/v1.3.0/generated/argopy.fetchers.ArgoDataFetcher.html#argopy.fetchers.ArgoDataFetcher) to get data for a given space/time region.\n",
    "\n",
    "We retrieved all Argo data measurements from 75W to 45W, 20N to 30N, 0db to 100db and from January to May 2011 (the max date is exclusive).\n",
    "\n",
    "Data are returned as a collection of measurements in a [xarray.Dataset](https://docs.xarray.dev/en/stable/user-guide/data-structures.html#dataset).\n",
    "\n",
    "Note also, that from this dataset output, you will get information about where data were downloaded, and in the processing history, how raw data were transformed.\n",
    "\n",
    "Many features come with a [DataFetcher](https://argopy.readthedocs.io/en/v1.3.0/generated/argopy.fetchers.ArgoDataFetcher.html#argopy.fetchers.ArgoDataFetcher), plotting is one of them:"
   ]
  },
  {
   "cell_type": "code",
   "execution_count": null,
   "id": "878986a7a32bd59d",
   "metadata": {},
   "outputs": [],
   "source": [
    "f.plot('trajectory', legend=False);"
   ]
  },
  {
   "cell_type": "markdown",
   "id": "dae7604bea57a3a4",
   "metadata": {},
   "source": [
    "<br>\n",
    "\n",
    "Please have a look to [Session 2 notebooks on data fetching](https://github.com/euroargodev/argopy-training/blob/main/notebooks/argo-data-fetching) for more."
   ]
  },
  {
   "cell_type": "markdown",
   "id": "f7bf29ec30c1981f",
   "metadata": {},
   "source": [
    "### Load Argo float data\n",
    "\n",
    "If you are familiar with Argo and prefer to work with float data, knowing WMOs, Argopy provides several methods for that.\n",
    "\n",
    "#### For scientists\n",
    "\n",
    "In line with the previous section, it is easy to load data from 1 or more floats with a [DataFetcher](https://argopy.readthedocs.io/en/v1.3.0/generated/argopy.fetchers.ArgoDataFetcher.html#argopy.fetchers.ArgoDataFetcher):"
   ]
  },
  {
   "cell_type": "code",
   "execution_count": null,
   "id": "4dfeda975056812f",
   "metadata": {},
   "outputs": [],
   "source": [
    "f = argopy.DataFetcher().float(6902746)\n",
    "f.data"
   ]
  },
  {
   "cell_type": "markdown",
   "id": "98dd26a90d23765",
   "metadata": {},
   "source": [
    "#### For experts/operators\n",
    "\n",
    "If you prefer to work with netcdf datasets, you could be interested in using an [ArgoFloat](https://argopy.readthedocs.io/en/v1.3.0/advanced-tools/stores/argofloat.html) object:"
   ]
  },
  {
   "cell_type": "code",
   "execution_count": null,
   "id": "be9412ec387c4393",
   "metadata": {},
   "outputs": [],
   "source": [
    "f = argopy.ArgoFloat(6903091)\n",
    "f"
   ]
  },
  {
   "cell_type": "markdown",
   "id": "7f241672166faff9",
   "metadata": {},
   "source": [
    "<br>\n",
    "\n",
    "From an [ArgoFloat](https://argopy.readthedocs.io/en/v1.3.0/advanced-tools/stores/argofloat.html) you can directly load one of the float netcdf dataset:"
   ]
  },
  {
   "cell_type": "code",
   "execution_count": null,
   "id": "b0e355ccb26b1abe",
   "metadata": {},
   "outputs": [],
   "source": [
    "ds = f.open_dataset('prof')\n",
    "ds"
   ]
  },
  {
   "cell_type": "code",
   "execution_count": null,
   "id": "d55b0b87a3eb1be6",
   "metadata": {},
   "outputs": [],
   "source": [
    "f.plot.trajectory();"
   ]
  },
  {
   "cell_type": "markdown",
   "id": "1306e61d32ed89a8",
   "metadata": {},
   "source": [
    "### Search index of Argo files\n",
    "\n",
    "Experts and operators will also be tempted to use the [Argo index store](https://argopy.readthedocs.io/en/v1.3.0/advanced-tools/stores/argoindex.html) provided by argopy.\n",
    "\n",
    "You can create an index store with two arguments:\n",
    "- a GDAC host (local or remote) and\n",
    "- an index file name.\n",
    "\n",
    "Both arguments have default values to the http Ifremer GDAC and core index:"
   ]
  },
  {
   "cell_type": "code",
   "execution_count": null,
   "id": "c2c72b1c699ab7be",
   "metadata": {},
   "outputs": [],
   "source": [
    "idx = argopy.ArgoIndex().load()\n",
    "idx"
   ]
  },
  {
   "cell_type": "markdown",
   "id": "83802944a5c69847",
   "metadata": {},
   "source": [
    "<br>\n",
    "\n",
    "You can simply search for index entries matching some specific queries like a regional domain:"
   ]
  },
  {
   "cell_type": "code",
   "execution_count": null,
   "id": "88a44a933355bd7f",
   "metadata": {},
   "outputs": [],
   "source": [
    "idx.query.box([-60, -55, 40., 45., '2007-08-01', '2007-09-01'])"
   ]
  },
  {
   "cell_type": "markdown",
   "id": "8813cb509106c628",
   "metadata": {},
   "source": [
    "<br>\n",
    "\n",
    "or some profiler labels:"
   ]
  },
  {
   "cell_type": "code",
   "execution_count": null,
   "id": "ca40895c6da02d7a",
   "metadata": {},
   "outputs": [],
   "source": [
    "idx.query.profiler_label('NINJA')"
   ]
  },
  {
   "cell_type": "markdown",
   "id": "7b770ca43f78d364",
   "metadata": {},
   "source": [
    "<br>\n",
    "\n",
    "Full index or search results can then be exported to [Pandas Dataframe](https://pandas.pydata.org/docs/reference/frame.html):"
   ]
  },
  {
   "cell_type": "code",
   "execution_count": null,
   "id": "340620e792d1c490",
   "metadata": {},
   "outputs": [],
   "source": [
    "df = idx.to_dataframe()\n",
    "df.head()"
   ]
  },
  {
   "cell_type": "markdown",
   "id": "ff6406c8342c81f0",
   "metadata": {
    "editable": true,
    "slideshow": {
     "slide_type": ""
    },
    "tags": [
     "disclaimer"
    ]
   },
   "source": [
    "### \n",
    "***\n",
    "Useful argopy commands:\n",
    "```python\n",
    "argopy.reset_options()\n",
    "argopy.show_options()\n",
    "argopy.status()\n",
    "argopy.clear_cache()\n",
    "argopy.show_versions()\n",
    "```\n",
    "***\n",
    "![logo](https://raw.githubusercontent.com/euroargodev/argopy-training/refs/heads/main/for_nb_producers/template_argopy_training_EAONE.png)"
   ]
  }
 ],
 "metadata": {
  "kernelspec": {
   "display_name": "Python 3 (ipykernel)",
   "language": "python",
   "name": "python3"
  },
  "language_info": {
   "codemirror_mode": {
    "name": "ipython",
    "version": 3
   },
   "file_extension": ".py",
   "mimetype": "text/x-python",
   "name": "python",
   "nbconvert_exporter": "python",
   "pygments_lexer": "ipython3",
   "version": "3.11.13"
  },
  "widgets": {
   "application/vnd.jupyter.widget-state+json": {
    "state": {},
    "version_major": 2,
    "version_minor": 0
   }
  }
 },
 "nbformat": 4,
 "nbformat_minor": 5
}