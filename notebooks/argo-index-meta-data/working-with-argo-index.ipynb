{
 "cells": [
  {
   "attachments": {},
   "cell_type": "markdown",
   "id": "b1b9c837-bb0b-47f3-a756-9737fa99659d",
   "metadata": {
    "editable": true,
    "slideshow": {
     "slide_type": ""
    },
    "tags": []
   },
   "source": [
    "<img src=\"https://raw.githubusercontent.com/euroargodev/argopy/master/docs/_static/argopy_logo_long.png\" alt=\"argopy logo\" width=\"200\"/>\n",
    "\n",
    "# Training Camp - Sept 22<sup>th</sup> 2025\n",
    "\n",
    "***\n",
    "\n",
    "## Notebook Title : Working with Argo index files\n",
    "\n",
    "**Author contact : [G. Maze](https://annuaire.ifremer.fr/cv/17182)**\n",
    "\n",
    "**Description:**\n",
    "\n",
    "The Argo dataset is a collection of millions of files. CSV index of these files exist to make Argo data discovery easier. This notebook will take you through Argopy feature for fetching and searching Argo file index with the [ArgoIndex](https://argopy.readthedocs.io/en/v1.3.0/generated/argopy.ArgoIndex.html#argopy.ArgoIndex):\n",
    "- Load one of the Argo index supported by Argopy,\n",
    "- Search the index,\n",
    "- Read properties of an index,\n",
    "- Export the index.\n",
    "\n",
    "This notebook basically illustrates [this section of the Argopy documentation](https://argopy.readthedocs.io/en/v1.3.0/advanced-tools/stores/argoindex.html).\n",
    "\n",
    "\ud83c\udff7\ufe0f This notebook was developed with [Argopy version *1.3.0*](https://argopy.readthedocs.io/en/v1.3.0)\n",
    "\n",
    "\u00a9  [European Union Public Licence (EUPL) v1.2](https://github.com/euroargodev/argopy-training/blob/main/LICENSE), see at the bottom of this notebook for more.\n",
    "\n**Table of Contents**\n",
    "- [Load an Argo index of files](#load-an-argo-index-of-files)\n",
    "    - [\u270f\ufe0f EXERCICE](#\u270f\ufe0f-exercice)\n",
    "    - [\ud83d\udd0d Pro tip](#\ud83d\udd0d-pro-tip)\n",
    "- [Searching the index](#searching-the-index)\n",
    "  - [Single filter](#single-filter)\n",
    "    - [\ud83d\udd0d Pro tip](#\ud83d\udd0d-pro-tip)\n",
    "  - [Multiple filters](#multiple-filters)\n",
    "    - [\u270f\ufe0f EXERCICE](#\u270f\ufe0f-exercice)\n",
    "- [Index properties](#index-properties)\n",
    "    - [\u270f\ufe0f EXERCICE](#\u270f\ufe0f-exercice)\n",
    "    - [\u270f\ufe0f EXERCICE](#\u270f\ufe0f-exercice)\n",
    "- [Index export](#index-export)\n",
    "  - [Pandas Dataframe](#pandas-dataframe)\n",
    "    - [\ud83d\udd0d Pro tip](#\ud83d\udd0d-pro-tip)\n",
    "    - [\ud83d\udd0d Pro tip](#\ud83d\udd0d-pro-tip)\n",
    "  - [CSV index file](#csv-index-file)\n",
    "- [\ud83d\udd0d Pro tip](#\ud83d\udd0d-pro-tip)\n",
    "- [\ud83c\udfc1 End of the notebook](#\ud83c\udfc1-end-of-the-notebook)\n",
    "    - [\ud83d\udc40 Useful argopy commands](#\ud83d\udc40-useful-argopy-commands)\n",
    "    - [\u2696\ufe0f License Information](#\u2696\ufe0f-license-information)\n",
    "    - [\ud83e\udd1d Sponsor](#\ud83e\udd1d-sponsor)\n",
    "***"
   ]
  },
  {
   "cell_type": "markdown",
   "id": "4253500e-9e2f-4a60-afeb-b236e1fd99f5",
   "metadata": {},
   "source": [
    "Let's start with the import of the Argopy class handling Argo index:"
   ]
  },
  {
   "cell_type": "code",
   "execution_count": null,
   "id": "268b0572-2fcc-459d-ad8e-1589eeb24f84",
   "metadata": {},
   "outputs": [],
   "source": [
    "from argopy import ArgoIndex"
   ]
  },
  {
   "cell_type": "markdown",
   "id": "88cf0f58-5f76-44df-9b72-a5f693852e97",
   "metadata": {},
   "source": [
    "## Load an Argo index of files\n",
    "\n",
    "Index files supported by Argopy are [documented here](https://argopy.readthedocs.io/en/v1.3.0/advanced-tools/stores/argoindex.html#index-file-supported). \n",
    "\n",
    "We will note that each index file has a keyword for easier calling:\n",
    "\n",
    "| Index file                                | Shortcut |\n",
    "|-------------------------------------------|----------|\n",
    "| ar_index_global_prof.txt                  | core     |\n",
    "| argo_bio-profile_index.txt                | bgc-b    |\n",
    "| argo_synthetic-profile_index.txt          | bgc-s    |\n",
    "| ar_index_global_meta.txt                  | meta     |\n",
    "| etc/argo-index/argo_aux-profile_index.txt | aux      |"
   ]
  },
  {
   "cell_type": "markdown",
   "id": "593fb7f1-1421-46fb-8ae1-5b4b2a71eb29",
   "metadata": {},
   "source": [
    "The default [ArgoIndex](https://argopy.readthedocs.io/en/v1.3.0/generated/argopy.ArgoIndex.html#argopy.ArgoIndex) class is created with the core profile files index:"
   ]
  },
  {
   "cell_type": "code",
   "execution_count": null,
   "id": "67fffb9e-17bd-4497-8ff7-79acc04bd98e",
   "metadata": {},
   "outputs": [],
   "source": [
    "idx = ArgoIndex()\n",
    "idx"
   ]
  },
  {
   "cell_type": "markdown",
   "id": "5570f197-151c-42e3-8909-09696e7ca71b",
   "metadata": {},
   "source": [
    "#### \u270f\ufe0f EXERCICE\n",
    "\n",
    "The index file to load is specified with the `index_file` argument. Load the BGC-Argo synthetic files index."
   ]
  },
  {
   "cell_type": "code",
   "execution_count": null,
   "id": "51014306-413d-44cd-a8f3-ed67b9af28df",
   "metadata": {},
   "outputs": [],
   "source": [
    "# Your code here"
   ]
  },
  {
   "cell_type": "markdown",
   "id": "02c4e530-f1c0-48df-af69-f0549937ae33",
   "metadata": {},
   "source": [
    "#### \ud83d\udd0d Pro tip\n",
    "\n",
    "By default, an [ArgoIndex](https://argopy.readthedocs.io/en/v1.3.0/generated/argopy.ArgoIndex.html#argopy.ArgoIndex) will fetch index files from the [Ifremer GDAC server](https://data-argo.ifremer.fr). \n",
    "\n",
    "But other GDAC servers are available, as well as local files, if you have a local copy of the GDAC. You can thus *plug* the [ArgoIndex](https://argopy.readthedocs.io/en/v1.3.0/generated/argopy.ArgoIndex.html#argopy.ArgoIndex) on any path: local, http or ftp.\n",
    "\n",
    "See here for a list of [GDAC host shortnames](https://argopy.readthedocs.io/en/v1.3.0/advanced-tools/stores/argoindex.html#id2)."
   ]
  },
  {
   "cell_type": "markdown",
   "id": "f4c7b882-12bd-4c16-a989-ed5de3122f3e",
   "metadata": {},
   "source": [
    "<br>\n",
    "\n",
    "Once you created an [ArgoIndex](https://argopy.readthedocs.io/en/v1.3.0/generated/argopy.ArgoIndex.html#argopy.ArgoIndex) instance, you can trigger loading with the `load` method:"
   ]
  },
  {
   "cell_type": "code",
   "execution_count": null,
   "id": "b0b04569-b969-4a4d-98c8-e1762fe211fe",
   "metadata": {},
   "outputs": [],
   "source": [
    "idx.load()\n",
    "idx"
   ]
  },
  {
   "cell_type": "markdown",
   "id": "d00dfcf0-1cbb-4c79-af00-959764b3a227",
   "metadata": {},
   "source": [
    "<br>\n",
    "\n",
    "The number of files in the loaded index is given by `N_RECORDS` attribute:"
   ]
  },
  {
   "cell_type": "code",
   "execution_count": null,
   "id": "b61510ad-3a22-468d-8aa0-cd0c949fb66d",
   "metadata": {},
   "outputs": [],
   "source": [
    "idx.N_RECORDS"
   ]
  },
  {
   "cell_type": "markdown",
   "id": "b8102697-78de-4920-8395-5d22d089992a",
   "metadata": {},
   "source": [
    "## Searching the index\n",
    "\n",
    "If you loaded an index, there is a good chance that you will search it with some filters.\n",
    "\n",
    "An [ArgoIndex](https://argopy.readthedocs.io/en/v1.3.0/generated/argopy.ArgoIndex.html#argopy.ArgoIndex) instance comes with a `query` extension providing multiple filters that can be used individualy or combined."
   ]
  },
  {
   "cell_type": "markdown",
   "id": "c902991c-0a01-4ec7-8d38-90a141f69602",
   "metadata": {},
   "source": [
    "### Single filter\n",
    "\n",
    "All possible **single** filters are (as examples):\n",
    "```python\n",
    "idx.query.wmo(1901393)\n",
    "idx.query.cyc(1)\n",
    "idx.query.wmo_cyc(1901393, [1,12])\n",
    "\n",
    "# Taking an index BOX definition:\n",
    "box = [-60, -55, 40., 45., '2007-08-01', '2007-09-01']\n",
    "idx.query.lon(box) # Only lon_min/lon_max used\n",
    "idx.query.lat(box) # Only lat_min/lat_max used\n",
    "idx.query.lon_lat(box) # Only lon_min/lon_max/lat_min/lat_max used\n",
    "idx.query.date(box)    # Only date_min/date_max used\n",
    "idx.query.box(box)\n",
    "\n",
    "idx.query.params(['C1PHASE_DOXY', 'DOWNWELLING_PAR'])  # Only for BGC profile index\n",
    "idx.query.parameter_data_mode({'BBP700': 'D'})  # Only for BGC profile index\n",
    "\n",
    "idx.query.profiler_type(845)\n",
    "idx.query.profiler_label('NINJA')\n",
    "```\n",
    "\n",
    "Let's work with the full BGC-Argo index, `bgc-b`. We can look for profiles in the Ionian Sea in 2024, for instance:"
   ]
  },
  {
   "cell_type": "code",
   "execution_count": null,
   "id": "551f73de-53e5-4c32-a52a-84739bc49d74",
   "metadata": {},
   "outputs": [],
   "source": [
    "%%time\n",
    "idx = ArgoIndex(index_file='bgc-b').load()\n",
    "idx"
   ]
  },
  {
   "cell_type": "code",
   "execution_count": null,
   "id": "6c5aa3f5-3f7a-4c0e-87a8-498548912d21",
   "metadata": {},
   "outputs": [],
   "source": [
    "%%time\n",
    "idx = idx.query.box([15.5, 23, 35, 39, '2024-01', '2025-01'])\n",
    "idx"
   ]
  },
  {
   "cell_type": "markdown",
   "id": "e8145910-a486-46ab-bc27-3840b538ef08",
   "metadata": {},
   "source": [
    "<br>\n",
    "\n",
    "The number of files matching the filter is given by the `N_MATCH` attribute:"
   ]
  },
  {
   "cell_type": "code",
   "execution_count": null,
   "id": "1910d1c1-a347-4379-8364-0eb426fa6f02",
   "metadata": {},
   "outputs": [],
   "source": [
    "idx.N_MATCH"
   ]
  },
  {
   "cell_type": "markdown",
   "id": "7f6a2143-b12a-4349-84b3-53353f8eb121",
   "metadata": {},
   "source": [
    "<br>\n",
    "\n",
    "A quick geographic look at the result can be obtained with the `plot` extension and its `trajectory` method:"
   ]
  },
  {
   "cell_type": "code",
   "execution_count": null,
   "id": "e0fc6e9d-5274-4617-a71c-c88a35d45bf8",
   "metadata": {},
   "outputs": [],
   "source": [
    "idx.plot.trajectory();"
   ]
  },
  {
   "cell_type": "markdown",
   "id": "c6693a66-157d-424a-b7d2-9ca1e2ca0e9d",
   "metadata": {},
   "source": [
    "#### \ud83d\udd0d Pro tip\n",
    "\n",
    "The trajectory plot is customizable. For instance if trajectory of each float clutter the figure, it can be removed with the `traj` argument, and free space around plots can be extended with `padding`:"
   ]
  },
  {
   "cell_type": "code",
   "execution_count": null,
   "id": "6fb5fd42-8381-463e-a475-6414dd5cefbf",
   "metadata": {},
   "outputs": [],
   "source": [
    "idx.plot.trajectory(traj=False, padding=2);"
   ]
  },
  {
   "cell_type": "markdown",
   "id": "9ac8463c-afca-47ae-b793-4ca8b290d6f7",
   "metadata": {},
   "source": [
    "### Multiple filters\n",
    "\n",
    "It also possible to combine several single filters together with the `compose` method.\n",
    "\n",
    "In this scenario, filters composition must be provided by a dictionary as an argument to `compose()`.\n",
    "\n",
    "Each key of the dictionnary is the name of single filter to compose, and filter arguments are passed as the key.\n",
    "\n",
    "Examples:\n",
    "```python\n",
    "idx.query.compose({'box': BOX, 'wmo': WMOs})\n",
    "idx.query.compose({'box': BOX, 'params': 'DOXY'})\n",
    "idx.query.compose({'box': BOX, 'params': (['DOXY', 'DOXY2'], {'logical': 'and'})})\n",
    "idx.query.compose({'params': 'DOXY', 'profiler_label': 'ARVOR'})\n",
    "```"
   ]
  },
  {
   "cell_type": "markdown",
   "id": "d05cff03-f609-44a1-bef1-924cd0f54db5",
   "metadata": {},
   "source": [
    "#### \u270f\ufe0f EXERCICE\n",
    "\n",
    "Look for the number of oxygen profiles sampled globally in 2022."
   ]
  },
  {
   "cell_type": "code",
   "execution_count": null,
   "id": "1ceb3c64-b0c4-46a1-90f3-195e3f40e11e",
   "metadata": {},
   "outputs": [],
   "source": [
    "# Your code here"
   ]
  },
  {
   "cell_type": "markdown",
   "id": "b404d7b6-8a00-4e17-84fa-73fd2bd174fe",
   "metadata": {},
   "source": [
    "## Index properties\n",
    "\n",
    "Once you loaded your index of interest, and possibly run a filter query, it can be usefull to access some properties through the following method:\n",
    "\n",
    "```python\n",
    "idx.read_wmo()\n",
    "idx.read_dac_wmo()\n",
    "idx.read_params()\n",
    "idx.read_domain()\n",
    "idx.records_per_wmo()\n",
    "```\n",
    "\n",
    "and\n",
    "```python\n",
    "idx.uri\n",
    "idx.read_files()\n",
    "```\n"
   ]
  },
  {
   "cell_type": "markdown",
   "id": "463c02c3-e554-41e3-8684-65f62d70b0ba",
   "metadata": {},
   "source": [
    "This for instance, can be used to get the number of profiles per float:"
   ]
  },
  {
   "cell_type": "code",
   "execution_count": null,
   "id": "0f33e080-3523-4e24-a409-3c432954643a",
   "metadata": {},
   "outputs": [],
   "source": [
    "idx.records_per_wmo()"
   ]
  },
  {
   "cell_type": "markdown",
   "id": "1c309d6e-0c1e-45e7-a48a-0b1c99a4200f",
   "metadata": {},
   "source": [
    "#### \u270f\ufe0f EXERCICE\n",
    "\n",
    "Load the BGC-Argo synthetic files index and list all BGC parameters available in the Ionian Sea.\n",
    "\n",
    "\ud83d\udca1 Code hint:\n",
    "```python\n",
    "ionian_sea_box = [15.5, 23, 35, 39]\n",
    "```"
   ]
  },
  {
   "cell_type": "code",
   "execution_count": null,
   "id": "99792ef4-8ed6-46a0-9938-1bc614842bd8",
   "metadata": {},
   "outputs": [],
   "source": [
    "# Your code here"
   ]
  },
  {
   "cell_type": "code",
   "execution_count": null,
   "id": "416867be-02f8-4451-94af-1b89a9978f20",
   "metadata": {},
   "outputs": [],
   "source": [
    "idx.read_params()"
   ]
  },
  {
   "cell_type": "markdown",
   "id": "c31813a6-d8a5-410d-bb5a-0761cce6b725",
   "metadata": {},
   "source": [
    "<br>\n",
    "\n",
    "If you are interested in looping through index files, the `read_files()` method and `uri` attribute are for you.\n",
    "\n",
    "`read_files()` will return the list of relative paths, as they are in the index file:"
   ]
  },
  {
   "cell_type": "code",
   "execution_count": null,
   "id": "c00ec825-a72a-49bc-a786-e7f6f34bbb94",
   "metadata": {},
   "outputs": [],
   "source": [
    "idx.read_files()[0:10]"
   ]
  },
  {
   "cell_type": "markdown",
   "id": "589282b8-2e8a-4f42-b4fc-ca9fcd8973ec",
   "metadata": {},
   "source": [
    "<br>\n",
    "\n",
    "while the `uri` attribute will return absolute paths, which depends on the GDAC host used by the [ArgoIndex](https://argopy.readthedocs.io/en/v1.3.0/generated/argopy.ArgoIndex.html#argopy.ArgoIndex) instance"
   ]
  },
  {
   "cell_type": "code",
   "execution_count": null,
   "id": "585bac87-81e6-4885-94e4-2f4521431640",
   "metadata": {},
   "outputs": [],
   "source": [
    "idx.uri[0:10]"
   ]
  },
  {
   "cell_type": "markdown",
   "id": "456c0854-5681-4aa7-9afc-1d54c66e521a",
   "metadata": {},
   "source": [
    "#### \u270f\ufe0f EXERCICE\n",
    "\n",
    "Compare uri of files of a single Argo float profile, using 3 different GDAC hosts."
   ]
  },
  {
   "cell_type": "code",
   "execution_count": null,
   "id": "02e035ad-42b6-4a9b-abba-d6e336bf5ce6",
   "metadata": {},
   "outputs": [],
   "source": [
    "# Your code here"
   ]
  },
  {
   "cell_type": "markdown",
   "id": "3e6193d3-6c00-4fb9-9d3e-16fb972e1507",
   "metadata": {},
   "source": [
    "## Index export\n",
    "\n",
    "Let's load and search an index for export demonstration purposes:"
   ]
  },
  {
   "cell_type": "code",
   "execution_count": null,
   "id": "27e8183c-a304-4efc-9fa2-a1a8f3ec4a77",
   "metadata": {},
   "outputs": [],
   "source": [
    "idx = ArgoIndex(index_file='bgc-s').load()\n",
    "idx"
   ]
  },
  {
   "cell_type": "code",
   "execution_count": null,
   "id": "fc9afced-a437-4e51-b548-b8a5b2b2f242",
   "metadata": {},
   "outputs": [],
   "source": [
    "idx.query.compose({'params': 'CHLA', 'profiler_label': 'ARVOR'})"
   ]
  },
  {
   "cell_type": "markdown",
   "id": "9c832f07-2b79-489a-9110-ce9808b06613",
   "metadata": {},
   "source": [
    "### Pandas Dataframe\n",
    "\n",
    "If the [ArgoIndex](https://argopy.readthedocs.io/en/v1.3.0/generated/argopy.ArgoIndex.html#argopy.ArgoIndex) does not provides you with the most appropriate manipulation methods, you can still export the index, or search results, as a [Pandas Dataframe](https://pandas.pydata.org/docs/reference/frame.html) with the `to_dataframe` method like this:"
   ]
  },
  {
   "cell_type": "code",
   "execution_count": null,
   "id": "47e3e7c1-4143-46d2-91d2-a85e6d9b7e4c",
   "metadata": {},
   "outputs": [],
   "source": [
    "df = idx.to_dataframe()\n",
    "df.head()"
   ]
  },
  {
   "cell_type": "markdown",
   "id": "07dd205e-d292-45ac-a60c-bb4c5329f15e",
   "metadata": {},
   "source": [
    "#### \ud83d\udd0d Pro tip\n",
    "\n",
    "If this is more appropriate for the development of your software or procedure, you can restrict export to the first nrows of the index with the `nrows` argument:"
   ]
  },
  {
   "cell_type": "code",
   "execution_count": null,
   "id": "f9d18d85-6eed-4025-aaf2-76f7a1903e23",
   "metadata": {},
   "outputs": [],
   "source": [
    "idx.to_dataframe(nrows=2)"
   ]
  },
  {
   "cell_type": "markdown",
   "id": "676da1c9-e139-46ec-aef4-15bf3a0cbc8c",
   "metadata": {},
   "source": [
    "#### \ud83d\udd0d Pro tip\n",
    "\n",
    "By default the `to_dataframe()` method will export the search results of your possible query.\n",
    "\n",
    "If you still want to export the full index, you can use the `index` argument:"
   ]
  },
  {
   "cell_type": "code",
   "execution_count": null,
   "id": "4b6a1d10-08e1-4ccd-95e4-03eaab34b22d",
   "metadata": {},
   "outputs": [],
   "source": [
    "df = idx.to_dataframe(index=True)\n",
    "df.shape"
   ]
  },
  {
   "cell_type": "markdown",
   "id": "2d30c67d-bebe-4a08-aa7c-e774ab5e35bd",
   "metadata": {},
   "source": [
    "### CSV index file\n",
    "\n",
    "It is also possible that you would be interested to export on file your search results, as a CSV file following the Argo convention. This can be done with the `to_indexfile()` method:"
   ]
  },
  {
   "cell_type": "code",
   "execution_count": null,
   "id": "e5cd674e-cc6a-4a13-9104-5782f3678aa0",
   "metadata": {},
   "outputs": [],
   "source": [
    "idx.to_indexfile('MyArgoIndexFile.csv')"
   ]
  },
  {
   "cell_type": "markdown",
   "id": "3dd7b871-d820-40c8-87bb-60daef984fa2",
   "metadata": {},
   "source": [
    "<br>\n",
    "\n",
    "This file can then be loaded elsewhere with an [ArgoIndex](https://argopy.readthedocs.io/en/v1.3.0/generated/argopy.ArgoIndex.html#argopy.ArgoIndex):"
   ]
  },
  {
   "cell_type": "code",
   "execution_count": null,
   "id": "aaad4c10-8528-444b-bb87-54959e0cea96",
   "metadata": {},
   "outputs": [],
   "source": [
    "idx = ArgoIndex(host='.', index_file='MyArgoIndexFile.csv', convention='bgc-s').load()\n",
    "idx"
   ]
  },
  {
   "cell_type": "markdown",
   "id": "13378ad1-6bc3-415c-97f1-2b8d821801aa",
   "metadata": {
    "editable": true,
    "slideshow": {
     "slide_type": ""
    },
    "tags": []
   },
   "source": [
    "## \ud83d\udd0d Pro tip\n",
    "\n",
    "You can loop through an Argo index unique floats as [ArgoFloat](https://argopy.readthedocs.io/en/v1.3.0/generated/argopy.ArgoFloat.html#argopy.ArgoFloat) objects. This can be useful to retrieve information from a float that are not in an index.\n",
    "\n",
    "As an example, let's get the deployment dates for floats in a specific region:"
   ]
  },
  {
   "cell_type": "code",
   "execution_count": null,
   "id": "c87d8847-4d12-4b79-a442-9abe8ecbfa28",
   "metadata": {},
   "outputs": [],
   "source": [
    "idx = ArgoIndex(index_file='bgc-s').query.box([15.5, 23, 35, 39, '2024-01', '2025-01'])\n",
    "idx"
   ]
  },
  {
   "cell_type": "code",
   "execution_count": null,
   "id": "a7410373-b597-4904-b86a-b67c84c212e7",
   "metadata": {},
   "outputs": [],
   "source": [
    "for a_float in idx.iterfloats():\n",
    "    ds = a_float.open_dataset('meta')\n",
    "    print(a_float.WMO, ds['LAUNCH_DATE'].data)"
   ]
  },
  {
   "cell_type": "markdown",
   "id": "873f5d53-0baa-43f8-8124-152820ace785",
   "metadata": {
    "tags": [
     "disclaimer"
    ]
   },
   "source": [
    "## \ud83c\udfc1 End of the notebook\n",
    "\n***\n",
    "#### \ud83d\udc40 Useful argopy commands\n",
    "```python\n",
    "argopy.reset_options()\n",
    "argopy.show_options()\n",
    "argopy.status()\n",
    "argopy.clear_cache()\n",
    "argopy.show_versions()\n",
    "```\n",
    "#### \u2696\ufe0f License Information\n",
    "This Jupyter Notebook is licensed under the **European Union Public Licence (EUPL) v1.2**.\n",
    "\n",
    "| Permissions      | Limitations     | Conditions                     |\n",
    "|------------------|-----------------|--------------------------------|\n",
    "| \u2714 Commercial use | \u274c Liability     | \u24d8 License and copyright notice |\n",
    "| \u2714 Modification   | \u274c Trademark use | \u24d8 Disclose source              |\n",
    "| \u2714 Distribution   | \u274c Warranty      | \u24d8 State changes                |\n",
    "| \u2714 Patent use     |                  | \u24d8 Network use is distribution  |\n",
    "| \u2714 Private use    |                  | \u24d8 Same license                 |\n",
    "\n",
    "For more details, visit: [EUPL v1.2 Full Text](https://github.com/euroargodev/argopy-training/blob/main/LICENSE).\n",
    "\n",
    "#### \ud83e\udd1d Sponsor\n",
    "![logo](https://raw.githubusercontent.com/euroargodev/argopy-training/refs/heads/main/for_nb_producers/template_argopy_training_EAONE.png)",
    "\n***\n"
   ]
  }
 ],
 "metadata": {
  "kernelspec": {
   "display_name": "argopy-training",
   "language": "python",
   "name": "argopy-training"
  },
  "language_info": {
   "codemirror_mode": {
    "name": "ipython",
    "version": 3
   },
   "file_extension": ".py",
   "mimetype": "text/x-python",
   "name": "python",
   "nbconvert_exporter": "python",
   "pygments_lexer": "ipython3",
   "version": "3.11.13"
  },
  "widgets": {
   "application/vnd.jupyter.widget-state+json": {
    "state": {},
    "version_major": 2,
    "version_minor": 0
   }
  }
 },
 "nbformat": 4,
 "nbformat_minor": 5
}