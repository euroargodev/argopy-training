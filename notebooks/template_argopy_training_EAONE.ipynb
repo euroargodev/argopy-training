{
 "cells": [
  {
   "attachments": {},
   "cell_type": "markdown",
   "id": "b1b9c837-bb0b-47f3-a756-9737fa99659d",
   "metadata": {},
   "source": [
    "<img src=\"https://raw.githubusercontent.com/euroargodev/argopy/master/docs/_static/argopy_logo_long.png\" alt=\"argopy logo\" width=\"200\"/>\n",
    "\n",
    "# Training Camp - Sept 22<sup>th</sup> 2025\n",
    "\n",
    "***\n",
    "\n",
    "## Notebook Title :\n",
    "\n",
    "**Author contact : [NAME](https://webpage)**\n",
    "\n",
    "**Description:**\n",
    "\n",
    "Lorem Ipsum\n",
    "\n",
    "*This notebook was developped with Argopy version: 1.3*\n",
    "\n",
    "***"
   ]
  },
  {
   "cell_type": "code",
   "id": "d70a407f-12d2-451d-b35e-6d1cfbf971e8",
   "metadata": {},
   "source": [
    "import argopy\n",
    "# argopy.show_versions()\n",
    "# argopy.reset_options()\n",
    "# argopy.show_options()\n",
    "# argopy.clear_cache()\n",
    "# argopy.status()"
   ],
   "outputs": [],
   "execution_count": null
  },
  {
   "cell_type": "code",
   "id": "b773990f-7630-47eb-832e-940ea5e750f7",
   "metadata": {},
   "source": [
    "## CONTENT ##"
   ],
   "outputs": [],
   "execution_count": null
  },
  {
   "cell_type": "markdown",
   "id": "873f5d53-0baa-43f8-8124-152820ace785",
   "metadata": {},
   "source": [
    "***\n",
    "![logo](https://raw.githubusercontent.com/euroargodev/argopy-training/refs/heads/main/notebooks/template_argopy_training_EAONE.png)"
   ]
  }
 ],
 "metadata": {
  "kernelspec": {
   "display_name": "argopy-training",
   "language": "python",
   "name": "argopy-training"
  },
  "language_info": {
   "codemirror_mode": {
    "name": "ipython",
    "version": 3
   },
   "file_extension": ".py",
   "mimetype": "text/x-python",
   "name": "python",
   "nbconvert_exporter": "python",
   "pygments_lexer": "ipython3",
   "version": "3.11.13"
  },
  "widgets": {
   "application/vnd.jupyter.widget-state+json": {
    "state": {},
    "version_major": 2,
    "version_minor": 0
   }
  }
 },
 "nbformat": 4,
 "nbformat_minor": 5
}
