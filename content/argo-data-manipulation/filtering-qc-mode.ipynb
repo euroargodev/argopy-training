{
 "cells": [
  {
   "cell_type": "markdown",
   "id": "890562cc-2fe5-4dc6-9644-cd251905c449",
   "metadata": {
    "editable": true,
    "slideshow": {
     "slide_type": ""
    },
    "tags": []
   },
   "source": [
    "<img src=\"https://raw.githubusercontent.com/euroargodev/argopy/master/docs/_static/argopy_logo_long.png\" alt=\"argopy logo\" width=\"200\"/>\n",
    "\n",
    "# Training Camp - Sept 22<sup>th</sup> 2025\n",
    "\n",
    "***\n",
    "\n",
    "## Notebook Title : Filtering - QC flags & Data mode\n",
    "\n",
    "**Author contact : [K. Balem](https://annuaire.ifremer.fr/cv/22144/)**\n",
    "\n",
    "**Description:**\n",
    "\n",
    "This notebook describes how to filter & transform your data :\n",
    "- with QC flags values\n",
    "- with Data mode\n",
    "- with OWC and research mode requirements\n",
    "\n",
    "This notebook is based on the [Argopy documentation](https://argopy.readthedocs.io/en/v1.3.0/user-guide/working-with-argo-data/data_manipulation.html) where you can find more details on each function.\n",
    "\n",
    "Note that many of the examples below are based on a single float data, but filter & transform methods apply similarly to any Argo dataset selection, as retrieved using a [DataFetcher](https://argopy.readthedocs.io/en/v1.3.0/generated/argopy.fetchers.ArgoDataFetcher.html#argopy.fetchers.ArgoDataFetcher) or an [ArgoFloat](https://argopy.readthedocs.io/en/v1.3.0/generated/argopy.ArgoFloat.html#argopy.ArgoFloat).\n",
    "\n",
    "*This notebook was developed with Argopy version: 1.3*\n",
    "\n**Table of Contents**\n",
    "- [\ud83d\udea9 QC flag filter](#\ud83d\udea9-qc-flag-filter)\n",
    "    - [\u270f\ufe0f EXERCICE](#\u270f\ufe0f-exercice)\n",
    "- [\ud83d\udcc9 Data mode filter](#\ud83d\udcc9-data-mode-filter)\n",
    "    - [\u270f\ufe0f EXERCICE](#\u270f\ufe0f-exercice)\n",
    "    - [\ud83d\udd0d Pro tip](#\ud83d\udd0d-pro-tip)\n",
    "- [\u267b\ufe0f Data mode based transform](#\u267b\ufe0f-data-mode-based-transform)\n",
    "- [\ud83c\udf0a OWC variables filter](#\ud83c\udf0a-owc-variables-filter)\n",
    "- [\ud83d\udd0d Research mode filter for core/deep missions](#\ud83d\udd0d-research-mode-filter-for-core/deep-missions)\n",
    "    - [\ud83d\udedf NOTE](#\ud83d\udedf-note)\n",
    "    - [\u270f\ufe0f EXERCICE](#\u270f\ufe0f-exercice)\n",
    "- [\ud83c\udfc1 End of the notebook](#\ud83c\udfc1-end-of-the-notebook)\n",
    "    - [\ud83d\udc40 Useful argopy commands](#\ud83d\udc40-useful-argopy-commands)\n",
    "    - [\u2696\ufe0f License Information](#\u2696\ufe0f-license-information)\n",
    "    - [\ud83e\udd1d Sponsor](#\ud83e\udd1d-sponsor)\n",
    "***"
   ]
  },
  {
   "cell_type": "markdown",
   "id": "db173f81-221f-4c95-8792-85f3b02e746a",
   "metadata": {
    "editable": true,
    "slideshow": {
     "slide_type": ""
    },
    "tags": []
   },
   "source": [
    "## \ud83d\udea9 QC flag filter\n",
    "You can filter measurements according to QC flag values with the [Dataset.argo.filter_qc()](https://argopy.readthedocs.io/en/v1.3.0/generated/xarray.Dataset.argo.filter_qc.html#xarray.Dataset.argo.filter_qc) method. This filter modifies all variables of the dataset."
   ]
  },
  {
   "cell_type": "code",
   "execution_count": null,
   "id": "e371921d-9a55-4a8b-a8c9-e76621de3a02",
   "metadata": {
    "editable": true,
    "slideshow": {
     "slide_type": ""
    },
    "tags": []
   },
   "outputs": [],
   "source": [
    "from argopy import DataFetcher"
   ]
  },
  {
   "cell_type": "markdown",
   "id": "e7730787-3e48-4ef4-b95f-19e524e26a52",
   "metadata": {
    "editable": true,
    "slideshow": {
     "slide_type": ""
    },
    "tags": []
   },
   "source": [
    "Let's fetch some data in expert mode, so that every QC is present in our dataset"
   ]
  },
  {
   "cell_type": "code",
   "execution_count": null,
   "id": "d84845c0-6110-48ff-a0d1-6a43add602bb",
   "metadata": {
    "editable": true,
    "slideshow": {
     "slide_type": ""
    },
    "tags": []
   },
   "outputs": [],
   "source": [
    "f = DataFetcher(src='erddap', mode='expert').float(3901971) \n",
    "ds = f.data\n",
    "ds.argo"
   ]
  },
  {
   "cell_type": "markdown",
   "id": "882f166f-f766-4c1b-a6f4-548ac0b4322d",
   "metadata": {
    "editable": true,
    "slideshow": {
     "slide_type": ""
    },
    "tags": []
   },
   "source": [
    "<br>\n",
    "\n",
    "You can filter your data with all the QC fields available in your dataset : "
   ]
  },
  {
   "cell_type": "code",
   "execution_count": null,
   "id": "562387af-4f0c-48cb-8496-ea3ad694a79e",
   "metadata": {
    "editable": true,
    "slideshow": {
     "slide_type": ""
    },
    "tags": []
   },
   "outputs": [],
   "source": [
    "dsq = ds.argo.filter_qc(QC_list=[1, 2], QC_fields='all')\n",
    "dsq.argo"
   ]
  },
  {
   "cell_type": "markdown",
   "id": "c85d7560-a5a7-404f-abe2-13fafe85c4e8",
   "metadata": {
    "editable": true,
    "slideshow": {
     "slide_type": ""
    },
    "tags": []
   },
   "source": [
    "<br>\n",
    "\n",
    "Or you can specify the qualification variable to use when filtering:"
   ]
  },
  {
   "cell_type": "code",
   "execution_count": null,
   "id": "eb7820b3-9238-4a2a-abea-58cb958d3e92",
   "metadata": {
    "editable": true,
    "slideshow": {
     "slide_type": ""
    },
    "tags": []
   },
   "outputs": [],
   "source": [
    "dsqs = ds.argo.filter_qc(QC_list=[1, 2], QC_fields=['PSAL_QC'])\n",
    "dsqs.argo"
   ]
  },
  {
   "cell_type": "markdown",
   "id": "7f986f6e-c88d-4ac2-b407-4078b26a23b8",
   "metadata": {
    "editable": true,
    "slideshow": {
     "slide_type": ""
    },
    "tags": []
   },
   "source": [
    "<br>\n",
    "\n",
    "A simple representation of these:"
   ]
  },
  {
   "cell_type": "code",
   "execution_count": null,
   "id": "bcb7cf10-ea5b-43a7-a768-f8ca21faaa5d",
   "metadata": {
    "editable": true,
    "slideshow": {
     "slide_type": ""
    },
    "tags": []
   },
   "outputs": [],
   "source": [
    "import matplotlib.pyplot as plt\n",
    "\n",
    "fig, ax = plt.subplots(1, 2, figsize=(12, 4))\n",
    "ax[0].plot(ds['PSAL'], ds['TEMP'],'k.', markersize=1, label='raw')\n",
    "ax[0].plot(dsq['PSAL'],dsq['TEMP'],'g.', markersize=0.2, label='*_QC=[1, 2]')\n",
    "ax[0].set_ylim([0, 12]), ax[0].set_xlim([34.8, 35.8]), ax[0].grid(), ax[0].legend()\n",
    "ax[1].plot(ds['PSAL'], ds['TEMP'],'k.', markersize=1, label='raw')\n",
    "ax[1].plot(dsqs['PSAL'], dsqs['TEMP'],'r.', markersize=0.2, label='PSAL_QC=[1, 2]')\n",
    "ax[1].set_ylim([0, 12]), ax[1].set_xlim([34.8, 35.8]), ax[1].grid(), ax[1].legend()"
   ]
  },
  {
   "cell_type": "markdown",
   "id": "0f8d4f06-b9f3-40fc-930d-33cbbb035ca9",
   "metadata": {
    "editable": true,
    "slideshow": {
     "slide_type": ""
    },
    "tags": []
   },
   "source": [
    "#### \u270f\ufe0f EXERCICE\n",
    "Fetch the data from your favorite float in expert mode, and create a dataset with only good data (QC=[1,2]) for salinity and temperature."
   ]
  },
  {
   "cell_type": "code",
   "execution_count": null,
   "id": "ee28c00d-49e2-4a68-b37e-9b3a64eb8e42",
   "metadata": {
    "editable": true,
    "slideshow": {
     "slide_type": ""
    },
    "tags": []
   },
   "outputs": [],
   "source": [
    "# Your code here"
   ]
  },
  {
   "cell_type": "markdown",
   "id": "f47c6284-1532-485d-9c65-1a1ee565612f",
   "metadata": {
    "editable": true,
    "slideshow": {
     "slide_type": ""
    },
    "tags": []
   },
   "source": [
    "## \ud83d\udcc9 Data mode filter \n",
    "You can filter variables according to their data mode with the method [Dataset.argo.datamode.filter()](https://argopy.readthedocs.io/en/v1.3.0/generated/xarray.Dataset.argo.datamode.filter.html#xarray.Dataset.argo.datamode.filter)  \n",
    "Filter the dataset to keep points where all or some of the parameters are in any of the data mode specified."
   ]
  },
  {
   "cell_type": "code",
   "execution_count": null,
   "id": "bf55e41a-c364-451b-87e0-d02b2dfae8cb",
   "metadata": {
    "editable": true,
    "slideshow": {
     "slide_type": ""
    },
    "tags": []
   },
   "outputs": [],
   "source": [
    "box = [-30, -10, 5, 20, 0, 500, '2025-01', '2025-06']\n",
    "f = DataFetcher(src='erddap', mode='expert').region(box)\n",
    "ds = f.data\n",
    "ds.argo"
   ]
  },
  {
   "cell_type": "code",
   "execution_count": null,
   "id": "d0fed2ee-9cf9-4177-8c03-1aadbd8b438a",
   "metadata": {
    "editable": true,
    "slideshow": {
     "slide_type": ""
    },
    "tags": []
   },
   "outputs": [],
   "source": [
    "dsdm = ds.argo.datamode.filter(dm=['D'], params='all')\n",
    "dsdm.argo"
   ]
  },
  {
   "cell_type": "markdown",
   "id": "801ee962-57db-4a03-9f50-97a376230d73",
   "metadata": {
    "editable": true,
    "slideshow": {
     "slide_type": ""
    },
    "tags": []
   },
   "source": [
    "#### \u270f\ufe0f EXERCICE\n",
    "Fetch data from float 1902574 in expert mode and create a real-time dataset and and a delayed-mode one"
   ]
  },
  {
   "cell_type": "code",
   "execution_count": null,
   "id": "3f81c752-e30e-459b-b04e-9a3f551c48f8",
   "metadata": {
    "editable": true,
    "slideshow": {
     "slide_type": ""
    },
    "tags": []
   },
   "outputs": [],
   "source": [
    "# Your code here"
   ]
  },
  {
   "cell_type": "markdown",
   "id": "a89022d4-e344-4182-bb9c-4afa000d3280",
   "metadata": {
    "editable": true,
    "slideshow": {
     "slide_type": ""
    },
    "tags": []
   },
   "source": [
    "#### \ud83d\udd0d Pro tip\n",
    "\n",
    "It is also possible to load and plot one float data using the [ArgoFloat](https://argopy.readthedocs.io/en/v1.3.0/generated/argopy.ArgoFloat.html#argopy.ArgoFloat) class.\n",
    "\n",
    "Check the dedicated notebook for more.\n",
    "\n",
    "It could be useful to plot the data mode like this:"
   ]
  },
  {
   "cell_type": "code",
   "execution_count": null,
   "id": "3cc8022b-3cb8-479f-8aaa-03a9411d328c",
   "metadata": {
    "editable": true,
    "slideshow": {
     "slide_type": ""
    },
    "tags": []
   },
   "outputs": [],
   "source": [
    "from argopy import ArgoFloat\n",
    "ArgoFloat(1902574).plot.map('DATA_MODE', cbar=False, legend=True);"
   ]
  },
  {
   "cell_type": "markdown",
   "id": "fd347f5f-d7c7-4033-9456-58a4778bbdad",
   "metadata": {
    "editable": true,
    "slideshow": {
     "slide_type": ""
    },
    "tags": []
   },
   "source": [
    "## \u267b\ufe0f Data mode based transform\n",
    "Note that you can also use the data mode variable to transform your dataset. The [Dataset.argo.datamode.merge()](https://argopy.readthedocs.io/en/v1.3.0/generated/xarray.Dataset.argo.datamode.merge.html#xarray.Dataset.argo.datamode.merge) method will copy any ADJUSTED values onto Variable for points where param data mode is 'A' or 'D'. After values have been copied, all ADJUSTED variables are dropped to avoid confusion."
   ]
  },
  {
   "cell_type": "code",
   "execution_count": null,
   "id": "d56b8c7e-8508-4e3c-bed9-06110fe94c23",
   "metadata": {
    "editable": true,
    "slideshow": {
     "slide_type": ""
    },
    "tags": []
   },
   "outputs": [],
   "source": [
    "f = DataFetcher(src='erddap', mode='expert').float(3901971) \n",
    "ds = f.data\n",
    "ds.argo"
   ]
  },
  {
   "cell_type": "code",
   "execution_count": null,
   "id": "af75ed63-f8cc-426d-b041-adcc8fe5ed6e",
   "metadata": {
    "editable": true,
    "slideshow": {
     "slide_type": ""
    },
    "tags": []
   },
   "outputs": [],
   "source": [
    "dsdm_merged = ds.argo.datamode.merge()\n",
    "dsdm_merged.data_vars"
   ]
  },
  {
   "cell_type": "markdown",
   "id": "c5c7055f-0835-4533-9408-18df8341889a",
   "metadata": {
    "editable": true,
    "slideshow": {
     "slide_type": ""
    },
    "tags": []
   },
   "source": [
    "<br>\n",
    "\n",
    "Note that all the ADJUSTED variables have been dropped, to only keep simple and clearer variable names"
   ]
  },
  {
   "cell_type": "markdown",
   "id": "76675ef3-3e9a-469b-a67b-39b5b8632f90",
   "metadata": {
    "editable": true,
    "slideshow": {
     "slide_type": ""
    },
    "tags": []
   },
   "source": [
    "## \ud83c\udf0a OWC variables filter \n",
    "You can filter variables according to OWC salinity calibration software requirements with the method [Dataset.argo.filter_scalib_pres()](https://argopy.readthedocs.io/en/v1.3.0/generated/xarray.Dataset.argo.filter_scalib_pres.html#xarray.Dataset.argo.filter_scalib_pres).  \n",
    "This filter modifies pressure, temperature and salinity related variables of the dataset.\n",
    "\n",
    "By default, this filter will return a dataset with raw PRES, PSAL and TEMP; and if PRES is adjusted, PRES variable will be replaced by PRES_ADJUSTED.\n",
    "\n",
    "With option `force='raw'`, you can force the filter to return a dataset with raw PRES, PSAL and TEMP whether PRES is adjusted or not. \n",
    "\n",
    "With option `force='adjusted'`, you can force the filter to return a dataset where PRES, PSAL and TEMP are replaced with adjusted variables: PRES_ADJUSTED, PSAL_ADJUSTED, TEMP_ADJUSTED. Since ADJUSTED variables are not required anymore after the filter, all ADJUSTED variables are dropped in order to avoid confusion wrt variable content."
   ]
  },
  {
   "cell_type": "code",
   "execution_count": null,
   "id": "cec1440b-d9f1-4b9f-8ab2-ab896bf5165a",
   "metadata": {
    "editable": true,
    "slideshow": {
     "slide_type": ""
    },
    "tags": []
   },
   "outputs": [],
   "source": [
    "f = DataFetcher(src='erddap', mode='expert').float(3901971) \n",
    "ds = f.data\n",
    "ds.argo"
   ]
  },
  {
   "cell_type": "code",
   "execution_count": null,
   "id": "06f6a8d2-d09f-4953-8be8-32f4a5c807ea",
   "metadata": {
    "editable": true,
    "slideshow": {
     "slide_type": ""
    },
    "tags": []
   },
   "outputs": [],
   "source": [
    "ds_owc = ds.argo.filter_scalib_pres(force='default')\n",
    "ds_owc"
   ]
  },
  {
   "cell_type": "markdown",
   "id": "a7b0d5ff-998b-4b77-9ff7-a637785da669",
   "metadata": {
    "editable": true,
    "slideshow": {
     "slide_type": ""
    },
    "tags": []
   },
   "source": [
    "## \ud83d\udd0d Research mode filter for core/deep missions\n",
    "Filter dataset for [research user mode](https://argopy.readthedocs.io/en/v1.3.0/user-guide/fetching-argo-data/user_mode.html#mode-research-research-mode) and core/deep missions will select delayed mode data with QC=1 and with pressure errors smaller than 20db.\n",
    "\n",
    "#### \ud83d\udedf NOTE\n",
    "For the ``bgc`` dataset: filtering for the ``research`` user mode is implemented in the fetcher facade and cannot (yet) be applied to an Argo xarray dataset."
   ]
  },
  {
   "cell_type": "code",
   "execution_count": null,
   "id": "b74ef47e-0fec-4b1d-9f57-00069b6b7e10",
   "metadata": {
    "editable": true,
    "slideshow": {
     "slide_type": ""
    },
    "tags": []
   },
   "outputs": [],
   "source": [
    "f = DataFetcher(src='erddap', mode='expert').float(3901996) \n",
    "ds = f.data\n",
    "ds.argo"
   ]
  },
  {
   "cell_type": "code",
   "execution_count": null,
   "id": "935a97a6-a5cf-4f16-9663-f258d836d03b",
   "metadata": {
    "editable": true,
    "slideshow": {
     "slide_type": ""
    },
    "tags": []
   },
   "outputs": [],
   "source": [
    "ds_rm = ds.argo.filter_researchmode()\n",
    "ds_rm"
   ]
  },
  {
   "cell_type": "markdown",
   "id": "f925ccc9-e0f9-45cc-a49c-c684d7138807",
   "metadata": {
    "editable": true,
    "slideshow": {
     "slide_type": ""
    },
    "tags": []
   },
   "source": [
    "#### \u270f\ufe0f EXERCICE\n",
    "Fetch data from float 4903173 in \"expert\" mode and filter the dataset with research mode filter. \n",
    "\n",
    "Compare results with data fetched in \"research\" mode directly. "
   ]
  },
  {
   "cell_type": "code",
   "execution_count": null,
   "id": "8470b160-8b25-426e-8980-514dbc1ae0a6",
   "metadata": {},
   "outputs": [],
   "source": [
    "# Your code here"
   ]
  },
  {
   "cell_type": "markdown",
   "id": "37d57f35-1b29-4c6e-8e06-86a3024ee663",
   "metadata": {
    "editable": true,
    "slideshow": {
     "slide_type": ""
    },
    "tags": [
     "disclaimer"
    ]
   },
   "source": [
    "## \ud83c\udfc1 End of the notebook\n",
    "\n***\n",
    "#### \ud83d\udc40 Useful argopy commands\n",
    "```python\n",
    "argopy.reset_options()\n",
    "argopy.show_options()\n",
    "argopy.status()\n",
    "argopy.clear_cache()\n",
    "argopy.show_versions()\n",
    "```\n",
    "#### \u2696\ufe0f License Information\n",
    "This Jupyter Notebook is licensed under the **European Union Public Licence (EUPL) v1.2**.\n",
    "\n",
    "| Permissions      | Limitations     | Conditions                     |\n",
    "|------------------|-----------------|--------------------------------|\n",
    "| \u2714 Commercial use | \u274c Liability     | \u24d8 License and copyright notice |\n",
    "| \u2714 Modification   | \u274c Trademark use | \u24d8 Disclose source              |\n",
    "| \u2714 Distribution   | \u274c Warranty      | \u24d8 State changes                |\n",
    "| \u2714 Patent use     |                  | \u24d8 Network use is distribution  |\n",
    "| \u2714 Private use    |                  | \u24d8 Same license                 |\n",
    "\n",
    "For more details, visit: [EUPL v1.2 Full Text](https://github.com/euroargodev/argopy-training/blob/main/LICENSE).\n",
    "\n",
    "#### \ud83e\udd1d Sponsor\n",
    "![logo](https://raw.githubusercontent.com/euroargodev/argopy-training/refs/heads/main/for_nb_producers/template_argopy_training_EAONE.png)",
    "\n***\n"
   ]
  }
 ],
 "metadata": {
  "kernelspec": {
   "display_name": "argopy-training",
   "language": "python",
   "name": "argopy-training"
  },
  "language_info": {
   "codemirror_mode": {
    "name": "ipython",
    "version": 3
   },
   "file_extension": ".py",
   "mimetype": "text/x-python",
   "name": "python",
   "nbconvert_exporter": "python",
   "pygments_lexer": "ipython3",
   "version": "3.11.13"
  },
  "widgets": {
   "application/vnd.jupyter.widget-state+json": {
    "state": {},
    "version_major": 2,
    "version_minor": 0
   }
  }
 },
 "nbformat": 4,
 "nbformat_minor": 5
}