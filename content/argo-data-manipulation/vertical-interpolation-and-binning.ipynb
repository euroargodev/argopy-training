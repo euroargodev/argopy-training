{
 "cells": [
  {
   "cell_type": "markdown",
   "id": "b2bfb227-b7be-4ebc-b061-23682e739534",
   "metadata": {
    "editable": true,
    "slideshow": {
     "slide_type": ""
    },
    "tags": []
   },
   "source": [
    "<img src=\"https://raw.githubusercontent.com/euroargodev/argopy/master/docs/_static/argopy_logo_long.png\" alt=\"argopy logo\" width=\"200\"/>\n",
    "\n",
    "# Training Camp - Sept 22<sup>th</sup> 2025\n",
    "\n",
    "***\n",
    "\n",
    "## Notebook Title : Vertical interpolation & Binning\n",
    "\n",
    "**Author contact : [K. Balem](https://annuaire.ifremer.fr/cv/22144/)**\n",
    "\n",
    "**Description:**\n",
    "\n",
    "This notebook describes:\n",
    "- how to transform Argo data from a set of points to a collection of profiles,\n",
    "- how to interpolate Argo data onto standard depth levels,\n",
    "- how to bin vertically Argo data.\n",
    "\n",
    "This notebook is based on the [Argopy documentation](https://argopy.readthedocs.io/en/v1.3.0/user-guide/working-with-argo-data/data_manipulation.html#) where you can find more details on each function.\n",
    "\n",
    "*This notebook was developed with Argopy version: 1.3*\n",
    "\n**Table of Contents**\n",
    "- [Points vs Profiles](#points-vs-profiles)\n",
    "    - [\u270f\ufe0f EXERCICE](#\u270f\ufe0f-exercice)\n",
    "- [Vertical interpolation](#vertical-interpolation)\n",
    "    - [\ud83d\udedf NOTE](#\ud83d\udedf-note)\n",
    "    - [\u270f\ufe0f EXERCICE](#\u270f\ufe0f-exercice)\n",
    "- [Pressure levels: Group-by bins](#pressure-levels:-group-by-bins)\n",
    "    - [\ud83d\udd0d Pro tip](#\ud83d\udd0d-pro-tip)\n",
    "    - [\u270f\ufe0f EXERCICE](#\u270f\ufe0f-exercice)\n",
    "- [\ud83c\udfc1 End of the notebook](#\ud83c\udfc1-end-of-the-notebook)\n",
    "    - [\ud83d\udc40 Useful argopy commands](#\ud83d\udc40-useful-argopy-commands)\n",
    "    - [\u2696\ufe0f License Information](#\u2696\ufe0f-license-information)\n",
    "    - [\ud83e\udd1d Sponsor](#\ud83e\udd1d-sponsor)\n",
    "***"
   ]
  },
  {
   "cell_type": "markdown",
   "id": "4afcfb59-cb77-4320-8bc1-d7cb491529cf",
   "metadata": {
    "editable": true,
    "slideshow": {
     "slide_type": ""
    },
    "tags": []
   },
   "source": [
    "Let's start with the usual import:"
   ]
  },
  {
   "cell_type": "code",
   "execution_count": null,
   "id": "3713ec84-b6b6-46b6-a734-0d47b1c5267d",
   "metadata": {
    "editable": true,
    "slideshow": {
     "slide_type": ""
    },
    "tags": []
   },
   "outputs": [],
   "source": [
    "from argopy import DataFetcher"
   ]
  },
  {
   "cell_type": "markdown",
   "id": "5c497dc7-b2c9-4b9e-9c17-89d02ed67aff",
   "metadata": {
    "editable": true,
    "slideshow": {
     "slide_type": ""
    },
    "tags": []
   },
   "source": [
    "And to prevent cell output to be too large, we won't display xarray object attributes:"
   ]
  },
  {
   "cell_type": "code",
   "execution_count": null,
   "id": "214f3109-655c-4bef-8c01-675dea3356e1",
   "metadata": {
    "editable": true,
    "slideshow": {
     "slide_type": ""
    },
    "tags": []
   },
   "outputs": [],
   "source": [
    "import xarray as xr\n",
    "xr.set_options(display_expand_attrs = False)"
   ]
  },
  {
   "cell_type": "markdown",
   "id": "2b69dbbc-6799-42c1-baeb-953dd5e74825",
   "metadata": {
    "editable": true,
    "slideshow": {
     "slide_type": ""
    },
    "tags": []
   },
   "source": [
    "## Points vs Profiles\n",
    "By default, fetched data are returned as a 1D array collection of measurements, ie a set of points."
   ]
  },
  {
   "cell_type": "code",
   "execution_count": null,
   "id": "c017015d-1d07-42b6-93c1-912be906f3d7",
   "metadata": {
    "editable": true,
    "slideshow": {
     "slide_type": ""
    },
    "tags": []
   },
   "outputs": [],
   "source": [
    "f = DataFetcher().region([-75, -55, 30., 40., 0, 100., '2011-01-01', '2011-01-15'])\n",
    "f "
   ]
  },
  {
   "cell_type": "markdown",
   "id": "00a2a521-02c3-4c4b-b31d-7286d3917d35",
   "metadata": {
    "editable": true,
    "slideshow": {
     "slide_type": ""
    },
    "tags": []
   },
   "source": [
    "<br>\n",
    "\n",
    "The returned xarray dataset will only have one dimension : **N_POINTS**"
   ]
  },
  {
   "cell_type": "code",
   "execution_count": null,
   "id": "a1949c7d-dfb2-492b-abd9-59d36ea04dcc",
   "metadata": {
    "editable": true,
    "slideshow": {
     "slide_type": ""
    },
    "tags": []
   },
   "outputs": [],
   "source": [
    "ds_points = f.data\n",
    "ds_points"
   ]
  },
  {
   "cell_type": "markdown",
   "id": "c9b7beab-05ba-4d22-85b8-0fcd9ca80b38",
   "metadata": {
    "editable": true,
    "slideshow": {
     "slide_type": ""
    },
    "tags": []
   },
   "source": [
    "<br>\n",
    "\n",
    "If you prefer to work with 2D collection of vertical profiles, simply transform the dataset with [Dataset.argo.point2profile()](https://argopy.readthedocs.io/en/v1.3.0/generated/xarray.Dataset.argo.point2profile.html#xarray.Dataset.argo.point2profile)  \n",
    "\n",
    "This will return a transformed dataset where the **N_POINTS** dimension is replaced by **N_PROF** and **N_LEVELS**:"
   ]
  },
  {
   "cell_type": "code",
   "execution_count": null,
   "id": "374e7819-502c-4690-b812-06b56f053575",
   "metadata": {
    "editable": true,
    "slideshow": {
     "slide_type": ""
    },
    "tags": []
   },
   "outputs": [],
   "source": [
    "ds_profiles = ds_points.argo.point2profile()\n",
    "ds_profiles"
   ]
  },
  {
   "cell_type": "markdown",
   "id": "79f23050-c772-4f7f-b70b-7149c3662e57",
   "metadata": {
    "editable": true,
    "slideshow": {
     "slide_type": ""
    },
    "tags": []
   },
   "source": [
    "You can simply reverse this transformation with the [Dataset.argo.profile2point()](https://argopy.readthedocs.io/en/v1.3.0/generated/xarray.Dataset.argo.profile2point.html#xarray.Dataset.argo.profile2point):"
   ]
  },
  {
   "cell_type": "code",
   "execution_count": null,
   "id": "234a70c0-332f-423a-9f7a-b95c2f5594e6",
   "metadata": {
    "editable": true,
    "slideshow": {
     "slide_type": ""
    },
    "tags": []
   },
   "outputs": [],
   "source": [
    "ds = ds_profiles.argo.profile2point()\n",
    "ds"
   ]
  },
  {
   "cell_type": "markdown",
   "id": "f6a27eda-a937-4c8a-b03c-ea47642863e9",
   "metadata": {
    "editable": true,
    "slideshow": {
     "slide_type": ""
    },
    "tags": []
   },
   "source": [
    "#### \u270f\ufe0f EXERCICE\n",
    "Fetch data from floats 6904183 and 6903071 and transform the returned dataset into profiles."
   ]
  },
  {
   "cell_type": "code",
   "execution_count": null,
   "id": "4da2e053-f871-48bd-946d-3e0dfe7ccb08",
   "metadata": {
    "editable": true,
    "slideshow": {
     "slide_type": ""
    },
    "tags": []
   },
   "outputs": [],
   "source": [
    "# Your code here"
   ]
  },
  {
   "cell_type": "markdown",
   "id": "accc131c-0903-4e66-a023-8dccf9f5627d",
   "metadata": {
    "editable": true,
    "slideshow": {
     "slide_type": ""
    },
    "tags": []
   },
   "source": [
    "## Vertical interpolation\n",
    "Once your dataset is a collection of vertical profiles, you can interpolate variables on standard pressure levels using [Dataset.argo.interp_std_levels()](https://argopy.readthedocs.io/en/v1.3.0/generated/xarray.Dataset.argo.interp_std_levels.html#xarray.Dataset.argo.interp_std_levels) with your levels as input.  \n",
    "This interpolated dataset has a new vertical dimension : **PRES_INTERPOLATED**"
   ]
  },
  {
   "cell_type": "markdown",
   "id": "48faf715-2f7a-4143-a625-7d5b5cb86e9a",
   "metadata": {
    "editable": true,
    "slideshow": {
     "slide_type": ""
    },
    "tags": []
   },
   "source": [
    "Let's load some data to work with:"
   ]
  },
  {
   "cell_type": "code",
   "execution_count": null,
   "id": "7350f990-63d5-41cc-971f-2bcff4cac77a",
   "metadata": {
    "editable": true,
    "slideshow": {
     "slide_type": ""
    },
    "tags": []
   },
   "outputs": [],
   "source": [
    "f = DataFetcher().region([-75., -55., 30., 40., 0, 100., '2011-01-01', '2011-01-15'])\n",
    "ds_profiles = f.data.argo.point2profile()\n",
    "ds_profiles"
   ]
  },
  {
   "cell_type": "markdown",
   "id": "80097b6a-4d68-4e90-84c6-d243de4d4141",
   "metadata": {
    "editable": true,
    "slideshow": {
     "slide_type": ""
    },
    "tags": []
   },
   "source": [
    "Let's define our standard pressure levels down to 100db:"
   ]
  },
  {
   "cell_type": "code",
   "execution_count": null,
   "id": "5ff5de6c-14b8-4fd8-a21a-e739c9307034",
   "metadata": {
    "editable": true,
    "slideshow": {
     "slide_type": ""
    },
    "tags": []
   },
   "outputs": [],
   "source": [
    "import numpy as np\n",
    "z_levels = np.arange(0., 100., 10)\n",
    "z_levels"
   ]
  },
  {
   "cell_type": "markdown",
   "id": "9f11d4ec-21ca-403a-a083-d26411aae872",
   "metadata": {
    "editable": true,
    "slideshow": {
     "slide_type": ""
    },
    "tags": []
   },
   "source": [
    "We can now interpolate all of our profiles onto those levels"
   ]
  },
  {
   "cell_type": "code",
   "execution_count": null,
   "id": "d118309f-65bf-47f8-b174-143a2a0a6b4d",
   "metadata": {
    "editable": true,
    "slideshow": {
     "slide_type": ""
    },
    "tags": []
   },
   "outputs": [],
   "source": [
    "ds_interp = ds_profiles.argo.interp_std_levels(z_levels)\n",
    "ds_interp"
   ]
  },
  {
   "cell_type": "markdown",
   "id": "a2bda588-6a39-4bdc-a6d0-d747fe7a9a07",
   "metadata": {
    "editable": true,
    "slideshow": {
     "slide_type": ""
    },
    "tags": []
   },
   "source": [
    "#### \ud83d\udedf NOTE\n",
    "\n",
    "About the linear interpolation process :\n",
    "- Only profiles that have a maximum pressure higher than the highest standard level are selected for interpolation.\n",
    "- Remaining profiles must have at least five data points to allow interpolation.\n",
    "- For each profile, the shallowest data point is repeated to the surface to allow a 0 standard level while avoiding extrapolation."
   ]
  },
  {
   "cell_type": "markdown",
   "id": "5dfb9b23-4acd-4b78-aabd-dd654ed1ee91",
   "metadata": {
    "editable": true,
    "slideshow": {
     "slide_type": ""
    },
    "tags": []
   },
   "source": [
    "In our case, one profile is missing in the interpolated dataset, compare to the orginal dataset. \n",
    "\n",
    "This is because its maximum pressure does not reach one or more standard levels:"
   ]
  },
  {
   "cell_type": "code",
   "execution_count": null,
   "id": "f53617ed-ecab-4ecf-9aa1-51384a628f30",
   "metadata": {
    "editable": true,
    "slideshow": {
     "slide_type": ""
    },
    "tags": []
   },
   "outputs": [],
   "source": [
    "ds_profiles['PRES'].max('N_LEVELS').values"
   ]
  },
  {
   "cell_type": "markdown",
   "id": "8ab7b756-4fba-4298-8612-bd69750d924d",
   "metadata": {
    "editable": true,
    "slideshow": {
     "slide_type": ""
    },
    "tags": []
   },
   "source": [
    "#### \u270f\ufe0f EXERCICE\n",
    "Fetch the data from float 1900547, transform the dataset into profiles, and interpolate onto standard pressure levels."
   ]
  },
  {
   "cell_type": "code",
   "execution_count": null,
   "id": "85bd9fab-4e7f-40d8-a85e-a80500f48899",
   "metadata": {
    "editable": true,
    "slideshow": {
     "slide_type": ""
    },
    "tags": []
   },
   "outputs": [],
   "source": [
    "# Your code here"
   ]
  },
  {
   "cell_type": "code",
   "execution_count": null,
   "id": "29258d58-4c64-4e59-aed4-568f66f309d7",
   "metadata": {
    "editable": true,
    "slideshow": {
     "slide_type": ""
    },
    "tags": []
   },
   "outputs": [],
   "source": [
    "dsp['PRES'].max('N_LEVELS').values <= np.max(z_levels)"
   ]
  },
  {
   "cell_type": "markdown",
   "id": "4435439c-148d-4d14-8891-abe1484799d1",
   "metadata": {
    "editable": true,
    "slideshow": {
     "slide_type": ""
    },
    "tags": []
   },
   "source": [
    "## Pressure levels: Group-by bins\n",
    "\n",
    "If you prefer to avoid interpolation, you can opt for a pressure bins grouping reduction using [Dataset.argo.groupby_pressure_bins()](https://argopy.readthedocs.io/en/v1.3.0/generated/xarray.Dataset.argo.groupby_pressure_bins.html#xarray.Dataset.argo.groupby_pressure_bins).  \n",
    "\n",
    "This method can be used to subsample and align an irregular dataset (pressure not being similar in all profiles) on a set of pressure bins. \n",
    "\n",
    "The output dataset could then be used to perform statistics along the N_PROF dimension because N_LEVELS will corresponds to similar pressure bins."
   ]
  },
  {
   "cell_type": "markdown",
   "id": "cb096ab0-52f7-46cf-bf5d-535d50fb7bff",
   "metadata": {
    "editable": true,
    "slideshow": {
     "slide_type": ""
    },
    "tags": []
   },
   "source": [
    "To illustrate this method, let\u2019s start by fetching some data from a low vertical resolution float:"
   ]
  },
  {
   "cell_type": "code",
   "execution_count": null,
   "id": "06fdc08b-40ee-4c69-b7ca-7993560087b7",
   "metadata": {
    "editable": true,
    "slideshow": {
     "slide_type": ""
    },
    "tags": []
   },
   "outputs": [],
   "source": [
    "f = DataFetcher(src='erddap', mode='expert').float(2901623)  # Low res float\n",
    "ds = f.data\n",
    "ds"
   ]
  },
  {
   "cell_type": "markdown",
   "id": "a0ec3805-151d-46be-a6c5-7f55359d4270",
   "metadata": {
    "editable": true,
    "slideshow": {
     "slide_type": ""
    },
    "tags": []
   },
   "source": [
    "Let\u2019s now sub-sample these measurements along 250db bins, selecting values from the deepest pressure levels for each bins:"
   ]
  },
  {
   "cell_type": "code",
   "execution_count": null,
   "id": "61892e97-2af4-490b-8702-5af76c71bbd7",
   "metadata": {
    "editable": true,
    "slideshow": {
     "slide_type": ""
    },
    "tags": []
   },
   "outputs": [],
   "source": [
    "bins = np.arange(0.0, np.max(ds[\"PRES\"]), 250.0)\n",
    "bins"
   ]
  },
  {
   "cell_type": "code",
   "execution_count": null,
   "id": "a7fb8f0e-fa27-4388-bfd6-84ce72164443",
   "metadata": {
    "editable": true,
    "slideshow": {
     "slide_type": ""
    },
    "tags": []
   },
   "outputs": [],
   "source": [
    "ds_binned = ds.argo.groupby_pressure_bins(bins=bins, select='deep')\n",
    "ds_binned"
   ]
  },
  {
   "cell_type": "markdown",
   "id": "9c67f056-3ccf-41e2-9c00-272a73ef3887",
   "metadata": {
    "editable": true,
    "slideshow": {
     "slide_type": ""
    },
    "tags": []
   },
   "source": [
    "See the new STD_PRES_BINS variable that hold the pressure bins definition."
   ]
  },
  {
   "cell_type": "markdown",
   "id": "862fe79b-b4e9-488a-8ed8-36a9383c9528",
   "metadata": {
    "editable": true,
    "slideshow": {
     "slide_type": ""
    },
    "tags": []
   },
   "source": [
    "The figure below shows the sub-sampling effect:"
   ]
  },
  {
   "cell_type": "code",
   "execution_count": null,
   "id": "5c24a43b-39ba-4854-9b3d-4e2f9c81f1a2",
   "metadata": {
    "editable": true,
    "slideshow": {
     "slide_type": ""
    },
    "tags": []
   },
   "outputs": [],
   "source": [
    "import matplotlib.pyplot as plt\n",
    "from argopy.plot import scatter_plot\n",
    "\n",
    "# LETS PLOT FULL DATASET \n",
    "fig, ax, _, _ = scatter_plot(ds, 'PSAL', this_x='CYCLE_NUMBER', cmap='gray', cbar=True)\n",
    "\n",
    "# LETS PLOT BINNED DATASET POINTS\n",
    "plt.plot(ds_binned['CYCLE_NUMBER'], ds_binned['PRES'], 'r+')\n",
    "\n",
    "# LETS PLOT OUR BINS LEVELS\n",
    "plt.hlines(bins, ds['CYCLE_NUMBER'].min(), ds['CYCLE_NUMBER'].max(), color='k')\n",
    "plt.hlines(ds_binned['STD_PRES_BINS'], ds_binned['CYCLE_NUMBER'].min(), ds_binned['CYCLE_NUMBER'].max(), color='r')\n",
    "\n",
    "plt.title(ds.attrs['Fetched_constraints'])"
   ]
  },
  {
   "cell_type": "markdown",
   "id": "78f71d33-dace-4267-9801-d8c5884d295f",
   "metadata": {
    "editable": true,
    "slideshow": {
     "slide_type": ""
    },
    "tags": []
   },
   "source": [
    "<br>\n",
    "\n",
    "The bin limits are shown with horizontal red lines, the original data are in the background colored scatter and the group-by pressure bins values are highlighted in red marks."
   ]
  },
  {
   "cell_type": "markdown",
   "id": "e76af9b8-0e6c-4ca1-ba8e-c3ae0d233487",
   "metadata": {
    "editable": true,
    "slideshow": {
     "slide_type": ""
    },
    "tags": []
   },
   "source": [
    "#### \ud83d\udd0d Pro tip\n",
    "\n",
    "The `select` option can take many different values, corresponding to different ways to process your data within the bin.\n",
    "\n",
    "Check the full documentation of [Dataset.argo.groupby_pressure_bins()](https://argopy.readthedocs.io/en/v1.3.0/generated/xarray.Dataset.argo.groupby_pressure_bins.html#xarray.Dataset.argo.groupby_pressure_bins) for all the details. "
   ]
  },
  {
   "cell_type": "markdown",
   "id": "f6456b89-88dc-4bed-9eb8-d316a340eebc",
   "metadata": {
    "editable": true,
    "slideshow": {
     "slide_type": ""
    },
    "tags": []
   },
   "source": [
    "#### \u270f\ufe0f EXERCICE\n",
    "Fetch the data from float 5906993, and bin data using another select option. Illustrate the result."
   ]
  },
  {
   "cell_type": "code",
   "execution_count": null,
   "id": "ef9b24de-b2f2-4908-9274-7efb265dd28c",
   "metadata": {
    "editable": true,
    "slideshow": {
     "slide_type": ""
    },
    "tags": []
   },
   "outputs": [],
   "source": [
    "# Your code here"
   ]
  },
  {
   "cell_type": "markdown",
   "id": "3ae4ffe7-28ef-4925-8b90-681010a923a4",
   "metadata": {
    "editable": false,
    "slideshow": {
     "slide_type": ""
    },
    "tags": [
     "disclaimer"
    ]
   },
   "source": [
    "## \ud83c\udfc1 End of the notebook\n",
    "\n***\n",
    "#### \ud83d\udc40 Useful argopy commands\n",
    "```python\n",
    "argopy.reset_options()\n",
    "argopy.show_options()\n",
    "argopy.status()\n",
    "argopy.clear_cache()\n",
    "argopy.show_versions()\n",
    "```\n",
    "#### \u2696\ufe0f License Information\n",
    "This Jupyter Notebook is licensed under the **European Union Public Licence (EUPL) v1.2**.\n",
    "\n",
    "| Permissions      | Limitations     | Conditions                     |\n",
    "|------------------|-----------------|--------------------------------|\n",
    "| \u2714 Commercial use | \u274c Liability     | \u24d8 License and copyright notice |\n",
    "| \u2714 Modification   | \u274c Trademark use | \u24d8 Disclose source              |\n",
    "| \u2714 Distribution   | \u274c Warranty      | \u24d8 State changes                |\n",
    "| \u2714 Patent use     |                  | \u24d8 Network use is distribution  |\n",
    "| \u2714 Private use    |                  | \u24d8 Same license                 |\n",
    "\n",
    "For more details, visit: [EUPL v1.2 Full Text](https://github.com/euroargodev/argopy-training/blob/main/LICENSE).\n",
    "\n",
    "#### \ud83e\udd1d Sponsor\n",
    "![logo](https://raw.githubusercontent.com/euroargodev/argopy-training/refs/heads/main/for_nb_producers/template_argopy_training_EAONE.png)",
    "\n***\n"
   ]
  }
 ],
 "metadata": {
  "kernelspec": {
   "display_name": "argopy-training",
   "language": "python",
   "name": "argopy-training"
  },
  "language_info": {
   "codemirror_mode": {
    "name": "ipython",
    "version": 3
   },
   "file_extension": ".py",
   "mimetype": "text/x-python",
   "name": "python",
   "nbconvert_exporter": "python",
   "pygments_lexer": "ipython3",
   "version": "3.11.13"
  },
  "widgets": {
   "application/vnd.jupyter.widget-state+json": {
    "state": {},
    "version_major": 2,
    "version_minor": 0
   }
  }
 },
 "nbformat": 4,
 "nbformat_minor": 5
}