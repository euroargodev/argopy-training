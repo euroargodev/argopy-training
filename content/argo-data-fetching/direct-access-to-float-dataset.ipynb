{
 "cells": [
  {
   "attachments": {},
   "cell_type": "markdown",
   "id": "b1b9c837-bb0b-47f3-a756-9737fa99659d",
   "metadata": {
    "editable": true,
    "slideshow": {
     "slide_type": ""
    },
    "tags": []
   },
   "source": [
    "<img src=\"https://raw.githubusercontent.com/euroargodev/argopy/master/docs/_static/argopy_logo_long.png\" alt=\"argopy logo\" width=\"200\"/>\n",
    "\n",
    "# Training Camp - Sept 22<sup>th</sup> 2025\n",
    "\n",
    "***\n",
    "\n",
    "## Notebook Title : Direct access to float netcdf dataset\n",
    "\n",
    "**Author contact : [G. Maze](https://annuaire.ifremer.fr/cv/17182)**\n",
    "\n",
    "**Description:**\n",
    "\n",
    "This notebook describe how to use the [ArgoFloat](https://argopy.readthedocs.io/en/v1.3.0/generated/argopy.ArgoFloat.html#argopy.ArgoFloat):\n",
    "- to load some of the float dataset\n",
    "- plot data\n",
    "\n",
    "\ud83c\udff7\ufe0f This notebook was developed with [Argopy version *1.3.0*](https://argopy.readthedocs.io/en/v1.3.0)\n",
    "\n",
    "\u00a9  [European Union Public Licence (EUPL) v1.2](https://github.com/euroargodev/argopy-training/blob/main/LICENSE), see at the bottom of this notebook for more.\n",
    "\n**Table of Contents**\n",
    "- [Getting started](#getting-started)\n",
    "    - [\u270f\ufe0f EXERCICE](#\u270f\ufe0f-exercice)\n",
    "    - [\ud83d\udd0d Pro tip](#\ud83d\udd0d-pro-tip)\n",
    "- [Plot along the trajectory](#plot-along-the-trajectory)\n",
    "    - [\ud83d\udedf Note](#\ud83d\udedf-note)\n",
    "    - [\ud83d\udd0d Pro tip](#\ud83d\udd0d-pro-tip)\n",
    "- [Plot parameter as a function of pressure](#plot-parameter-as-a-function-of-pressure)\n",
    "    - [\u270f\ufe0f EXERCICE](#\u270f\ufe0f-exercice)\n",
    "    - [\u270f\ufe0f EXERCICE](#\u270f\ufe0f-exercice)\n",
    "- [\ud83c\udfc1 End of the notebook](#\ud83c\udfc1-end-of-the-notebook)\n",
    "    - [\ud83d\udc40 Useful argopy commands](#\ud83d\udc40-useful-argopy-commands)\n",
    "    - [\u2696\ufe0f License Information](#\u2696\ufe0f-license-information)\n",
    "    - [\ud83e\udd1d Sponsor](#\ud83e\udd1d-sponsor)\n",
    "***"
   ]
  },
  {
   "cell_type": "markdown",
   "id": "4253500e-9e2f-4a60-afeb-b236e1fd99f5",
   "metadata": {},
   "source": [
    "Let's start with the basic import:"
   ]
  },
  {
   "cell_type": "code",
   "execution_count": null,
   "id": "268b0572-2fcc-459d-ad8e-1589eeb24f84",
   "metadata": {},
   "outputs": [],
   "source": [
    "from argopy import ArgoFloat"
   ]
  },
  {
   "cell_type": "markdown",
   "id": "b70c7008-fa70-497f-9ae8-33cf697e5834",
   "metadata": {},
   "source": [
    "And to prevent cell output to be too large, we won't display xarray object attributes:"
   ]
  },
  {
   "cell_type": "code",
   "execution_count": null,
   "id": "48f25f46-fb21-40f2-90b7-0ee9d213fde6",
   "metadata": {},
   "outputs": [],
   "source": [
    "import xarray as xr\n",
    "xr.set_options(display_expand_attrs = False)"
   ]
  },
  {
   "cell_type": "markdown",
   "id": "88cf0f58-5f76-44df-9b72-a5f693852e97",
   "metadata": {
    "editable": true,
    "slideshow": {
     "slide_type": ""
    },
    "tags": []
   },
   "source": [
    "## Getting started\n",
    "\n",
    "A float store is simply instantiated with a WMO number:"
   ]
  },
  {
   "cell_type": "code",
   "execution_count": null,
   "id": "32d6aa25-a0a6-4563-898e-fa2bd9766956",
   "metadata": {},
   "outputs": [],
   "source": [
    "WMO = 6903297 # Use any float\n",
    "af = ArgoFloat(WMO)\n",
    "af"
   ]
  },
  {
   "cell_type": "markdown",
   "id": "316fe12d-1622-43f2-8041-7464d437daf6",
   "metadata": {},
   "source": [
    "<br>\n",
    "\n",
    "From the standard print above, we can see that argopy determined some informations about the float, like the network it belongs or the nb of cycles performed.\n",
    "\n",
    "More interestingly, the print gives the list of all the Netcdf dataset available for download.\n",
    "\n",
    "To get a direct access to this list, we can use the `ls_dataset` method:"
   ]
  },
  {
   "cell_type": "code",
   "execution_count": null,
   "id": "d8da4def-d801-4f5f-a87c-159b6d1bf627",
   "metadata": {},
   "outputs": [],
   "source": [
    "af.ls_dataset()"
   ]
  },
  {
   "cell_type": "markdown",
   "id": "10e3a69d-1e8f-47a6-9eee-71e655f6b5fd",
   "metadata": {},
   "source": [
    "<br>\n",
    "\n",
    "that provides a dictionnary mapping of each dataset keywords and the absolute path toward the corresponding netcdf.\n",
    "\n",
    "Once you identified the dataset to load, you can use the `open_dataset` method to do so:"
   ]
  },
  {
   "cell_type": "code",
   "execution_count": null,
   "id": "39a10ee2-ad90-44a6-8dc4-0c22a77df510",
   "metadata": {},
   "outputs": [],
   "source": [
    "ds = af.open_dataset('prof')\n",
    "ds.argo"
   ]
  },
  {
   "cell_type": "markdown",
   "id": "cdb457aa-b74d-4c7e-8e5e-7a22fa126c87",
   "metadata": {
    "editable": true,
    "slideshow": {
     "slide_type": ""
    },
    "tags": []
   },
   "source": [
    "#### \u270f\ufe0f EXERCICE\n",
    "\n",
    "Many hosts where float files are to be found are supported: http, ftp, s3 or your local copy of the GDAC.\n",
    "\n",
    "Use the `host` option of the [ArgoFloat](https://argopy.readthedocs.io/en/v1.3.0/generated/argopy.ArgoFloat.html#argopy.ArgoFloat) class to compare several netcdf file locations.\n",
    "\n",
    "\ud83d\udca1 Code hint:\n",
    "You can list all available GDAC servers and their shortname with\n",
    "```python\n",
    "import argopy\n",
    "argopy.utils.shortcut2gdac()\n",
    "```"
   ]
  },
  {
   "cell_type": "code",
   "execution_count": null,
   "id": "14b5bdb2-ad74-4748-a4ab-c4c45d4fb7bd",
   "metadata": {},
   "outputs": [],
   "source": [
    "# Your code here"
   ]
  },
  {
   "cell_type": "markdown",
   "id": "ae143047-4f79-4963-b94c-479ab8c1702c",
   "metadata": {
    "editable": true,
    "slideshow": {
     "slide_type": ""
    },
    "tags": []
   },
   "source": [
    "#### \ud83d\udd0d Pro tip\n",
    "\n",
    "Some netcdf files from the `auxialiary` folder can be accessed as well, just use the `aux` option to include them:"
   ]
  },
  {
   "cell_type": "code",
   "execution_count": null,
   "id": "44db2714-e744-4883-a0ac-c05a13b00ec1",
   "metadata": {
    "editable": true,
    "slideshow": {
     "slide_type": ""
    },
    "tags": []
   },
   "outputs": [],
   "source": [
    "ArgoFloat(WMO, aux=True).ls_dataset()"
   ]
  },
  {
   "cell_type": "markdown",
   "id": "cfe7f17d-0899-4306-91b3-0cbd9b358098",
   "metadata": {},
   "source": [
    "## Plot along the trajectory\n",
    "\n",
    "An [ArgoFloat](https://argopy.readthedocs.io/en/v1.3.0/generated/argopy.ArgoFloat.html#argopy.ArgoFloat) instance comes with rudimentary but usefull plotting features.\n",
    "\n",
    "You could first look at the float trajectory, which by default display cycle numbers:"
   ]
  },
  {
   "cell_type": "code",
   "execution_count": null,
   "id": "8b22f9e7-45b2-4a6b-bda3-315cbcad33fe",
   "metadata": {},
   "outputs": [],
   "source": [
    "af.plot.trajectory();"
   ]
  },
  {
   "cell_type": "markdown",
   "id": "0e6084c5-9f21-46fb-97b8-fe00a02ea6ec",
   "metadata": {},
   "source": [
    "<br>\n",
    "\n",
    "If you want to plot data along the trajectory, you must use the `map` method:"
   ]
  },
  {
   "cell_type": "code",
   "execution_count": null,
   "id": "7e67eea7-c6b6-48b7-8228-6fa87fe8765b",
   "metadata": {
    "editable": true,
    "slideshow": {
     "slide_type": ""
    },
    "tags": []
   },
   "outputs": [],
   "source": [
    "af.plot.map('DATA_MODE', cbar=False, legend=True);"
   ]
  },
  {
   "cell_type": "markdown",
   "id": "4eeccaa3-474d-473e-b858-0b3bb3655e05",
   "metadata": {},
   "source": [
    "<br>\n",
    "\n",
    "You can even plot parameters from a given pressure level:"
   ]
  },
  {
   "cell_type": "code",
   "execution_count": null,
   "id": "574f790e-fc1a-4baa-a7d7-886280254dfc",
   "metadata": {},
   "outputs": [],
   "source": [
    "af.plot.map('TEMP', pres=450, cmap='Spectral_r');"
   ]
  },
  {
   "cell_type": "markdown",
   "id": "a5b87778-9acd-469c-8897-7d131858a1c9",
   "metadata": {},
   "source": [
    "#### \ud83d\udedf Note\n",
    "\n",
    "The default pressure target is 0db when plotting a parameter value, and in this case, the first N_LEVELS index is used, whatever the pressure it corresponds to."
   ]
  },
  {
   "cell_type": "markdown",
   "id": "167108a3-1364-4096-a8d5-870d87ed40d8",
   "metadata": {},
   "source": [
    "#### \ud83d\udd0d Pro tip\n",
    "When plotting parameter at a given pressure target, argopy does not perform an interpolation but uses 100db pressure bin around the target and select by default the shallowest parameter value.\n",
    "\n",
    "This behaviour can be changed using the `pres`, `pres_bin_size` and `select` options. Please refer to [the documentation for more](https://argopy.readthedocs.io/en/v1.3.0/generated/argopy.ArgoFloat.plot.map.html#argopy.ArgoFloat.plot.map)."
   ]
  },
  {
   "cell_type": "markdown",
   "id": "9430725b-dce3-4e86-94b7-634dd10cc8ab",
   "metadata": {},
   "source": [
    "## Plot parameter as a function of pressure\n",
    "\n",
    "To plot parameters with a `N_LEVELS` dimension, you can use the `scatter` method and directly provide the name of the parameter:\n"
   ]
  },
  {
   "cell_type": "code",
   "execution_count": null,
   "id": "6070a747-2b1c-4551-965b-56fa9bfeaa5a",
   "metadata": {},
   "outputs": [],
   "source": [
    "af.plot.scatter('PSAL');"
   ]
  },
  {
   "cell_type": "markdown",
   "id": "0bbdd09a-883d-442c-8d01-fed84db1c60e",
   "metadata": {},
   "source": [
    "#### \u270f\ufe0f EXERCICE\n",
    "\n",
    "By default, the parameter is plotted along the datetime of profiles, but the `x` axis variable can be changed using the `this_x` option of the `scatter` method.\n",
    "\n",
    "Use the `this_x` option to make a plot of salinity as a function of the cycle number (`CYCLE_NUMBER`)."
   ]
  },
  {
   "cell_type": "code",
   "execution_count": null,
   "id": "9db80c14-6dc2-45ca-9592-d425a8e1cc2a",
   "metadata": {},
   "outputs": [],
   "source": [
    "# Your code here"
   ]
  },
  {
   "cell_type": "markdown",
   "id": "78dec4a2-d56a-467b-b0bb-2d5c2ed7ec16",
   "metadata": {},
   "source": [
    "#### \u270f\ufe0f EXERCICE\n",
    "\n",
    "By default, the parameter to plot is loaded from the `prof` netcdf file. \n",
    "\n",
    "Use the `ds` option of the `scatter` method to select another netcdf file and plot an alternative parameter.\n",
    "\n",
    "\ud83d\udca1 Code hint:\n",
    "\n",
    "*You can use a BGC-Argo float to plot oxygen from the synthetic file*\n",
    "```python\n",
    "af = ArgoFloat(2903928)\n",
    "af\n",
    "```"
   ]
  },
  {
   "cell_type": "code",
   "execution_count": null,
   "id": "c7b5dcf1-3fb1-435e-83e7-891b4e719057",
   "metadata": {},
   "outputs": [],
   "source": [
    "# Your code here"
   ]
  },
  {
   "cell_type": "markdown",
   "id": "873f5d53-0baa-43f8-8124-152820ace785",
   "metadata": {
    "tags": [
     "disclaimer"
    ],
    "editable": false
   },
   "source": [
    "## \ud83c\udfc1 End of the notebook\n",
    "\n***\n",
    "#### \ud83d\udc40 Useful argopy commands\n",
    "```python\n",
    "argopy.reset_options()\n",
    "argopy.show_options()\n",
    "argopy.status()\n",
    "argopy.clear_cache()\n",
    "argopy.show_versions()\n",
    "```\n",
    "#### \u2696\ufe0f License Information\n",
    "This Jupyter Notebook is licensed under the **European Union Public Licence (EUPL) v1.2**.\n",
    "\n",
    "| Permissions      | Limitations     | Conditions                     |\n",
    "|------------------|-----------------|--------------------------------|\n",
    "| \u2714 Commercial use | \u274c Liability     | \u24d8 License and copyright notice |\n",
    "| \u2714 Modification   | \u274c Trademark use | \u24d8 Disclose source              |\n",
    "| \u2714 Distribution   | \u274c Warranty      | \u24d8 State changes                |\n",
    "| \u2714 Patent use     |                  | \u24d8 Network use is distribution  |\n",
    "| \u2714 Private use    |                  | \u24d8 Same license                 |\n",
    "\n",
    "For more details, visit: [EUPL v1.2 Full Text](https://github.com/euroargodev/argopy-training/blob/main/LICENSE).\n",
    "\n",
    "#### \ud83e\udd1d Sponsor\n",
    "![logo](https://raw.githubusercontent.com/euroargodev/argopy-training/refs/heads/main/for_nb_producers/template_argopy_training_EAONE.png)",
    "\n***\n"
   ]
  }
 ],
 "metadata": {
  "kernelspec": {
   "display_name": "argopy-training",
   "language": "python",
   "name": "argopy-training"
  },
  "language_info": {
   "codemirror_mode": {
    "name": "ipython",
    "version": 3
   },
   "file_extension": ".py",
   "mimetype": "text/x-python",
   "name": "python",
   "nbconvert_exporter": "python",
   "pygments_lexer": "ipython3",
   "version": "3.11.13"
  },
  "widgets": {
   "application/vnd.jupyter.widget-state+json": {
    "state": {},
    "version_major": 2,
    "version_minor": 0
   }
  }
 },
 "nbformat": 4,
 "nbformat_minor": 5
}