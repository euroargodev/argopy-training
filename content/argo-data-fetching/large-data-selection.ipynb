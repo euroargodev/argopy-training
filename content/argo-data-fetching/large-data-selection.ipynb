{
 "cells": [
  {
   "attachments": {},
   "cell_type": "markdown",
   "id": "b1b9c837-bb0b-47f3-a756-9737fa99659d",
   "metadata": {
    "editable": true,
    "slideshow": {
     "slide_type": ""
    },
    "tags": []
   },
   "source": [
    "<img src=\"https://raw.githubusercontent.com/euroargodev/argopy/master/docs/_static/argopy_logo_long.png\" alt=\"argopy logo\" width=\"200\"/>\n",
    "\n",
    "# Training Camp - Sept 22<sup>th</sup> 2025\n",
    "\n",
    "***\n",
    "\n",
    "## Notebook Title : How to handle large data selection\n",
    "\n",
    "**Author contact : [G. Maze](https://annuaire.ifremer.fr/cv/17182)**\n",
    "\n",
    "**Description:**\n",
    "\n",
    "Often, one large data selection will fail with default options and arguments. This notebook provides tip and tricks to allow a large data selection to go through. In particular with:\n",
    "- caching, i.e. save your request locally so that you don\u2019t have to fetch it again,\n",
    "- parallelisation, i.e. fetch chunks of independent data simultaneously (e.g. with a Dask cluster for instance).\n",
    "\n",
    "All information about Argo data fetching performances can be found in the [dedicated section of the documentation](https://argopy.readthedocs.io/en/v1.3.0/advanced-tools/performances/index.html).\n",
    "\n",
    "\ud83c\udff7\ufe0f This notebook was developed with [Argopy version *1.3.0*](https://argopy.readthedocs.io/en/v1.3.0)\n",
    "\n",
    "\u00a9  [European Union Public Licence (EUPL) v1.2](https://github.com/euroargodev/argopy-training/blob/main/LICENSE), see at the bottom of this notebook for more.\n",
    "\n**Table of Contents**\n",
    "- [Use data caching](#use-data-caching)\n",
    "    - [\ud83d\udd0d Pro tip](#\ud83d\udd0d-pro-tip)\n",
    "- [Use parallelisation](#use-parallelisation)\n",
    "    - [\ud83d\udd0d Pro tip](#\ud83d\udd0d-pro-tip)\n",
    "    - [\u270f\ufe0f EXERCICE](#\u270f\ufe0f-exercice)\n",
    "    - [\ud83d\udedf Note](#\ud83d\udedf-note)\n",
    "- [\ud83c\udfc1 End of the notebook](#\ud83c\udfc1-end-of-the-notebook)\n",
    "    - [\ud83d\udc40 Useful argopy commands](#\ud83d\udc40-useful-argopy-commands)\n",
    "    - [\u2696\ufe0f License Information](#\u2696\ufe0f-license-information)\n",
    "    - [\ud83e\udd1d Sponsor](#\ud83e\udd1d-sponsor)\n",
    "***"
   ]
  },
  {
   "cell_type": "markdown",
   "id": "4253500e-9e2f-4a60-afeb-b236e1fd99f5",
   "metadata": {},
   "source": [
    "Let's start with the usual import:"
   ]
  },
  {
   "cell_type": "code",
   "execution_count": null,
   "id": "268b0572-2fcc-459d-ad8e-1589eeb24f84",
   "metadata": {
    "ExecuteTime": {
     "end_time": "2025-09-10T12:15:46.999853Z",
     "start_time": "2025-09-10T12:15:36.028341Z"
    }
   },
   "outputs": [],
   "source": [
    "from argopy import DataFetcher"
   ]
  },
  {
   "cell_type": "markdown",
   "id": "b70c7008-fa70-497f-9ae8-33cf697e5834",
   "metadata": {},
   "source": [
    "And to prevent cell output to be too large, we won't display xarray object attributes:"
   ]
  },
  {
   "cell_type": "code",
   "execution_count": null,
   "id": "48f25f46-fb21-40f2-90b7-0ee9d213fde6",
   "metadata": {
    "ExecuteTime": {
     "end_time": "2025-09-10T12:15:47.018041Z",
     "start_time": "2025-09-10T12:15:47.011900Z"
    }
   },
   "outputs": [],
   "source": [
    "import xarray as xr\n",
    "xr.set_options(display_expand_attrs = False)"
   ]
  },
  {
   "cell_type": "markdown",
   "id": "ae246407-88c4-4da2-904e-c9f524f31957",
   "metadata": {},
   "source": [
    "## Use data caching\n",
    "\n",
    "If you want to avoid retrieving the same data several times during a working session, especially if you fetch a large amount of data, you may want to temporarily save data in a cache file.\n",
    "\n",
    "All details are given in [this section of the documentation](https://argopy.readthedocs.io/en/v1.3.0/advanced-tools/performances/caching.html).\n",
    "\n",
    "You can cache fetched data with the [DataFetcher](https://argopy.readthedocs.io/en/v1.3.0/generated/argopy.fetchers.ArgoDataFetcher.html#argopy.fetchers.ArgoDataFetcher) option `cache`."
   ]
  },
  {
   "cell_type": "code",
   "execution_count": null,
   "id": "0124c95e-c691-4c3c-9a42-79ac3667aef6",
   "metadata": {},
   "outputs": [],
   "source": [
    "box = [15, 23, 35, 39, 0, 500, '2024-01', '2025-01']\n",
    "f = DataFetcher(cache=True).region(box)\n",
    "f"
   ]
  },
  {
   "cell_type": "markdown",
   "id": "c1b7d07c-adba-48a4-af38-358705ac6b17",
   "metadata": {},
   "source": [
    "<br> \n",
    "\n",
    "At this point, data are not loaded yet. So let's trigger download:"
   ]
  },
  {
   "cell_type": "code",
   "execution_count": null,
   "id": "0bdc45c7-cc89-4d7f-abba-a60c94f76da4",
   "metadata": {},
   "outputs": [],
   "source": [
    "%%time\n",
    "ds = f.to_xarray()\n",
    "ds.argo"
   ]
  },
  {
   "cell_type": "markdown",
   "id": "7fd28f03-1448-47dd-91d6-720265e50df1",
   "metadata": {},
   "source": [
    "<br>\n",
    "\n",
    "This took some time (about 40 seconds) because it was the first download.\n",
    "\n",
    "If we trigger again data download, because of the `cache` option, this should go faster:"
   ]
  },
  {
   "cell_type": "code",
   "execution_count": null,
   "id": "5418c9f8-ce05-4f79-84f5-519fae4b0c6c",
   "metadata": {},
   "outputs": [],
   "source": [
    "%%time\n",
    "ds = f.to_xarray()\n",
    "ds.argo"
   ]
  },
  {
   "cell_type": "markdown",
   "id": "88cf0f58-5f76-44df-9b72-a5f693852e97",
   "metadata": {},
   "source": [
    "#### \ud83d\udd0d Pro tip\n",
    "\n",
    "Cache data expire after 24h00. To clean up this [DataFetcher](https://argopy.readthedocs.io/en/v1.3.0/generated/argopy.fetchers.ArgoDataFetcher.html#argopy.fetchers.ArgoDataFetcher) cache, you can use:"
   ]
  },
  {
   "cell_type": "code",
   "execution_count": null,
   "id": "53b5a730-a242-42b8-bed0-31324a54b7aa",
   "metadata": {},
   "outputs": [],
   "source": [
    "f.clear_cache()"
   ]
  },
  {
   "cell_type": "markdown",
   "id": "e0ebfe41-8ef0-49c8-a67e-050e7f250dd0",
   "metadata": {},
   "source": [
    "And if you want to clear all Argopy cache data:"
   ]
  },
  {
   "cell_type": "code",
   "execution_count": null,
   "id": "3fd681e8-0df8-46ad-a75b-c4be8c4f47a9",
   "metadata": {},
   "outputs": [],
   "source": [
    "import argopy\n",
    "argopy.clear_cache()"
   ]
  },
  {
   "cell_type": "markdown",
   "id": "23c852c1-3044-47d7-923b-89844e82de12",
   "metadata": {
    "editable": true,
    "slideshow": {
     "slide_type": ""
    },
    "tags": []
   },
   "source": [
    "## Use parallelisation\n",
    "\n",
    "You can try to let argopy chunks your request into smaller pieces and have them fetched in parallel for you. This is done with the data fetcher argument, or global option, `parallel`.\n",
    "\n",
    "#### \ud83d\udd0d Pro tip\n",
    "\n",
    "- Parallelization can be tuned using arguments `chunks` and `chunks_maxsize`.\n",
    "- Use the argument `progress` to monitor how your data fetching is going."
   ]
  },
  {
   "cell_type": "markdown",
   "id": "924940a0-1f31-4747-9f2f-e9aa74559113",
   "metadata": {
    "editable": true,
    "slideshow": {
     "slide_type": ""
    },
    "tags": []
   },
   "source": [
    "<br>\n",
    "\n",
    "To get started, let's make sure we have a data request that can't get through without optimisation, i.e. that a default fetcher will fail:"
   ]
  },
  {
   "cell_type": "code",
   "execution_count": null,
   "id": "77627e48-38c7-469f-9d3e-479c1de5e5ec",
   "metadata": {
    "editable": true,
    "slideshow": {
     "slide_type": ""
    },
    "tags": []
   },
   "outputs": [],
   "source": [
    "argopy.set_options(erddap='https://erddap-test1.ifremer.fr/erddap')\n",
    "\n",
    "box = [15, 23, 35, 39, 0, 500, '2015-01', '2025-01']\n",
    "f = DataFetcher().region(box)\n",
    "try:\n",
    "    ds = f.to_xarray()\n",
    "    print(ds.argo)\n",
    "except:\n",
    "    print('\u274c This fails')"
   ]
  },
  {
   "cell_type": "markdown",
   "id": "582748e2-0cd5-4e03-b7af-354c306dd8c2",
   "metadata": {},
   "source": [
    "<br>\n",
    "\n",
    "We can now try parallelisation:"
   ]
  },
  {
   "cell_type": "code",
   "execution_count": null,
   "id": "da8d1323-aee6-4af8-b20c-d840ed8fa61d",
   "metadata": {},
   "outputs": [],
   "source": [
    "f = DataFetcher(parallel=True, progress=True).region(box)\n",
    "f"
   ]
  },
  {
   "cell_type": "markdown",
   "id": "dfd27074-f96f-43f6-96d8-3134db669f3e",
   "metadata": {},
   "source": [
    "<br>\n",
    "\n",
    "And see that data fetching is now possible (this can take up to 3mins):"
   ]
  },
  {
   "cell_type": "code",
   "execution_count": null,
   "id": "14b5aec3-69a6-412f-b47a-8f1b126b583b",
   "metadata": {},
   "outputs": [],
   "source": [
    "%%time\n",
    "ds = f.to_xarray()\n",
    "ds.argo"
   ]
  },
  {
   "cell_type": "markdown",
   "id": "d755d7f7-aa73-49e9-914c-bc6747cde9b2",
   "metadata": {},
   "source": [
    "#### \u270f\ufe0f EXERCICE\n",
    "\n",
    "Reduce the size of the box for demonstration purposes, and increase the number of chunks to check how performances are modified.\n",
    "\n",
    "\ud83d\udca1 Code hint:\n",
    "```python\n",
    "f = DataFetcher(parallel=True, progress=True,\n",
    "                chunks_maxsize={'dpt': 100})\n",
    "```"
   ]
  },
  {
   "cell_type": "code",
   "execution_count": null,
   "id": "b52e9752-be96-4b0f-9416-21fce284877a",
   "metadata": {},
   "outputs": [],
   "source": [
    "# Your code here"
   ]
  },
  {
   "cell_type": "markdown",
   "id": "d77263b7-cca9-456c-a3b9-d91e78319db2",
   "metadata": {},
   "source": [
    "#### \ud83d\udedf Note\n",
    "\n",
    "Parallelisation may requires some tuning because of the balance to find between the chunking overhead, the size/number of chunks and the response time of the Argo GDAC server.\n",
    "\n",
    "We noticed some limitations to how we can improve data fetching of Argo data. They are explained in [this section of the documentation](https://argopy.readthedocs.io/en/v1.3.0/advanced-tools/performances/index.html#limitations)."
   ]
  },
  {
   "cell_type": "markdown",
   "id": "eac001fa-0f9e-46d1-a698-9723edf83e18",
   "metadata": {
    "editable": false,
    "slideshow": {
     "slide_type": ""
    },
    "tags": [
     "disclaimer"
    ]
   },
   "source": [
    "## \ud83c\udfc1 End of the notebook\n",
    "\n***\n",
    "#### \ud83d\udc40 Useful argopy commands\n",
    "```python\n",
    "argopy.reset_options()\n",
    "argopy.show_options()\n",
    "argopy.status()\n",
    "argopy.clear_cache()\n",
    "argopy.show_versions()\n",
    "```\n",
    "#### \u2696\ufe0f License Information\n",
    "This Jupyter Notebook is licensed under the **European Union Public Licence (EUPL) v1.2**.\n",
    "\n",
    "| Permissions      | Limitations     | Conditions                     |\n",
    "|------------------|-----------------|--------------------------------|\n",
    "| \u2714 Commercial use | \u274c Liability     | \u24d8 License and copyright notice |\n",
    "| \u2714 Modification   | \u274c Trademark use | \u24d8 Disclose source              |\n",
    "| \u2714 Distribution   | \u274c Warranty      | \u24d8 State changes                |\n",
    "| \u2714 Patent use     |                  | \u24d8 Network use is distribution  |\n",
    "| \u2714 Private use    |                  | \u24d8 Same license                 |\n",
    "\n",
    "For more details, visit: [EUPL v1.2 Full Text](https://github.com/euroargodev/argopy-training/blob/main/LICENSE).\n",
    "\n",
    "#### \ud83e\udd1d Sponsor\n",
    "![logo](https://raw.githubusercontent.com/euroargodev/argopy-training/refs/heads/main/for_nb_producers/template_argopy_training_EAONE.png)",
    "\n***\n"
   ]
  }
 ],
 "metadata": {
  "kernelspec": {
   "display_name": "argopy-training",
   "language": "python",
   "name": "argopy-training"
  },
  "language_info": {
   "codemirror_mode": {
    "name": "ipython",
    "version": 3
   },
   "file_extension": ".py",
   "mimetype": "text/x-python",
   "name": "python",
   "nbconvert_exporter": "python",
   "pygments_lexer": "ipython3",
   "version": "3.11.13"
  },
  "widgets": {
   "application/vnd.jupyter.widget-state+json": {
    "state": {},
    "version_major": 2,
    "version_minor": 0
   }
  }
 },
 "nbformat": 4,
 "nbformat_minor": 5
}