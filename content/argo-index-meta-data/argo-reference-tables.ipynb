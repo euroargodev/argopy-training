{
 "cells": [
  {
   "attachments": {},
   "cell_type": "markdown",
   "id": "b1b9c837-bb0b-47f3-a756-9737fa99659d",
   "metadata": {
    "editable": true,
    "slideshow": {
     "slide_type": ""
    },
    "tags": []
   },
   "source": [
    "<img src=\"https://raw.githubusercontent.com/euroargodev/argopy/master/docs/_static/argopy_logo_long.png\" alt=\"argopy logo\" width=\"200\"/>\n",
    "\n",
    "# Training Camp - Sept 22<sup>th</sup> 2025\n",
    "\n",
    "***\n",
    "\n",
    "## Notebook Title : Argo reference tables for vocabulary\n",
    "\n",
    "**Author contact : [G. Maze](https://annuaire.ifremer.fr/cv/17182)**\n",
    "\n",
    "**Description:**\n",
    "\n",
    "This notebook will show how to access Argo reference tables, as returned by the dedicated NVS vocabulary server:\n",
    "- How to load one reference table,\n",
    "- Look for a reference table,\n",
    "- Load all tables.\n",
    "\n",
    "Argo reference tables are used to enforce a controlled vocabulary for Argo meta-data content and parameter attributes, like the description of quality control flags or sensor names.\n",
    "\n",
    "The [dedicated Argopy documentation page is here](https://argopy.readthedocs.io/en/v1.3.0/advanced-tools/metadata/nvs_ref_tables.html).\n",
    "\n",
    "\ud83c\udff7\ufe0f This notebook was developed with [Argopy version *1.3.0*](https://argopy.readthedocs.io/en/v1.3.0)\n",
    "\n",
    "\u00a9  [European Union Public Licence (EUPL) v1.2](https://github.com/euroargodev/argopy-training/blob/main/LICENSE), see at the bottom of this notebook for more.\n",
    "\n**Table of Contents**\n",
    "- [Load one reference table](#load-one-reference-table)\n",
    "    - [\u270f\ufe0f EXERCICE](#\u270f\ufe0f-exercice)\n",
    "- [Search for a reference table](#search-for-a-reference-table)\n",
    "    - [\u270f\ufe0f EXERCICE](#\u270f\ufe0f-exercice)\n",
    "- [Load all tables](#load-all-tables)\n",
    "  - [Tables description](#tables-description)\n",
    "  - [Tables content](#tables-content)\n",
    "- [\ud83d\udd0d Pro tip](#\ud83d\udd0d-pro-tip)\n",
    "- [\ud83c\udfc1 End of the notebook](#\ud83c\udfc1-end-of-the-notebook)\n",
    "    - [\ud83d\udc40 Useful argopy commands](#\ud83d\udc40-useful-argopy-commands)\n",
    "    - [\u2696\ufe0f License Information](#\u2696\ufe0f-license-information)\n",
    "    - [\ud83e\udd1d Sponsor](#\ud83e\udd1d-sponsor)\n",
    "***"
   ]
  },
  {
   "cell_type": "markdown",
   "id": "4253500e-9e2f-4a60-afeb-b236e1fd99f5",
   "metadata": {
    "editable": true,
    "slideshow": {
     "slide_type": ""
    },
    "tags": []
   },
   "source": [
    "Let's start with the import of the Argopy dedicated class: [ArgoNVSReferenceTables](https://argopy.readthedocs.io/en/v1.3.0/generated/argopy.related.ArgoNVSReferenceTables.html#argopy.related.ArgoNVSReferenceTables)"
   ]
  },
  {
   "cell_type": "code",
   "execution_count": null,
   "id": "268b0572-2fcc-459d-ad8e-1589eeb24f84",
   "metadata": {},
   "outputs": [],
   "source": [
    "from argopy import ArgoNVSReferenceTables"
   ]
  },
  {
   "cell_type": "markdown",
   "id": "573421fe-c784-4f80-9ae5-4f8a983b4c7c",
   "metadata": {},
   "source": [
    "## Load one reference table\n",
    "\n",
    "Provided that you already know some reference table ID, you can load it as a [Pandas Dataframe](https://pandas.pydata.org/docs/reference/frame.html).\n",
    "\n",
    "We first create an instance of the NVS reference table fetcher:"
   ]
  },
  {
   "cell_type": "code",
   "execution_count": null,
   "id": "374c5c43-2d85-4cd4-9fee-ea76eafb6c4b",
   "metadata": {},
   "outputs": [],
   "source": [
    "NVS = ArgoNVSReferenceTables()\n",
    "NVS"
   ]
  },
  {
   "cell_type": "markdown",
   "id": "d1255d9b-62cf-441c-a5a0-6d5377ca5523",
   "metadata": {},
   "source": [
    "<br>\n",
    "\n",
    "As an example, let's load the `RR2` table about *Quality flag scale for real-time measurements*:"
   ]
  },
  {
   "cell_type": "code",
   "execution_count": null,
   "id": "9ee76ffb-0b6e-477a-98d8-e7dc384fdaf0",
   "metadata": {},
   "outputs": [],
   "source": [
    "df = NVS.tbl('RR2')\n",
    "df"
   ]
  },
  {
   "cell_type": "markdown",
   "id": "8ee9869d-1e16-4a12-9920-55069e56993e",
   "metadata": {},
   "source": [
    "<br>\n",
    "\n",
    "As you can see, the table is not necessarily sorted by the most appropriate key, \n",
    "\n",
    "so let's sort this one by the numerical value of QC flags:"
   ]
  },
  {
   "cell_type": "code",
   "execution_count": null,
   "id": "b723bfb2-d02a-4928-8da9-f077d3d90947",
   "metadata": {},
   "outputs": [],
   "source": [
    "df.sort_values(by='altLabel')"
   ]
  },
  {
   "cell_type": "markdown",
   "id": "b3d906b4-6d21-464b-97ca-a6fd5c27e830",
   "metadata": {},
   "source": [
    "<br>\n",
    "\n",
    "The ADMT description of the reference table can be retrieved using the `tbl_name` method:"
   ]
  },
  {
   "cell_type": "code",
   "execution_count": null,
   "id": "c48dedf8-a4e3-4fce-b333-299362fa2b5f",
   "metadata": {},
   "outputs": [],
   "source": [
    "NVS.tbl_name('RR2')"
   ]
  },
  {
   "cell_type": "markdown",
   "id": "cdb457aa-b74d-4c7e-8e5e-7a22fa126c87",
   "metadata": {
    "editable": true,
    "slideshow": {
     "slide_type": ""
    },
    "tags": []
   },
   "source": [
    "#### \u270f\ufe0f EXERCICE\n",
    "\n",
    "Retrieve the reference table listing all Argo possible parameter name, `R03`. How many are they ?"
   ]
  },
  {
   "cell_type": "code",
   "execution_count": null,
   "id": "36c08a8d-fbe8-4b99-b6ee-0ed628f0c907",
   "metadata": {
    "editable": true,
    "slideshow": {
     "slide_type": ""
    },
    "tags": []
   },
   "outputs": [],
   "source": [
    "# Your code"
   ]
  },
  {
   "cell_type": "markdown",
   "id": "4bfe7224-1e73-4c9d-ac5d-d72d8555b09d",
   "metadata": {},
   "source": [
    "## Search for a reference table\n",
    "\n",
    "It may also be the case where you don't know the reference table ID you are interested in.\n",
    "\n",
    "The [ArgoNVSReferenceTables](https://argopy.readthedocs.io/en/v1.3.0/generated/argopy.related.ArgoNVSReferenceTables.html#argopy.related.ArgoNVSReferenceTables) class allows to search for a word in tables title and/or description.\n",
    "\n",
    "Let's take an example whereby we'd like to get the reference table for sensor models:"
   ]
  },
  {
   "cell_type": "code",
   "execution_count": null,
   "id": "6bda60e7-c7ee-40d5-b300-a0da84c4b2f3",
   "metadata": {},
   "outputs": [],
   "source": [
    "id_list = NVS.search('sensor')\n",
    "id_list"
   ]
  },
  {
   "cell_type": "markdown",
   "id": "4e4ed42a-732a-4bcc-9067-519d6e1d6f6a",
   "metadata": {},
   "source": [
    "<br>\n",
    "\n",
    "From the list of ID matches, you can get table names to easily identify the one you are interested in:"
   ]
  },
  {
   "cell_type": "code",
   "execution_count": null,
   "id": "efb51d5d-225b-4bd8-af09-eaf4216860ce",
   "metadata": {},
   "outputs": [],
   "source": [
    "[(id, NVS.tbl_name(id)) for id in id_list]"
   ]
  },
  {
   "cell_type": "markdown",
   "id": "8cae8a18-b143-4e3e-b596-03508df3b745",
   "metadata": {},
   "source": [
    "<br>\n",
    "\n",
    "`R27` is the reference table we were looking for:"
   ]
  },
  {
   "cell_type": "code",
   "execution_count": null,
   "id": "59bb3c43-92fe-4509-8743-f5b5e19b4bb2",
   "metadata": {},
   "outputs": [],
   "source": [
    "NVS.tbl('R27')"
   ]
  },
  {
   "cell_type": "markdown",
   "id": "1ffce45a-df45-4080-9f76-988cc1218d12",
   "metadata": {},
   "source": [
    "#### \u270f\ufe0f EXERCICE\n",
    "\n",
    "Identify the reference table for all Argo possible data centres. Then get the long description for BSH."
   ]
  },
  {
   "cell_type": "code",
   "execution_count": null,
   "id": "dbde38ff-32bd-4858-b6ac-c9255ad6f531",
   "metadata": {},
   "outputs": [],
   "source": [
    "# Your code here"
   ]
  },
  {
   "cell_type": "markdown",
   "id": "656cca50-b27c-41e2-8d89-31c1bf816edc",
   "metadata": {},
   "source": [
    "## Load all tables\n",
    "\n",
    "The [ArgoNVSReferenceTables](https://argopy.readthedocs.io/en/v1.3.0/generated/argopy.related.ArgoNVSReferenceTables.html#argopy.related.ArgoNVSReferenceTables) class allows to load all tables content or names at once."
   ]
  },
  {
   "cell_type": "markdown",
   "id": "b9d5bf29-e08a-43e1-bb3f-d1f47032fc26",
   "metadata": {},
   "source": [
    "### Tables description\n",
    "Before loading all tables, you can also look at all table names:"
   ]
  },
  {
   "cell_type": "code",
   "execution_count": null,
   "id": "647c9131-949f-4010-9e82-6530920ffd87",
   "metadata": {},
   "outputs": [],
   "source": [
    "ArgoNVSReferenceTables().all_tbl_name"
   ]
  },
  {
   "cell_type": "markdown",
   "id": "e3639f3c-414e-4f9f-9e6f-2904d7e6cddb",
   "metadata": {},
   "source": [
    "### Tables content\n",
    "\n",
    "And the brut download of everything can be done through the `all_tbl` property:"
   ]
  },
  {
   "cell_type": "code",
   "execution_count": null,
   "id": "ddc3110d-b352-4dee-8927-4a5b9aeaf961",
   "metadata": {},
   "outputs": [],
   "source": [
    "ArgoNVSReferenceTables().all_tbl"
   ]
  },
  {
   "cell_type": "markdown",
   "id": "76688cb2-3f30-47d4-b4c9-3d384818553b",
   "metadata": {
    "editable": true,
    "slideshow": {
     "slide_type": ""
    },
    "tags": []
   },
   "source": [
    "## \ud83d\udd0d Pro tip\n",
    "\n",
    "You can use cache to make faster loading of the reference tables."
   ]
  },
  {
   "cell_type": "code",
   "execution_count": null,
   "id": "e6fe734a-e28f-4b52-8277-2a7b5ebe3391",
   "metadata": {
    "editable": true,
    "slideshow": {
     "slide_type": ""
    },
    "tags": []
   },
   "outputs": [],
   "source": [
    "NVS = ArgoNVSReferenceTables(cache=True)\n",
    "NVS.all_tbl.keys()"
   ]
  },
  {
   "cell_type": "markdown",
   "id": "873f5d53-0baa-43f8-8124-152820ace785",
   "metadata": {
    "tags": [
     "disclaimer"
    ],
    "editable": false
   },
   "source": [
    "## \ud83c\udfc1 End of the notebook\n",
    "\n***\n",
    "#### \ud83d\udc40 Useful argopy commands\n",
    "```python\n",
    "argopy.reset_options()\n",
    "argopy.show_options()\n",
    "argopy.status()\n",
    "argopy.clear_cache()\n",
    "argopy.show_versions()\n",
    "```\n",
    "#### \u2696\ufe0f License Information\n",
    "This Jupyter Notebook is licensed under the **European Union Public Licence (EUPL) v1.2**.\n",
    "\n",
    "| Permissions      | Limitations     | Conditions                     |\n",
    "|------------------|-----------------|--------------------------------|\n",
    "| \u2714 Commercial use | \u274c Liability     | \u24d8 License and copyright notice |\n",
    "| \u2714 Modification   | \u274c Trademark use | \u24d8 Disclose source              |\n",
    "| \u2714 Distribution   | \u274c Warranty      | \u24d8 State changes                |\n",
    "| \u2714 Patent use     |                  | \u24d8 Network use is distribution  |\n",
    "| \u2714 Private use    |                  | \u24d8 Same license                 |\n",
    "\n",
    "For more details, visit: [EUPL v1.2 Full Text](https://github.com/euroargodev/argopy-training/blob/main/LICENSE).\n",
    "\n",
    "#### \ud83e\udd1d Sponsor\n",
    "![logo](https://raw.githubusercontent.com/euroargodev/argopy-training/refs/heads/main/for_nb_producers/template_argopy_training_EAONE.png)",
    "\n***\n"
   ]
  }
 ],
 "metadata": {
  "kernelspec": {
   "display_name": "argopy-training",
   "language": "python",
   "name": "argopy-training"
  },
  "language_info": {
   "codemirror_mode": {
    "name": "ipython",
    "version": 3
   },
   "file_extension": ".py",
   "mimetype": "text/x-python",
   "name": "python",
   "nbconvert_exporter": "python",
   "pygments_lexer": "ipython3",
   "version": "3.11.13"
  },
  "widgets": {
   "application/vnd.jupyter.widget-state+json": {
    "state": {},
    "version_major": 2,
    "version_minor": 0
   }
  }
 },
 "nbformat": 4,
 "nbformat_minor": 5
}